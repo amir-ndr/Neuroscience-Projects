{
 "cells": [
  {
   "cell_type": "markdown",
   "id": "2503561b-d886-41df-8cb0-bf0463805c78",
   "metadata": {},
   "source": [
    "# IMPORTS"
   ]
  },
  {
   "cell_type": "code",
   "execution_count": 2,
   "id": "0418782b-1af8-4630-a5d8-8f78c81010ea",
   "metadata": {},
   "outputs": [],
   "source": [
    "import torch\n",
    "import torch.nn as nn\n",
    "from pymonntorch import Behavior, SynapseGroup, Network, NeuronGroup, Recorder, EventRecorder\n",
    "import matplotlib.pyplot as plt\n",
    "import seaborn as sns\n",
    "import plotly.express\n",
    "import numpy as np\n",
    "from matplotlib.pyplot import  Button, Slider"
   ]
  },
  {
   "cell_type": "markdown",
   "id": "dd1a0afd-7240-48fc-a470-37898e86bc34",
   "metadata": {},
   "source": [
    "# Izhikevich initialization and firing"
   ]
  },
  {
   "cell_type": "code",
   "execution_count": 3,
   "id": "f2f1657f-c85f-4d4e-ba25-a8bf829262db",
   "metadata": {},
   "outputs": [],
   "source": [
    "class Izhikevich(Behavior):\n",
    "    \n",
    "    def initialize(self, neurons):\n",
    "        super().initialize(neurons)\n",
    "        self.add_tag(\"Izhikevich\")\n",
    "        self.set_parameters_as_variables(neurons)\n",
    "        neurons.a *= neurons.vector('ones')\n",
    "        neurons.b *= neurons.vector('ones')\n",
    "        neurons.c *= neurons.vector('ones')\n",
    "        neurons.d *= neurons.vector('ones')\n",
    "        neurons.v = neurons.vector(mode=\"ones\") * neurons.v_rest\n",
    "        neurons.I = neurons.vector(mode=\"zeros\")\n",
    "        neurons.spikes = neurons.vector(mode=\"zeros\")\n",
    "        neurons.membrane_recovery = neurons.vector(mode=\"ones\") * neurons.u\n",
    "        \n",
    "    def _dv_dt(self, neurons):\n",
    "        # quad = torch.pow(neurons.v, 2)\n",
    "        # print(neurons.I)\n",
    "        res = neurons.dt * (0.04 * neurons.v**2 + 5*neurons.v + 140 - neurons.membrane_recovery + neurons.I)\n",
    "        return res\n",
    "    \n",
    "    def _du_dt(self, neurons):\n",
    "        return neurons.dt * (neurons.a * (neurons.b * neurons.v - neurons.membrane_recovery))\n",
    "    \n",
    "    def _fire(self, neurons):\n",
    "        # neurons.spikes = neurons.v >= 30.\n",
    "        neurons.v[neurons.spikes] = neurons.c[neurons.spikes]\n",
    "        neurons.membrane_recovery[neurons.spikes] += neurons.d[neurons.spikes]\n",
    "        \n",
    "    def forward(self, neurons):\n",
    "        # neurons.I = neurons.E_I[neurons.iteration-1]\n",
    "        neurons.spikes = neurons.v >= 30.\n",
    "        if torch.sum(neurons.spikes) > 0:\n",
    "            self._fire(neurons)\n",
    "        # self._fire(neurons)\n",
    "        neurons.v += self._dv_dt(neurons) #* neurons.dt\n",
    "        neurons.membrane_recovery += self._du_dt(neurons) #* neurons.dt\n",
    "        \n",
    "        # return neurons.v"
   ]
  },
  {
   "cell_type": "markdown",
   "id": "5ee41e00-b2c1-43e0-a076-10bc386c8563",
   "metadata": {},
   "source": [
    "# Izhikevich updating current and construct weights"
   ]
  },
  {
   "cell_type": "code",
   "execution_count": 4,
   "id": "767dc0b3-de8f-4059-9ca6-ddeea2bece61",
   "metadata": {},
   "outputs": [],
   "source": [
    "class Izhikevich_input(Behavior):              \n",
    "\n",
    "    def initialize(self, neurons):\n",
    "        super().initialize(neurons)\n",
    "        for synapse in neurons.afferent_synapses['All']:\n",
    "            synapse.W = synapse.matrix(mode='uniform')\n",
    "            # print(synapse.W)\n",
    "            synapse.enabled = synapse.W > 0\n",
    "    \n",
    "    def _get_spikes(self, synapse):\n",
    "        spikes = synapse.src.spikes.float()\n",
    "        # print(spikes)\n",
    "        return torch.matmul(synapse.W, spikes)\n",
    "\n",
    "    def forward(self, neurons):\n",
    "        neurons.I = neurons.E_I[neurons.iteration-1]\n",
    "        for synapse in neurons.afferent_synapses['GLUTAMATE']: \n",
    "            # print(self._get_spikes(synapse))\n",
    "            # print(synapse.src.size)\n",
    "            neurons.I += 0.5*(self._get_spikes(synapse) / synapse.src.size )"
   ]
  },
  {
   "cell_type": "code",
   "execution_count": 6,
   "id": "3370c904-7530-4e71-aa0f-01d5c9928d99",
   "metadata": {},
   "outputs": [],
   "source": [
    "EXC_SIZE = 1\n",
    "INH_SIZE = EXC_SIZE // 4\n",
    "ITER = 1000\n",
    "torch.manual_seed(42)\n",
    "MEAN_I = 20.\n",
    "STD_I = 3.\n",
    "I_EXC_NOISE = torch.normal(mean=MEAN_I, std=STD_I, size=(ITER,EXC_SIZE))  #noise\n",
    "# I_EXC_NOISE = torch.rand(ITER,EXC_SIZE) * 5\n",
    "I_EXC_STEP = torch.zeros(size=(ITER,EXC_SIZE))\n",
    "\n",
    "# I_EXC_STEP[:150] = -4.\n",
    "# I_EXC_STEP[150:500,:] = 10.\n",
    "# I_EXC_STEP[500:,:] = 17.\n",
    "I_EXC_STEP[150:750,:] = 15.\n",
    "# I_EXC_STEP[400:500,:] = 2."
   ]
  },
  {
   "cell_type": "markdown",
   "id": "54bc4730-20ca-4807-8601-4d3e99e54fef",
   "metadata": {},
   "source": [
    "# Input current plot"
   ]
  },
  {
   "cell_type": "code",
   "execution_count": 7,
   "id": "f2195b1e-d78f-4791-9f23-c0aeb56f469d",
   "metadata": {},
   "outputs": [
    {
     "data": {
      "image/png": "[encoded data removed]",
      "text/plain": [
       "<Figure size 432x288 with 1 Axes>"
      ]
     },
     "metadata": {
      "needs_background": "light"
     },
     "output_type": "display_data"
    }
   ],
   "source": [
    "plt.plot(I_EXC_NOISE)\n",
    "plt.xlabel(\"time\")\n",
    "plt.ylabel(\"I\")\n",
    "plt.title(\"input current\")\n",
    "plt.show()"
   ]
  },
  {
   "cell_type": "markdown",
   "id": "7d558981-f66f-45e8-ae5b-061480712527",
   "metadata": {},
   "source": [
    "# parameter setting"
   ]
  },
  {
   "cell_type": "code",
   "execution_count": 11,
   "id": "14fed215-9f75-438c-93b7-c0790113c605",
   "metadata": {},
   "outputs": [],
   "source": [
    "# U_INIT = torch.ones(EXC_SIZE) * -15.\n",
    "# U_INIT[0] = -15.\n",
    "EXC_PARAMS = {\"c\" : -65.0,\n",
    "    \"E_I\" : I_EXC_NOISE,\n",
    "    \"a\": 0.01,\n",
    "    \"b\": 0.2,\n",
    "    \"d\": 8,\n",
    "    \"dt\": 0.5,\n",
    "    \"u\": -8.,\n",
    "    \"v_rest\": -65.,\n",
    "}\n",
    "\n",
    "INH_PARAMS = {\"c\" : -65.0,\n",
    "    \"E_I\" : torch.zeros(size=(ITER, INH_SIZE)),\n",
    "    \"a\": 0.02,\n",
    "    \"b\": 0.2,\n",
    "    \"d\": 8.,\n",
    "    \"dt\": 0.5,\n",
    "    \"u\": -8.,\n",
    "    \"v_rest\": -65.,\n",
    "}"
   ]
  },
  {
   "cell_type": "markdown",
   "id": "b27cbc24-f6c0-45b3-aad0-0417154d6006",
   "metadata": {},
   "source": [
    "# construct network, neuron group and synapse group"
   ]
  },
  {
   "cell_type": "code",
   "execution_count": null,
   "id": "8e57bae0-5214-45b8-a51e-381aa3edcaf5",
   "metadata": {},
   "outputs": [],
   "source": [
    "net = Network()\n",
    "ng_exc = NeuronGroup(\n",
    "    net=net,\n",
    "    size=EXC_SIZE,\n",
    "    tag=\"exc_neurons\",\n",
    "    behavior={\n",
    "        1: Izhikevich(**EXC_PARAMS),\n",
    "        2: Izhikevich_input(),\n",
    "        9: Recorder([\"n.v\", \"torch.mean(n.v)\", \"n.I\", \"n.membrane_recovery\"], auto_annotate=False),\n",
    "        10: EventRecorder([\"spikes\"]),\n",
    "    },\n",
    ")\n",
    "\n",
    "ng_inh = NeuronGroup(\n",
    "    net=net,\n",
    "    size=INH_SIZE,\n",
    "    tag=\"inh_neurons\",\n",
    "    behavior={\n",
    "        1: Izhikevich(**INH_PARAMS),\n",
    "        2: Izhikevich_input(),\n",
    "        9: Recorder([\"n.v\", \"torch.mean(n.v)\", \"n.I\", \"n.membrane_recovery\"], auto_annotate=False),\n",
    "        10: EventRecorder([\"spikes\"]),\n",
    "    },\n",
    ")\n",
    "\n",
    "SynapseGroup(src=ng_exc, dst=ng_exc, net=net, tag=\"GLUTAMATE\")\n",
    "# SynapseGroup(src=ng_exc, dst=ng_inh, net=net, tag=\"GLUTAMATE\")\n",
    "# SynapseGroup(src=ng_inh, dst=ng_exc, net=net, tag=\"GABA\")\n",
    "\n",
    "net.initialize()\n",
    "net.simulate_iterations(ITER)"
   ]
  },
  {
   "cell_type": "markdown",
   "id": "ec5de983-be18-4139-82b9-ee9737b6186a",
   "metadata": {},
   "source": [
    "# plot spikes for the neuron(s)"
   ]
  },
  {
   "cell_type": "code",
   "execution_count": 13,
   "id": "512fdec2-6d35-43cd-a125-17474ad947b5",
   "metadata": {},
   "outputs": [
    {
     "data": {
      "application/vnd.plotly.v1+json": {
       "config": {
        "plotlyServerURL": "https://plot.ly"
       },
       "data": [
        {
         "hovertemplate": "x=%{x}<br>y=%{y}<extra></extra>",
         "legendgroup": "",
         "marker": {
          "color": "#636efa",
          "symbol": "circle"
         },
         "mode": "markers",
         "name": "",
         "orientation": "v",
         "showlegend": false,
         "type": "scatter",
         "x": [
          8,
          21,
          76,
          159,
          247,
          343,
          427,
          517,
          609,
          698,
          772,
          859,
          940
         ],
         "xaxis": "x",
         "y": [
          0,
          0,
          0,
          0,
          0,
          0,
          0,
          0,
          0,
          0,
          0,
          0,
          0
         ],
         "yaxis": "y"
        }
       ],
       "layout": {
        "autosize": true,
        "legend": {
         "tracegroupgap": 0
        },
        "margin": {
         "t": 60
        },
        "template": {
         "data": {
          "bar": [
           {
            "error_x": {
             "color": "#2a3f5f"
            },
            "error_y": {
             "color": "#2a3f5f"
            },
            "marker": {
             "line": {
              "color": "#E5ECF6",
              "width": 0.5
             },
             "pattern": {
              "fillmode": "overlay",
              "size": 10,
              "solidity": 0.2
             }
            },
            "type": "bar"
           }
          ],
          "barpolar": [
           {
            "marker": {
             "line": {
              "color": "#E5ECF6",
              "width": 0.5
             },
             "pattern": {
              "fillmode": "overlay",
              "size": 10,
              "solidity": 0.2
             }
            },
            "type": "barpolar"
           }
          ],
          "carpet": [
           {
            "aaxis": {
             "endlinecolor": "#2a3f5f",
             "gridcolor": "white",
             "linecolor": "white",
             "minorgridcolor": "white",
             "startlinecolor": "#2a3f5f"
            },
            "baxis": {
             "endlinecolor": "#2a3f5f",
             "gridcolor": "white",
             "linecolor": "white",
             "minorgridcolor": "white",
             "startlinecolor": "#2a3f5f"
            },
            "type": "carpet"
           }
          ],
          "choropleth": [
           {
            "colorbar": {
             "outlinewidth": 0,
             "ticks": ""
            },
            "type": "choropleth"
           }
          ],
          "contour": [
           {
            "colorbar": {
             "outlinewidth": 0,
             "ticks": ""
            },
            "colorscale": [
             [
              0,
              "#0d0887"
             ],
             [
              0.1111111111111111,
              "#46039f"
             ],
             [
              0.2222222222222222,
              "#7201a8"
             ],
             [
              0.3333333333333333,
              "#9c179e"
             ],
             [
              0.4444444444444444,
              "#bd3786"
             ],
             [
              0.5555555555555556,
              "#d8576b"
             ],
             [
              0.6666666666666666,
              "#ed7953"
             ],
             [
              0.7777777777777778,
              "#fb9f3a"
             ],
             [
              0.8888888888888888,
              "#fdca26"
             ],
             [
              1,
              "#f0f921"
             ]
            ],
            "type": "contour"
           }
          ],
          "contourcarpet": [
           {
            "colorbar": {
             "outlinewidth": 0,
             "ticks": ""
            },
            "type": "contourcarpet"
           }
          ],
          "heatmap": [
           {
            "colorbar": {
             "outlinewidth": 0,
             "ticks": ""
            },
            "colorscale": [
             [
              0,
              "#0d0887"
             ],
             [
              0.1111111111111111,
              "#46039f"
             ],
             [
              0.2222222222222222,
              "#7201a8"
             ],
             [
              0.3333333333333333,
              "#9c179e"
             ],
             [
              0.4444444444444444,
              "#bd3786"
             ],
             [
              0.5555555555555556,
              "#d8576b"
             ],
             [
              0.6666666666666666,
              "#ed7953"
             ],
             [
              0.7777777777777778,
              "#fb9f3a"
             ],
             [
              0.8888888888888888,
              "#fdca26"
             ],
             [
              1,
              "#f0f921"
             ]
            ],
            "type": "heatmap"
           }
          ],
          "heatmapgl": [
           {
            "colorbar": {
             "outlinewidth": 0,
             "ticks": ""
            },
            "colorscale": [
             [
              0,
              "#0d0887"
             ],
             [
              0.1111111111111111,
              "#46039f"
             ],
             [
              0.2222222222222222,
              "#7201a8"
             ],
             [
              0.3333333333333333,
              "#9c179e"
             ],
             [
              0.4444444444444444,
              "#bd3786"
             ],
             [
              0.5555555555555556,
              "#d8576b"
             ],
             [
              0.6666666666666666,
              "#ed7953"
             ],
             [
              0.7777777777777778,
              "#fb9f3a"
             ],
             [
              0.8888888888888888,
              "#fdca26"
             ],
             [
              1,
              "#f0f921"
             ]
            ],
            "type": "heatmapgl"
           }
          ],
          "histogram": [
           {
            "marker": {
             "pattern": {
              "fillmode": "overlay",
              "size": 10,
              "solidity": 0.2
             }
            },
            "type": "histogram"
           }
          ],
          "histogram2d": [
           {
            "colorbar": {
             "outlinewidth": 0,
             "ticks": ""
            },
            "colorscale": [
             [
              0,
              "#0d0887"
             ],
             [
              0.1111111111111111,
              "#46039f"
             ],
             [
              0.2222222222222222,
              "#7201a8"
             ],
             [
              0.3333333333333333,
              "#9c179e"
             ],
             [
              0.4444444444444444,
              "#bd3786"
             ],
             [
              0.5555555555555556,
              "#d8576b"
             ],
             [
              0.6666666666666666,
              "#ed7953"
             ],
             [
              0.7777777777777778,
              "#fb9f3a"
             ],
             [
              0.8888888888888888,
              "#fdca26"
             ],
             [
              1,
              "#f0f921"
             ]
            ],
            "type": "histogram2d"
           }
          ],
          "histogram2dcontour": [
           {
            "colorbar": {
             "outlinewidth": 0,
             "ticks": ""
            },
            "colorscale": [
             [
              0,
              "#0d0887"
             ],
             [
              0.1111111111111111,
              "#46039f"
             ],
             [
              0.2222222222222222,
              "#7201a8"
             ],
             [
              0.3333333333333333,
              "#9c179e"
             ],
             [
              0.4444444444444444,
              "#bd3786"
             ],
             [
              0.5555555555555556,
              "#d8576b"
             ],
             [
              0.6666666666666666,
              "#ed7953"
             ],
             [
              0.7777777777777778,
              "#fb9f3a"
             ],
             [
              0.8888888888888888,
              "#fdca26"
             ],
             [
              1,
              "#f0f921"
             ]
            ],
            "type": "histogram2dcontour"
           }
          ],
          "mesh3d": [
           {
            "colorbar": {
             "outlinewidth": 0,
             "ticks": ""
            },
            "type": "mesh3d"
           }
          ],
          "parcoords": [
           {
            "line": {
             "colorbar": {
              "outlinewidth": 0,
              "ticks": ""
             }
            },
            "type": "parcoords"
           }
          ],
          "pie": [
           {
            "automargin": true,
            "type": "pie"
           }
          ],
          "scatter": [
           {
            "fillpattern": {
             "fillmode": "overlay",
             "size": 10,
             "solidity": 0.2
            },
            "type": "scatter"
           }
          ],
          "scatter3d": [
           {
            "line": {
             "colorbar": {
              "outlinewidth": 0,
              "ticks": ""
             }
            },
            "marker": {
             "colorbar": {
              "outlinewidth": 0,
              "ticks": ""
             }
            },
            "type": "scatter3d"
           }
          ],
          "scattercarpet": [
           {
            "marker": {
             "colorbar": {
              "outlinewidth": 0,
              "ticks": ""
             }
            },
            "type": "scattercarpet"
           }
          ],
          "scattergeo": [
           {
            "marker": {
             "colorbar": {
              "outlinewidth": 0,
              "ticks": ""
             }
            },
            "type": "scattergeo"
           }
          ],
          "scattergl": [
           {
            "marker": {
             "colorbar": {
              "outlinewidth": 0,
              "ticks": ""
             }
            },
            "type": "scattergl"
           }
          ],
          "scattermapbox": [
           {
            "marker": {
             "colorbar": {
              "outlinewidth": 0,
              "ticks": ""
             }
            },
            "type": "scattermapbox"
           }
          ],
          "scatterpolar": [
           {
            "marker": {
             "colorbar": {
              "outlinewidth": 0,
              "ticks": ""
             }
            },
            "type": "scatterpolar"
           }
          ],
          "scatterpolargl": [
           {
            "marker": {
             "colorbar": {
              "outlinewidth": 0,
              "ticks": ""
             }
            },
            "type": "scatterpolargl"
           }
          ],
          "scatterternary": [
           {
            "marker": {
             "colorbar": {
              "outlinewidth": 0,
              "ticks": ""
             }
            },
            "type": "scatterternary"
           }
          ],
          "surface": [
           {
            "colorbar": {
             "outlinewidth": 0,
             "ticks": ""
            },
            "colorscale": [
             [
              0,
              "#0d0887"
             ],
             [
              0.1111111111111111,
              "#46039f"
             ],
             [
              0.2222222222222222,
              "#7201a8"
             ],
             [
              0.3333333333333333,
              "#9c179e"
             ],
             [
              0.4444444444444444,
              "#bd3786"
             ],
             [
              0.5555555555555556,
              "#d8576b"
             ],
             [
              0.6666666666666666,
              "#ed7953"
             ],
             [
              0.7777777777777778,
              "#fb9f3a"
             ],
             [
              0.8888888888888888,
              "#fdca26"
             ],
             [
              1,
              "#f0f921"
             ]
            ],
            "type": "surface"
           }
          ],
          "table": [
           {
            "cells": {
             "fill": {
              "color": "#EBF0F8"
             },
             "line": {
              "color": "white"
             }
            },
            "header": {
             "fill": {
              "color": "#C8D4E3"
             },
             "line": {
              "color": "white"
             }
            },
            "type": "table"
           }
          ]
         },
         "layout": {
          "annotationdefaults": {
           "arrowcolor": "#2a3f5f",
           "arrowhead": 0,
           "arrowwidth": 1
          },
          "autotypenumbers": "strict",
          "coloraxis": {
           "colorbar": {
            "outlinewidth": 0,
            "ticks": ""
           }
          },
          "colorscale": {
           "diverging": [
            [
             0,
             "#8e0152"
            ],
            [
             0.1,
             "#c51b7d"
            ],
            [
             0.2,
             "#de77ae"
            ],
            [
             0.3,
             "#f1b6da"
            ],
            [
             0.4,
             "#fde0ef"
            ],
            [
             0.5,
             "#f7f7f7"
            ],
            [
             0.6,
             "#e6f5d0"
            ],
            [
             0.7,
             "#b8e186"
            ],
            [
             0.8,
             "#7fbc41"
            ],
            [
             0.9,
             "#4d9221"
            ],
            [
             1,
             "#276419"
            ]
           ],
           "sequential": [
            [
             0,
             "#0d0887"
            ],
            [
             0.1111111111111111,
             "#46039f"
            ],
            [
             0.2222222222222222,
             "#7201a8"
            ],
            [
             0.3333333333333333,
             "#9c179e"
            ],
            [
             0.4444444444444444,
             "#bd3786"
            ],
            [
             0.5555555555555556,
             "#d8576b"
            ],
            [
             0.6666666666666666,
             "#ed7953"
            ],
            [
             0.7777777777777778,
             "#fb9f3a"
            ],
            [
             0.8888888888888888,
             "#fdca26"
            ],
            [
             1,
             "#f0f921"
            ]
           ],
           "sequentialminus": [
            [
             0,
             "#0d0887"
            ],
            [
             0.1111111111111111,
             "#46039f"
            ],
            [
             0.2222222222222222,
             "#7201a8"
            ],
            [
             0.3333333333333333,
             "#9c179e"
            ],
            [
             0.4444444444444444,
             "#bd3786"
            ],
            [
             0.5555555555555556,
             "#d8576b"
            ],
            [
             0.6666666666666666,
             "#ed7953"
            ],
            [
             0.7777777777777778,
             "#fb9f3a"
            ],
            [
             0.8888888888888888,
             "#fdca26"
            ],
            [
             1,
             "#f0f921"
            ]
           ]
          },
          "colorway": [
           "#636efa",
           "#EF553B",
           "#00cc96",
           "#ab63fa",
           "#FFA15A",
           "#19d3f3",
           "#FF6692",
           "#B6E880",
           "#FF97FF",
           "#FECB52"
          ],
          "font": {
           "color": "#2a3f5f"
          },
          "geo": {
           "bgcolor": "white",
           "lakecolor": "white",
           "landcolor": "#E5ECF6",
           "showlakes": true,
           "showland": true,
           "subunitcolor": "white"
          },
          "hoverlabel": {
           "align": "left"
          },
          "hovermode": "closest",
          "mapbox": {
           "style": "light"
          },
          "paper_bgcolor": "white",
          "plot_bgcolor": "#E5ECF6",
          "polar": {
           "angularaxis": {
            "gridcolor": "white",
            "linecolor": "white",
            "ticks": ""
           },
           "bgcolor": "#E5ECF6",
           "radialaxis": {
            "gridcolor": "white",
            "linecolor": "white",
            "ticks": ""
           }
          },
          "scene": {
           "xaxis": {
            "backgroundcolor": "#E5ECF6",
            "gridcolor": "white",
            "gridwidth": 2,
            "linecolor": "white",
            "showbackground": true,
            "ticks": "",
            "zerolinecolor": "white"
           },
           "yaxis": {
            "backgroundcolor": "#E5ECF6",
            "gridcolor": "white",
            "gridwidth": 2,
            "linecolor": "white",
            "showbackground": true,
            "ticks": "",
            "zerolinecolor": "white"
           },
           "zaxis": {
            "backgroundcolor": "#E5ECF6",
            "gridcolor": "white",
            "gridwidth": 2,
            "linecolor": "white",
            "showbackground": true,
            "ticks": "",
            "zerolinecolor": "white"
           }
          },
          "shapedefaults": {
           "line": {
            "color": "#2a3f5f"
           }
          },
          "ternary": {
           "aaxis": {
            "gridcolor": "white",
            "linecolor": "white",
            "ticks": ""
           },
           "baxis": {
            "gridcolor": "white",
            "linecolor": "white",
            "ticks": ""
           },
           "bgcolor": "#E5ECF6",
           "caxis": {
            "gridcolor": "white",
            "linecolor": "white",
            "ticks": ""
           }
          },
          "title": {
           "x": 0.05
          },
          "xaxis": {
           "automargin": true,
           "gridcolor": "white",
           "linecolor": "white",
           "ticks": "",
           "title": {
            "standoff": 15
           },
           "zerolinecolor": "white",
           "zerolinewidth": 2
          },
          "yaxis": {
           "automargin": true,
           "gridcolor": "white",
           "linecolor": "white",
           "ticks": "",
           "title": {
            "standoff": 15
           },
           "zerolinecolor": "white",
           "zerolinewidth": 2
          }
         }
        },
        "xaxis": {
         "anchor": "y",
         "autorange": false,
         "domain": [
          0,
          1
         ],
         "range": [
          -49,
          997.009970358394
         ],
         "title": {
          "text": "x"
         },
         "type": "linear"
        },
        "yaxis": {
         "anchor": "x",
         "autorange": true,
         "domain": [
          0,
          1
         ],
         "range": [
          -1,
          1
         ],
         "title": {
          "text": "y"
         },
         "type": "linear"
        }
       }
      },
      "image/png": "[encoded data removed]",
      "text/html": [
       "<div>                            <div id=\"5e3e0915-82e2-4a25-b383-258494892c22\" class=\"plotly-graph-div\" style=\"height:525px; width:100%;\"></div>            <script type=\"text/javascript\">                require([\"plotly\"], function(Plotly) {                    window.PLOTLYENV=window.PLOTLYENV || {};                                    if (document.getElementById(\"5e3e0915-82e2-4a25-b383-258494892c22\")) {                    Plotly.newPlot(                        \"5e3e0915-82e2-4a25-b383-258494892c22\",                        [{\"hovertemplate\":\"x=%{x}<br>y=%{y}<extra></extra>\",\"legendgroup\":\"\",\"marker\":{\"color\":\"#636efa\",\"symbol\":\"circle\"},\"mode\":\"markers\",\"name\":\"\",\"orientation\":\"v\",\"showlegend\":false,\"x\":[8,21,76,159,247,343,427,517,609,698,772,859,940],\"xaxis\":\"x\",\"y\":[0,0,0,0,0,0,0,0,0,0,0,0,0],\"yaxis\":\"y\",\"type\":\"scatter\"}],                        {\"template\":{\"data\":{\"histogram2dcontour\":[{\"type\":\"histogram2dcontour\",\"colorbar\":{\"outlinewidth\":0,\"ticks\":\"\"},\"colorscale\":[[0.0,\"#0d0887\"],[0.1111111111111111,\"#46039f\"],[0.2222222222222222,\"#7201a8\"],[0.3333333333333333,\"#9c179e\"],[0.4444444444444444,\"#bd3786\"],[0.5555555555555556,\"#d8576b\"],[0.6666666666666666,\"#ed7953\"],[0.7777777777777778,\"#fb9f3a\"],[0.8888888888888888,\"#fdca26\"],[1.0,\"#f0f921\"]]}],\"choropleth\":[{\"type\":\"choropleth\",\"colorbar\":{\"outlinewidth\":0,\"ticks\":\"\"}}],\"histogram2d\":[{\"type\":\"histogram2d\",\"colorbar\":{\"outlinewidth\":0,\"ticks\":\"\"},\"colorscale\":[[0.0,\"#0d0887\"],[0.1111111111111111,\"#46039f\"],[0.2222222222222222,\"#7201a8\"],[0.3333333333333333,\"#9c179e\"],[0.4444444444444444,\"#bd3786\"],[0.5555555555555556,\"#d8576b\"],[0.6666666666666666,\"#ed7953\"],[0.7777777777777778,\"#fb9f3a\"],[0.8888888888888888,\"#fdca26\"],[1.0,\"#f0f921\"]]}],\"heatmap\":[{\"type\":\"heatmap\",\"colorbar\":{\"outlinewidth\":0,\"ticks\":\"\"},\"colorscale\":[[0.0,\"#0d0887\"],[0.1111111111111111,\"#46039f\"],[0.2222222222222222,\"#7201a8\"],[0.3333333333333333,\"#9c179e\"],[0.4444444444444444,\"#bd3786\"],[0.5555555555555556,\"#d8576b\"],[0.6666666666666666,\"#ed7953\"],[0.7777777777777778,\"#fb9f3a\"],[0.8888888888888888,\"#fdca26\"],[1.0,\"#f0f921\"]]}],\"heatmapgl\":[{\"type\":\"heatmapgl\",\"colorbar\":{\"outlinewidth\":0,\"ticks\":\"\"},\"colorscale\":[[0.0,\"#0d0887\"],[0.1111111111111111,\"#46039f\"],[0.2222222222222222,\"#7201a8\"],[0.3333333333333333,\"#9c179e\"],[0.4444444444444444,\"#bd3786\"],[0.5555555555555556,\"#d8576b\"],[0.6666666666666666,\"#ed7953\"],[0.7777777777777778,\"#fb9f3a\"],[0.8888888888888888,\"#fdca26\"],[1.0,\"#f0f921\"]]}],\"contourcarpet\":[{\"type\":\"contourcarpet\",\"colorbar\":{\"outlinewidth\":0,\"ticks\":\"\"}}],\"contour\":[{\"type\":\"contour\",\"colorbar\":{\"outlinewidth\":0,\"ticks\":\"\"},\"colorscale\":[[0.0,\"#0d0887\"],[0.1111111111111111,\"#46039f\"],[0.2222222222222222,\"#7201a8\"],[0.3333333333333333,\"#9c179e\"],[0.4444444444444444,\"#bd3786\"],[0.5555555555555556,\"#d8576b\"],[0.6666666666666666,\"#ed7953\"],[0.7777777777777778,\"#fb9f3a\"],[0.8888888888888888,\"#fdca26\"],[1.0,\"#f0f921\"]]}],\"surface\":[{\"type\":\"surface\",\"colorbar\":{\"outlinewidth\":0,\"ticks\":\"\"},\"colorscale\":[[0.0,\"#0d0887\"],[0.1111111111111111,\"#46039f\"],[0.2222222222222222,\"#7201a8\"],[0.3333333333333333,\"#9c179e\"],[0.4444444444444444,\"#bd3786\"],[0.5555555555555556,\"#d8576b\"],[0.6666666666666666,\"#ed7953\"],[0.7777777777777778,\"#fb9f3a\"],[0.8888888888888888,\"#fdca26\"],[1.0,\"#f0f921\"]]}],\"mesh3d\":[{\"type\":\"mesh3d\",\"colorbar\":{\"outlinewidth\":0,\"ticks\":\"\"}}],\"scatter\":[{\"fillpattern\":{\"fillmode\":\"overlay\",\"size\":10,\"solidity\":0.2},\"type\":\"scatter\"}],\"parcoords\":[{\"type\":\"parcoords\",\"line\":{\"colorbar\":{\"outlinewidth\":0,\"ticks\":\"\"}}}],\"scatterpolargl\":[{\"type\":\"scatterpolargl\",\"marker\":{\"colorbar\":{\"outlinewidth\":0,\"ticks\":\"\"}}}],\"bar\":[{\"error_x\":{\"color\":\"#2a3f5f\"},\"error_y\":{\"color\":\"#2a3f5f\"},\"marker\":{\"line\":{\"color\":\"#E5ECF6\",\"width\":0.5},\"pattern\":{\"fillmode\":\"overlay\",\"size\":10,\"solidity\":0.2}},\"type\":\"bar\"}],\"scattergeo\":[{\"type\":\"scattergeo\",\"marker\":{\"colorbar\":{\"outlinewidth\":0,\"ticks\":\"\"}}}],\"scatterpolar\":[{\"type\":\"scatterpolar\",\"marker\":{\"colorbar\":{\"outlinewidth\":0,\"ticks\":\"\"}}}],\"histogram\":[{\"marker\":{\"pattern\":{\"fillmode\":\"overlay\",\"size\":10,\"solidity\":0.2}},\"type\":\"histogram\"}],\"scattergl\":[{\"type\":\"scattergl\",\"marker\":{\"colorbar\":{\"outlinewidth\":0,\"ticks\":\"\"}}}],\"scatter3d\":[{\"type\":\"scatter3d\",\"line\":{\"colorbar\":{\"outlinewidth\":0,\"ticks\":\"\"}},\"marker\":{\"colorbar\":{\"outlinewidth\":0,\"ticks\":\"\"}}}],\"scattermapbox\":[{\"type\":\"scattermapbox\",\"marker\":{\"colorbar\":{\"outlinewidth\":0,\"ticks\":\"\"}}}],\"scatterternary\":[{\"type\":\"scatterternary\",\"marker\":{\"colorbar\":{\"outlinewidth\":0,\"ticks\":\"\"}}}],\"scattercarpet\":[{\"type\":\"scattercarpet\",\"marker\":{\"colorbar\":{\"outlinewidth\":0,\"ticks\":\"\"}}}],\"carpet\":[{\"aaxis\":{\"endlinecolor\":\"#2a3f5f\",\"gridcolor\":\"white\",\"linecolor\":\"white\",\"minorgridcolor\":\"white\",\"startlinecolor\":\"#2a3f5f\"},\"baxis\":{\"endlinecolor\":\"#2a3f5f\",\"gridcolor\":\"white\",\"linecolor\":\"white\",\"minorgridcolor\":\"white\",\"startlinecolor\":\"#2a3f5f\"},\"type\":\"carpet\"}],\"table\":[{\"cells\":{\"fill\":{\"color\":\"#EBF0F8\"},\"line\":{\"color\":\"white\"}},\"header\":{\"fill\":{\"color\":\"#C8D4E3\"},\"line\":{\"color\":\"white\"}},\"type\":\"table\"}],\"barpolar\":[{\"marker\":{\"line\":{\"color\":\"#E5ECF6\",\"width\":0.5},\"pattern\":{\"fillmode\":\"overlay\",\"size\":10,\"solidity\":0.2}},\"type\":\"barpolar\"}],\"pie\":[{\"automargin\":true,\"type\":\"pie\"}]},\"layout\":{\"autotypenumbers\":\"strict\",\"colorway\":[\"#636efa\",\"#EF553B\",\"#00cc96\",\"#ab63fa\",\"#FFA15A\",\"#19d3f3\",\"#FF6692\",\"#B6E880\",\"#FF97FF\",\"#FECB52\"],\"font\":{\"color\":\"#2a3f5f\"},\"hovermode\":\"closest\",\"hoverlabel\":{\"align\":\"left\"},\"paper_bgcolor\":\"white\",\"plot_bgcolor\":\"#E5ECF6\",\"polar\":{\"bgcolor\":\"#E5ECF6\",\"angularaxis\":{\"gridcolor\":\"white\",\"linecolor\":\"white\",\"ticks\":\"\"},\"radialaxis\":{\"gridcolor\":\"white\",\"linecolor\":\"white\",\"ticks\":\"\"}},\"ternary\":{\"bgcolor\":\"#E5ECF6\",\"aaxis\":{\"gridcolor\":\"white\",\"linecolor\":\"white\",\"ticks\":\"\"},\"baxis\":{\"gridcolor\":\"white\",\"linecolor\":\"white\",\"ticks\":\"\"},\"caxis\":{\"gridcolor\":\"white\",\"linecolor\":\"white\",\"ticks\":\"\"}},\"coloraxis\":{\"colorbar\":{\"outlinewidth\":0,\"ticks\":\"\"}},\"colorscale\":{\"sequential\":[[0.0,\"#0d0887\"],[0.1111111111111111,\"#46039f\"],[0.2222222222222222,\"#7201a8\"],[0.3333333333333333,\"#9c179e\"],[0.4444444444444444,\"#bd3786\"],[0.5555555555555556,\"#d8576b\"],[0.6666666666666666,\"#ed7953\"],[0.7777777777777778,\"#fb9f3a\"],[0.8888888888888888,\"#fdca26\"],[1.0,\"#f0f921\"]],\"sequentialminus\":[[0.0,\"#0d0887\"],[0.1111111111111111,\"#46039f\"],[0.2222222222222222,\"#7201a8\"],[0.3333333333333333,\"#9c179e\"],[0.4444444444444444,\"#bd3786\"],[0.5555555555555556,\"#d8576b\"],[0.6666666666666666,\"#ed7953\"],[0.7777777777777778,\"#fb9f3a\"],[0.8888888888888888,\"#fdca26\"],[1.0,\"#f0f921\"]],\"diverging\":[[0,\"#8e0152\"],[0.1,\"#c51b7d\"],[0.2,\"#de77ae\"],[0.3,\"#f1b6da\"],[0.4,\"#fde0ef\"],[0.5,\"#f7f7f7\"],[0.6,\"#e6f5d0\"],[0.7,\"#b8e186\"],[0.8,\"#7fbc41\"],[0.9,\"#4d9221\"],[1,\"#276419\"]]},\"xaxis\":{\"gridcolor\":\"white\",\"linecolor\":\"white\",\"ticks\":\"\",\"title\":{\"standoff\":15},\"zerolinecolor\":\"white\",\"automargin\":true,\"zerolinewidth\":2},\"yaxis\":{\"gridcolor\":\"white\",\"linecolor\":\"white\",\"ticks\":\"\",\"title\":{\"standoff\":15},\"zerolinecolor\":\"white\",\"automargin\":true,\"zerolinewidth\":2},\"scene\":{\"xaxis\":{\"backgroundcolor\":\"#E5ECF6\",\"gridcolor\":\"white\",\"linecolor\":\"white\",\"showbackground\":true,\"ticks\":\"\",\"zerolinecolor\":\"white\",\"gridwidth\":2},\"yaxis\":{\"backgroundcolor\":\"#E5ECF6\",\"gridcolor\":\"white\",\"linecolor\":\"white\",\"showbackground\":true,\"ticks\":\"\",\"zerolinecolor\":\"white\",\"gridwidth\":2},\"zaxis\":{\"backgroundcolor\":\"#E5ECF6\",\"gridcolor\":\"white\",\"linecolor\":\"white\",\"showbackground\":true,\"ticks\":\"\",\"zerolinecolor\":\"white\",\"gridwidth\":2}},\"shapedefaults\":{\"line\":{\"color\":\"#2a3f5f\"}},\"annotationdefaults\":{\"arrowcolor\":\"#2a3f5f\",\"arrowhead\":0,\"arrowwidth\":1},\"geo\":{\"bgcolor\":\"white\",\"landcolor\":\"#E5ECF6\",\"subunitcolor\":\"white\",\"showland\":true,\"showlakes\":true,\"lakecolor\":\"white\"},\"title\":{\"x\":0.05},\"mapbox\":{\"style\":\"light\"}}},\"xaxis\":{\"anchor\":\"y\",\"domain\":[0.0,1.0],\"title\":{\"text\":\"x\"}},\"yaxis\":{\"anchor\":\"x\",\"domain\":[0.0,1.0],\"title\":{\"text\":\"y\"}},\"legend\":{\"tracegroupgap\":0},\"margin\":{\"t\":60}},                        {\"responsive\": true}                    ).then(function(){\n",
       "                            \n",
       "var gd = document.getElementById('5e3e0915-82e2-4a25-b383-258494892c22');\n",
       "var x = new MutationObserver(function (mutations, observer) {{\n",
       "        var display = window.getComputedStyle(gd).display;\n",
       "        if (!display || display === 'none') {{\n",
       "            console.log([gd, 'removed!']);\n",
       "            Plotly.purge(gd);\n",
       "            observer.disconnect();\n",
       "        }}\n",
       "}});\n",
       "\n",
       "// Listen for the removal of the full notebook cells\n",
       "var notebookContainer = gd.closest('#notebook-container');\n",
       "if (notebookContainer) {{\n",
       "    x.observe(notebookContainer, {childList: true});\n",
       "}}\n",
       "\n",
       "// Listen for the clearing of the current output cell\n",
       "var outputEl = gd.closest('.output');\n",
       "if (outputEl) {{\n",
       "    x.observe(outputEl, {childList: true});\n",
       "}}\n",
       "\n",
       "                        })                };                });            </script>        </div>"
      ]
     },
     "metadata": {},
     "output_type": "display_data"
    }
   ],
   "source": [
    "plotly.express.scatter(x=net['spikes.t',0], y=net['spikes.i',0]) "
   ]
  },
  {
   "cell_type": "markdown",
   "id": "b114f0fd-2b9e-4456-ba6d-6dfb8a5471ff",
   "metadata": {},
   "source": [
    "# plot membrane potential using plotly"
   ]
  },
  {
   "cell_type": "code",
   "execution_count": 14,
   "id": "13ff8551-3cec-4119-8324-e049e75a5856",
   "metadata": {},
   "outputs": [
    {
     "data": {
      "application/vnd.plotly.v1+json": {
       "config": {
        "plotlyServerURL": "https://plot.ly"
       },
       "data": [
        {
         "hovertemplate": "variable=0<br>index=%{x}<br>value=%{y}<extra></extra>",
         "legendgroup": "0",
         "marker": {
          "color": "#636efa",
          "symbol": "circle"
         },
         "mode": "markers",
         "name": "0",
         "orientation": "v",
         "showlegend": true,
         "type": "scatter",
         "x": [
          0,
          1,
          2,
          3,
          4,
          5,
          6,
          7,
          8,
          9,
          10,
          11,
          12,
          13,
          14,
          15,
          16,
          17,
          18,
          19,
          20,
          21,
          22,
          23,
          24,
          25,
          26,
          27,
          28,
          29,
          30,
          31,
          32,
          33,
          34,
          35,
          36,
          37,
          38,
          39,
          40,
          41,
          42,
          43,
          44,
          45,
          46,
          47,
          48,
          49,
          50,
          51,
          52,
          53,
          54,
          55,
          56,
          57,
          58,
          59,
          60,
          61,
          62,
          63,
          64,
          65,
          66,
          67,
          68,
          69,
          70,
          71,
          72,
          73,
          74,
          75,
          76,
          77,
          78,
          79,
          80,
          81,
          82,
          83,
          84,
          85,
          86,
          87,
          88,
          89,
          90,
          91,
          92,
          93,
          94,
          95,
          96,
          97,
          98,
          99,
          100,
          101,
          102,
          103,
          104,
          105,
          106,
          107,
          108,
          109,
          110,
          111,
          112,
          113,
          114,
          115,
          116,
          117,
          118,
          119,
          120,
          121,
          122,
          123,
          124,
          125,
          126,
          127,
          128,
          129,
          130,
          131,
          132,
          133,
          134,
          135,
          136,
          137,
          138,
          139,
          140,
          141,
          142,
          143,
          144,
          145,
          146,
          147,
          148,
          149,
          150,
          151,
          152,
          153,
          154,
          155,
          156,
          157,
          158,
          159,
          160,
          161,
          162,
          163,
          164,
          165,
          166,
          167,
          168,
          169,
          170,
          171,
          172,
          173,
          174,
          175,
          176,
          177,
          178,
          179,
          180,
          181,
          182,
          183,
          184,
          185,
          186,
          187,
          188,
          189,
          190,
          191,
          192,
          193,
          194,
          195,
          196,
          197,
          198,
          199,
          200,
          201,
          202,
          203,
          204,
          205,
          206,
          207,
          208,
          209,
          210,
          211,
          212,
          213,
          214,
          215,
          216,
          217,
          218,
          219,
          220,
          221,
          222,
          223,
          224,
          225,
          226,
          227,
          228,
          229,
          230,
          231,
          232,
          233,
          234,
          235,
          236,
          237,
          238,
          239,
          240,
          241,
          242,
          243,
          244,
          245,
          246,
          247,
          248,
          249,
          250,
          251,
          252,
          253,
          254,
          255,
          256,
          257,
          258,
          259,
          260,
          261,
          262,
          263,
          264,
          265,
          266,
          267,
          268,
          269,
          270,
          271,
          272,
          273,
          274,
          275,
          276,
          277,
          278,
          279,
          280,
          281,
          282,
          283,
          284,
          285,
          286,
          287,
          288,
          289,
          290,
          291,
          292,
          293,
          294,
          295,
          296,
          297,
          298,
          299,
          300,
          301,
          302,
          303,
          304,
          305,
          306,
          307,
          308,
          309,
          310,
          311,
          312,
          313,
          314,
          315,
          316,
          317,
          318,
          319,
          320,
          321,
          322,
          323,
          324,
          325,
          326,
          327,
          328,
          329,
          330,
          331,
          332,
          333,
          334,
          335,
          336,
          337,
          338,
          339,
          340,
          341,
          342,
          343,
          344,
          345,
          346,
          347,
          348,
          349,
          350,
          351,
          352,
          353,
          354,
          355,
          356,
          357,
          358,
          359,
          360,
          361,
          362,
          363,
          364,
          365,
          366,
          367,
          368,
          369,
          370,
          371,
          372,
          373,
          374,
          375,
          376,
          377,
          378,
          379,
          380,
          381,
          382,
          383,
          384,
          385,
          386,
          387,
          388,
          389,
          390,
          391,
          392,
          393,
          394,
          395,
          396,
          397,
          398,
          399,
          400,
          401,
          402,
          403,
          404,
          405,
          406,
          407,
          408,
          409,
          410,
          411,
          412,
          413,
          414,
          415,
          416,
          417,
          418,
          419,
          420,
          421,
          422,
          423,
          424,
          425,
          426,
          427,
          428,
          429,
          430,
          431,
          432,
          433,
          434,
          435,
          436,
          437,
          438,
          439,
          440,
          441,
          442,
          443,
          444,
          445,
          446,
          447,
          448,
          449,
          450,
          451,
          452,
          453,
          454,
          455,
          456,
          457,
          458,
          459,
          460,
          461,
          462,
          463,
          464,
          465,
          466,
          467,
          468,
          469,
          470,
          471,
          472,
          473,
          474,
          475,
          476,
          477,
          478,
          479,
          480,
          481,
          482,
          483,
          484,
          485,
          486,
          487,
          488,
          489,
          490,
          491,
          492,
          493,
          494,
          495,
          496,
          497,
          498,
          499,
          500,
          501,
          502,
          503,
          504,
          505,
          506,
          507,
          508,
          509,
          510,
          511,
          512,
          513,
          514,
          515,
          516,
          517,
          518,
          519,
          520,
          521,
          522,
          523,
          524,
          525,
          526,
          527,
          528,
          529,
          530,
          531,
          532,
          533,
          534,
          535,
          536,
          537,
          538,
          539,
          540,
          541,
          542,
          543,
          544,
          545,
          546,
          547,
          548,
          549,
          550,
          551,
          552,
          553,
          554,
          555,
          556,
          557,
          558,
          559,
          560,
          561,
          562,
          563,
          564,
          565,
          566,
          567,
          568,
          569,
          570,
          571,
          572,
          573,
          574,
          575,
          576,
          577,
          578,
          579,
          580,
          581,
          582,
          583,
          584,
          585,
          586,
          587,
          588,
          589,
          590,
          591,
          592,
          593,
          594,
          595,
          596,
          597,
          598,
          599,
          600,
          601,
          602,
          603,
          604,
          605,
          606,
          607,
          608,
          609,
          610,
          611,
          612,
          613,
          614,
          615,
          616,
          617,
          618,
          619,
          620,
          621,
          622,
          623,
          624,
          625,
          626,
          627,
          628,
          629,
          630,
          631,
          632,
          633,
          634,
          635,
          636,
          637,
          638,
          639,
          640,
          641,
          642,
          643,
          644,
          645,
          646,
          647,
          648,
          649,
          650,
          651,
          652,
          653,
          654,
          655,
          656,
          657,
          658,
          659,
          660,
          661,
          662,
          663,
          664,
          665,
          666,
          667,
          668,
          669,
          670,
          671,
          672,
          673,
          674,
          675,
          676,
          677,
          678,
          679,
          680,
          681,
          682,
          683,
          684,
          685,
          686,
          687,
          688,
          689,
          690,
          691,
          692,
          693,
          694,
          695,
          696,
          697,
          698,
          699,
          700,
          701,
          702,
          703,
          704,
          705,
          706,
          707,
          708,
          709,
          710,
          711,
          712,
          713,
          714,
          715,
          716,
          717,
          718,
          719,
          720,
          721,
          722,
          723,
          724,
          725,
          726,
          727,
          728,
          729,
          730,
          731,
          732,
          733,
          734,
          735,
          736,
          737,
          738,
          739,
          740,
          741,
          742,
          743,
          744,
          745,
          746,
          747,
          748,
          749,
          750,
          751,
          752,
          753,
          754,
          755,
          756,
          757,
          758,
          759,
          760,
          761,
          762,
          763,
          764,
          765,
          766,
          767,
          768,
          769,
          770,
          771,
          772,
          773,
          774,
          775,
          776,
          777,
          778,
          779,
          780,
          781,
          782,
          783,
          784,
          785,
          786,
          787,
          788,
          789,
          790,
          791,
          792,
          793,
          794,
          795,
          796,
          797,
          798,
          799,
          800,
          801,
          802,
          803,
          804,
          805,
          806,
          807,
          808,
          809,
          810,
          811,
          812,
          813,
          814,
          815,
          816,
          817,
          818,
          819,
          820,
          821,
          822,
          823,
          824,
          825,
          826,
          827,
          828,
          829,
          830,
          831,
          832,
          833,
          834,
          835,
          836,
          837,
          838,
          839,
          840,
          841,
          842,
          843,
          844,
          845,
          846,
          847,
          848,
          849,
          850,
          851,
          852,
          853,
          854,
          855,
          856,
          857,
          858,
          859,
          860,
          861,
          862,
          863,
          864,
          865,
          866,
          867,
          868,
          869,
          870,
          871,
          872,
          873,
          874,
          875,
          876,
          877,
          878,
          879,
          880,
          881,
          882,
          883,
          884,
          885,
          886,
          887,
          888,
          889,
          890,
          891,
          892,
          893,
          894,
          895,
          896,
          897,
          898,
          899,
          900,
          901,
          902,
          903,
          904,
          905,
          906,
          907,
          908,
          909,
          910,
          911,
          912,
          913,
          914,
          915,
          916,
          917,
          918,
          919,
          920,
          921,
          922,
          923,
          924,
          925,
          926,
          927,
          928,
          929,
          930,
          931,
          932,
          933,
          934,
          935,
          936,
          937,
          938,
          939,
          940,
          941,
          942,
          943,
          944,
          945,
          946,
          947,
          948,
          949,
          950,
          951,
          952,
          953,
          954,
          955,
          956,
          957,
          958,
          959,
          960,
          961,
          962,
          963,
          964,
          965,
          966,
          967,
          968,
          969,
          970,
          971,
          972,
          973,
          974,
          975,
          976,
          977,
          978,
          979,
          980,
          981,
          982,
          983,
          984,
          985,
          986,
          987,
          988,
          989,
          990,
          991,
          992,
          993,
          994,
          995,
          996,
          997,
          998,
          999
         ],
         "xaxis": "x",
         "y": [
          -69,
          -59.375125885009766,
          -51.04979705810547,
          -41.172061920166016,
          -29.327768325805664,
          -0.4027271270751953,
          80.7464370727539,
          -63.120445251464844,
          -63.46665954589844,
          -62.69334030151367,
          -58.30535888671875,
          -56.59906768798828,
          -56.0369873046875,
          -54.2947883605957,
          -51.76228332519531,
          -48.559295654296875,
          -41.41789627075195,
          -27.971935272216797,
          -2.2613067626953125,
          71.67285919189453,
          -66.14635467529297,
          -68.73136901855469,
          -68.16280364990234,
          -68.09317779541016,
          -66.63001251220703,
          -66.03952026367188,
          -65.46292114257812,
          -65.9400405883789,
          -65.21946716308594,
          -66.88763427734375,
          -67.85844421386719,
          -69.02963256835938,
          -68.16727447509766,
          -70.86921691894531,
          -71.99134826660156,
          -71.68937683105469,
          -68.53811645507812,
          -68.39506530761719,
          -69.35237121582031,
          -68.92110443115234,
          -70.17613983154297,
          -72.20275115966797,
          -69.64532470703125,
          -70.71448516845703,
          -70.98863983154297,
          -72.09506225585938,
          -67.6943130493164,
          -69.58506774902344,
          -69.84431457519531,
          -70.62063598632812,
          -70.7262191772461,
          -69.6461181640625,
          -68.18026733398438,
          -68.56595611572266,
          -66.29683685302734,
          -67.4395980834961,
          -68.22151184082031,
          -69.79325866699219,
          -68.75215148925781,
          -68.0981674194336,
          -66.4097671508789,
          -66.19721984863281,
          -63.06120681762695,
          -64.695556640625,
          -62.346622467041016,
          -59.96159362792969,
          -58.29298400878906,
          -54.31950378417969,
          -51.86891174316406,
          -48.727413177490234,
          -44.799476623535156,
          -39.69232177734375,
          -26.92154884338379,
          -1.392751693725586,
          74.5531234741211,
          -68.34208679199219,
          -70.34586334228516,
          -71.680908203125,
          -74.32405853271484,
          -78.14047241210938,
          -77.61221313476562,
          -76.20198059082031,
          -76.02831268310547,
          -77.42640686035156,
          -76.8325424194336,
          -74.8411636352539,
          -73.8680648803711,
          -72.37092590332031,
          -73.08451843261719,
          -72.4081039428711,
          -73.78823852539062,
          -75.37574005126953,
          -73.65612030029297,
          -76.19359588623047,
          -76.0684814453125,
          -72.67134857177734,
          -72.1437759399414,
          -76.25811767578125,
          -73.89193725585938,
          -72.21397399902344,
          -72.32228088378906,
          -71.41436004638672,
          -70.87794494628906,
          -69.74706268310547,
          -71.19159698486328,
          -71.72425079345703,
          -70.60494232177734,
          -70.30514526367188,
          -70.42454528808594,
          -70.3241195678711,
          -68.69062805175781,
          -69.37548828125,
          -70.28350067138672,
          -72.60394287109375,
          -72.00979614257812,
          -72.34209442138672,
          -70.87972259521484,
          -69.52583312988281,
          -69.45458984375,
          -70.11124420166016,
          -69.1514892578125,
          -69.2275161743164,
          -68.85420989990234,
          -68.69276428222656,
          -67.57632446289062,
          -66.168212890625,
          -66.09284210205078,
          -65.412353515625,
          -65.23787689208984,
          -62.75843811035156,
          -61.72572708129883,
          -64.34910583496094,
          -66.4123306274414,
          -66.70230102539062,
          -64.24336242675781,
          -63.50458526611328,
          -62.88187026977539,
          -61.38605499267578,
          -61.51158142089844,
          -64.33792877197266,
          -62.977149963378906,
          -63.55201721191406,
          -61.992427825927734,
          -62.98899841308594,
          -61.96002197265625,
          -63.30421447753906,
          -61.70411682128906,
          -59.073692321777344,
          -56.436073303222656,
          -55.033050537109375,
          -53.93455123901367,
          -53.232627868652344,
          -50.95318603515625,
          -47.36234664916992,
          -40.89580535888672,
          -31.799671173095703,
          -10.059450149536133,
          41.71540832519531,
          -69.02046203613281,
          -73.25607299804688,
          -73.11808013916016,
          -77.0455093383789,
          -75.73811340332031,
          -75.39920043945312,
          -75.73057556152344,
          -74.8394775390625,
          -75.90560913085938,
          -75.00188446044922,
          -76.40791320800781,
          -77.7715835571289,
          -73.84444427490234,
          -72.04378509521484,
          -72.79124450683594,
          -75.58190155029297,
          -73.55258178710938,
          -72.41577911376953,
          -69.82125854492188,
          -71.05091094970703,
          -71.70637512207031,
          -73.42451477050781,
          -73.53367614746094,
          -74.62439727783203,
          -76.14112854003906,
          -76.13597869873047,
          -75.15608978271484,
          -74.62899017333984,
          -75.78074645996094,
          -76.92878723144531,
          -74.30206298828125,
          -71.65560150146484,
          -72.43289947509766,
          -70.96965026855469,
          -69.9838638305664,
          -67.66390228271484,
          -69.92417907714844,
          -68.73802185058594,
          -69.7746353149414,
          -71.7005615234375,
          -70.67747497558594,
          -69.77816772460938,
          -67.79439544677734,
          -67.50210571289062,
          -64.8426284790039,
          -66.47616577148438,
          -68.47271728515625,
          -68.34805297851562,
          -66.87968444824219,
          -65.30801391601562,
          -65.14923858642578,
          -66.91109466552734,
          -68.68785858154297,
          -69.25162506103516,
          -69.76854705810547,
          -68.97370910644531,
          -67.92132568359375,
          -67.95732116699219,
          -71.19536590576172,
          -70.58943176269531,
          -67.92296600341797,
          -70.2244873046875,
          -66.94187927246094,
          -66.21224212646484,
          -66.73587799072266,
          -64.86732482910156,
          -62.22154235839844,
          -62.187049865722656,
          -59.60491943359375,
          -59.08765411376953,
          -60.288063049316406,
          -60.85337829589844,
          -60.43917465209961,
          -59.4813117980957,
          -55.967247009277344,
          -54.875083923339844,
          -54.68975067138672,
          -56.126319885253906,
          -56.483558654785156,
          -55.24595260620117,
          -53.554412841796875,
          -51.10887908935547,
          -47.311744689941406,
          -43.47420883178711,
          -35.174720764160156,
          -20.380287170410156,
          16.48053741455078,
          140.61447143554688,
          -68.25957489013672,
          -71.28177642822266,
          -70.80265808105469,
          -70.73882293701172,
          -73.59095764160156,
          -72.92529296875,
          -72.99626159667969,
          -72.93649291992188,
          -72.80245971679688,
          -72.75335693359375,
          -73.08953094482422,
          -74.58769226074219,
          -73.43539428710938,
          -75.89761352539062,
          -77.25651550292969,
          -77.59215545654297,
          -74.79991149902344,
          -74.31449127197266,
          -72.6441650390625,
          -75.2215576171875,
          -74.32765197753906,
          -72.57870483398438,
          -72.55384063720703,
          -70.58292388916016,
          -70.8611068725586,
          -74.32950592041016,
          -73.34805297851562,
          -74.85225677490234,
          -72.59510803222656,
          -76.07588195800781,
          -74.04875183105469,
          -73.1330337524414,
          -73.50697326660156,
          -69.98091125488281,
          -70.18403625488281,
          -68.57145690917969,
          -66.23561096191406,
          -66.12174224853516,
          -65.59764099121094,
          -65.94522094726562,
          -65.08618927001953,
          -65.5773696899414,
          -66.46113586425781,
          -65.65790557861328,
          -67.90454864501953,
          -69.0087661743164,
          -69.6502914428711,
          -69.87712097167969,
          -69.71330261230469,
          -70.42797088623047,
          -69.87710571289062,
          -66.34490966796875,
          -66.21023559570312,
          -64.98974609375,
          -64.24974822998047,
          -64.64473724365234,
          -64.7651138305664,
          -62.96878433227539,
          -62.17327117919922,
          -61.80236053466797,
          -63.059059143066406,
          -61.95579528808594,
          -63.50015640258789,
          -62.870479583740234,
          -60.991004943847656,
          -64.39481353759766,
          -66.20140838623047,
          -65.56343078613281,
          -68.43003845214844,
          -67.7491226196289,
          -68.53810119628906,
          -68.69236755371094,
          -67.70233917236328,
          -65.00603485107422,
          -65.96626281738281,
          -64.64750671386719,
          -65.1632080078125,
          -62.93083190917969,
          -64.56145477294922,
          -63.194034576416016,
          -62.00457000732422,
          -61.34663391113281,
          -60.46674346923828,
          -59.083900451660156,
          -57.02469253540039,
          -58.20848083496094,
          -58.268714904785156,
          -56.386940002441406,
          -54.336524963378906,
          -52.94810104370117,
          -50.031917572021484,
          -44.59784698486328,
          -36.89080810546875,
          -21.54829216003418,
          12.966920852661133,
          128.8180694580078,
          -68.9411392211914,
          -71.62036895751953,
          -72.76435089111328,
          -72.56716918945312,
          -70.8567123413086,
          -72.29129028320312,
          -71.39242553710938,
          -70.97611999511719,
          -73.08323669433594,
          -74.17315673828125,
          -74.35505676269531,
          -75.05098724365234,
          -73.63198852539062,
          -73.25843048095703,
          -74.98532104492188,
          -74.46981811523438,
          -74.93540954589844,
          -74.67704772949219,
          -70.67864227294922,
          -68.38655090332031,
          -66.99402618408203,
          -68.33900451660156,
          -69.65870666503906,
          -72.97964477539062,
          -73.47150421142578,
          -73.19589233398438,
          -69.60086059570312,
          -70.39151000976562,
          -70.31604766845703,
          -67.245849609375,
          -65.55657196044922,
          -66.12017059326172,
          -66.11486053466797,
          -67.33143615722656,
          -66.9595947265625,
          -67.84597778320312,
          -70.03425598144531,
          -71.79976654052734,
          -70.3235855102539,
          -70.86260986328125,
          -69.01074981689453,
          -69.67793273925781,
          -69.91842651367188,
          -68.5019760131836,
          -68.52963256835938,
          -68.70681762695312,
          -68.23006439208984,
          -65.86495971679688,
          -67.49935913085938,
          -68.30830383300781,
          -68.14430236816406,
          -69.26368713378906,
          -72.35185241699219,
          -71.13119506835938,
          -68.5533447265625,
          -66.47225189208984,
          -66.74430847167969,
          -67.64192199707031,
          -65.8796157836914,
          -65.57483673095703,
          -66.90070343017578,
          -67.52999114990234,
          -67.46903991699219,
          -65.32319641113281,
          -65.12826538085938,
          -64.43368530273438,
          -64.08680725097656,
          -62.24946212768555,
          -64.21309661865234,
          -62.225555419921875,
          -60.019134521484375,
          -59.58539962768555,
          -59.270103454589844,
          -58.75516128540039,
          -56.6776237487793,
          -54.3073616027832,
          -54.2522087097168,
          -52.89596939086914,
          -49.386146545410156,
          -45.856956481933594,
          -40.406734466552734,
          -29.86493682861328,
          -10.163692474365234,
          44.772117614746094,
          -69.12383270263672,
          -70.68878173828125,
          -72.15397644042969,
          -71.69587707519531,
          -73.84233093261719,
          -74.87931060791016,
          -73.55522918701172,
          -74.56814575195312,
          -72.60646057128906,
          -73.85346984863281,
          -71.64605712890625,
          -71.18016052246094,
          -72.16763305664062,
          -71.66049194335938,
          -70.72566223144531,
          -70.58922576904297,
          -73.44564056396484,
          -73.1314468383789,
          -74.70822143554688,
          -73.90705871582031,
          -71.45164489746094,
          -70.6214599609375,
          -72.2809829711914,
          -74.24787139892578,
          -72.5062026977539,
          -73.70128631591797,
          -72.78231811523438,
          -72.89745330810547,
          -73.74011993408203,
          -73.65459442138672,
          -71.35082244873047,
          -68.76942443847656,
          -69.486328125,
          -70.46857452392578,
          -70.24878692626953,
          -70.10169982910156,
          -71.4494400024414,
          -72.80913543701172,
          -70.07191467285156,
          -68.24819946289062,
          -69.5324935913086,
          -69.3151626586914,
          -69.20985412597656,
          -68.84068298339844,
          -66.96936798095703,
          -69.20929718017578,
          -71.0105972290039,
          -71.7363510131836,
          -70.10816955566406,
          -68.8174057006836,
          -69.53861236572266,
          -64.6937255859375,
          -62.020469665527344,
          -59.253910064697266,
          -60.94573211669922,
          -58.69417953491211,
          -57.31702423095703,
          -57.530906677246094,
          -58.024681091308594,
          -58.45886993408203,
          -59.09363555908203,
          -61.32667922973633,
          -62.80800247192383,
          -63.39555358886719,
          -63.36231994628906,
          -64.0022964477539,
          -65.46336364746094,
          -65.71218872070312,
          -65.2618408203125,
          -64.20450592041016,
          -63.84349060058594,
          -61.62799072265625,
          -61.66228485107422,
          -60.188385009765625,
          -59.41642761230469,
          -59.7960319519043,
          -59.987857818603516,
          -61.153053283691406,
          -57.500038146972656,
          -57.74225616455078,
          -60.40142822265625,
          -58.474754333496094,
          -56.112030029296875,
          -53.52143859863281,
          -50.4001350402832,
          -47.07592010498047,
          -40.60809326171875,
          -32.11079406738281,
          -12.372800827026367,
          37.95556640625,
          -67.61835479736328,
          -67.63134002685547,
          -69.69534301757812,
          -72.59797668457031,
          -74.77811431884766,
          -73.7101821899414,
          -74.56239318847656,
          -73.98857116699219,
          -74.47917938232422,
          -76.78617858886719,
          -74.9951171875,
          -77.11717987060547,
          -76.08196258544922,
          -72.62976837158203,
          -74.71187591552734,
          -72.71822357177734,
          -71.74376678466797,
          -71.53107452392578,
          -75.84204864501953,
          -76.38195037841797,
          -75.84130859375,
          -73.70053100585938,
          -73.20494842529297,
          -70.80426788330078,
          -71.705810546875,
          -70.07897186279297,
          -69.54478454589844,
          -68.16314697265625,
          -69.8617172241211,
          -72.76130676269531,
          -72.16788482666016,
          -73.61959838867188,
          -70.69888305664062,
          -71.45763397216797,
          -72.15467071533203,
          -71.6091537475586,
          -68.50112915039062,
          -65.73799896240234,
          -68.32865905761719,
          -66.84344482421875,
          -64.59442138671875,
          -68.39376831054688,
          -69.0499496459961,
          -70.34191131591797,
          -69.7990493774414,
          -66.53341674804688,
          -62.81837844848633,
          -62.762813568115234,
          -62.64777374267578,
          -62.762664794921875,
          -63.48639678955078,
          -63.302635192871094,
          -64.25021362304688,
          -63.72050476074219,
          -62.91518020629883,
          -61.32050704956055,
          -61.38459396362305,
          -60.63748550415039,
          -61.5099983215332,
          -61.748043060302734,
          -60.778953552246094,
          -61.84103012084961,
          -63.39030075073242,
          -62.879947662353516,
          -63.84550094604492,
          -66.25,
          -66.07571411132812,
          -66.15399169921875,
          -62.242515563964844,
          -62.55548095703125,
          -64.04169464111328,
          -62.402164459228516,
          -61.829322814941406,
          -61.72926330566406,
          -61.5016975402832,
          -62.65599060058594,
          -63.41521072387695,
          -62.59720230102539,
          -61.72266387939453,
          -59.768226623535156,
          -59.04600143432617,
          -59.31712341308594,
          -57.75713348388672,
          -55.17797088623047,
          -54.82171630859375,
          -51.90927505493164,
          -50.44947814941406,
          -46.30852127075195,
          -39.331398010253906,
          -26.542089462280273,
          0.671142578125,
          84.25529479980469,
          -66.81832885742188,
          -71.95431518554688,
          -69.48147583007812,
          -72.63280487060547,
          -72.26630401611328,
          -73.64629364013672,
          -77.20630645751953,
          -73.44596099853516,
          -73.1640853881836,
          -74.5523681640625,
          -71.50537872314453,
          -69.75741577148438,
          -71.00390625,
          -71.07423400878906,
          -71.15884399414062,
          -70.56564331054688,
          -69.49280548095703,
          -71.07847595214844,
          -70.71741485595703,
          -72.25337982177734,
          -72.77883911132812,
          -72.17838287353516,
          -71.86906433105469,
          -70.84834289550781,
          -71.8865966796875,
          -73.26121520996094,
          -72.98604583740234,
          -70.97234344482422,
          -68.64202117919922,
          -69.12370300292969,
          -67.33131408691406,
          -67.71869659423828,
          -67.56727600097656,
          -70.07585906982422,
          -70.039794921875,
          -67.03662109375,
          -67.03761291503906,
          -67.34712219238281,
          -68.88175964355469,
          -70.666259765625,
          -68.93350219726562,
          -68.13887023925781,
          -67.79714965820312,
          -69.90069580078125,
          -66.67819213867188,
          -66.97062683105469,
          -67.29042053222656,
          -68.57683563232422,
          -69.15599060058594,
          -69.23912811279297,
          -69.66777801513672,
          -69.2410659790039,
          -71.80125427246094,
          -70.10375213623047,
          -67.42577362060547,
          -67.19244384765625,
          -67.23202514648438,
          -68.2034683227539,
          -67.63701629638672,
          -68.53672790527344,
          -67.67875671386719,
          -67.73655700683594,
          -65.70333099365234,
          -65.14373779296875,
          -67.19912719726562,
          -63.177223205566406,
          -65.05741119384766,
          -64.29067993164062,
          -65.52898406982422,
          -65.63309478759766,
          -63.44633102416992,
          -62.42424011230469,
          -62.65917205810547,
          -66.18882751464844,
          -66.28396606445312,
          -64.4738540649414,
          -66.18536376953125,
          -63.84102249145508,
          -63.35762023925781,
          -62.23212814331055,
          -59.99203109741211,
          -58.6794548034668,
          -56.28474426269531,
          -54.07624816894531,
          -47.50267028808594,
          -41.270896911621094,
          -31.61123275756836,
          -11.544212341308594,
          43.83760070800781,
          -67.88008117675781,
          -70.58607482910156,
          -69.88339233398438,
          -72.55791473388672,
          -75.0579833984375,
          -69.95159149169922,
          -69.34963989257812,
          -69.59915161132812,
          -70.52288818359375,
          -70.92449951171875,
          -69.52201843261719,
          -68.82367706298828,
          -70.38887786865234,
          -69.2236099243164,
          -71.12142944335938,
          -73.14561462402344,
          -74.89446258544922,
          -73.72218322753906,
          -73.66889953613281,
          -74.04181671142578,
          -73.64769744873047,
          -72.28350830078125,
          -70.46989440917969,
          -68.87083435058594,
          -68.15220642089844,
          -68.83924865722656,
          -68.22201538085938,
          -65.80841064453125,
          -65.72676849365234,
          -66.38095092773438,
          -67.03241729736328,
          -67.27281188964844,
          -67.77845764160156,
          -65.69327545166016,
          -68.42613983154297,
          -68.1290512084961,
          -67.92166900634766,
          -70.41497802734375,
          -72.24608612060547,
          -71.4722900390625,
          -70.2691650390625,
          -69.87437438964844,
          -67.95695495605469,
          -66.04602813720703,
          -65.91903686523438,
          -64.89328002929688,
          -66.4233169555664,
          -68.68256378173828,
          -67.60604095458984,
          -66.61963653564453,
          -68.60951232910156,
          -65.17057037353516,
          -62.57398986816406,
          -64.20970916748047,
          -66.12173461914062,
          -69.38406372070312,
          -68.46520233154297,
          -69.01136779785156,
          -70.5923843383789,
          -68.6815414428711,
          -65.99657440185547,
          -65.0737075805664,
          -65.29512023925781,
          -60.58614730834961,
          -58.96688461303711,
          -57.17293167114258,
          -53.388851165771484,
          -50.421241760253906,
          -46.949188232421875,
          -44.037532806396484,
          -37.318572998046875,
          -23.237518310546875,
          8.662927627563477,
          105.84909057617188,
          -70.5540771484375,
          -74.66844177246094,
          -75.9827651977539,
          -76.03752136230469,
          -76.6877212524414,
          -76.41368103027344,
          -74.86643981933594,
          -76.08686828613281,
          -76.085693359375,
          -74.41404724121094,
          -74.8599853515625,
          -73.45063018798828,
          -74.94247436523438,
          -75.94969940185547,
          -74.92498779296875,
          -74.27558135986328,
          -72.84715270996094,
          -71.1286849975586,
          -71.83323669433594,
          -76.09583282470703,
          -74.04254150390625,
          -70.73400115966797,
          -72.63411712646484,
          -72.61074829101562,
          -74.88933563232422,
          -73.28208923339844,
          -71.7752456665039,
          -69.76671600341797,
          -69.50547790527344,
          -70.49805450439453,
          -69.54998779296875,
          -69.42412567138672,
          -70.08576965332031,
          -72.66458129882812,
          -73.00819396972656,
          -72.51744079589844,
          -71.6070785522461,
          -73.12419128417969,
          -72.7797622680664,
          -69.72140502929688,
          -69.36943817138672,
          -71.06428527832031,
          -71.72314453125,
          -71.76701354980469,
          -72.97038269042969,
          -70.09935760498047,
          -71.43133544921875,
          -73.65731811523438,
          -71.50859069824219,
          -69.9717025756836,
          -69.53993225097656,
          -70.72697448730469,
          -69.59435272216797,
          -70.26811981201172,
          -67.50978088378906,
          -67.94169616699219,
          -69.12775421142578,
          -65.73306274414062,
          -68.31985473632812,
          -64.69434356689453,
          -65.81906127929688,
          -65.61540985107422,
          -65.89599609375,
          -64.69842529296875,
          -64.14796447753906,
          -61.690399169921875,
          -62.1771354675293,
          -62.79811096191406,
          -64.54035949707031,
          -65.20880889892578,
          -65.29772186279297,
          -64.83421325683594,
          -63.81938934326172,
          -62.75236511230469,
          -61.67135238647461,
          -59.75923156738281,
          -60.078147888183594,
          -58.9112548828125,
          -56.884864807128906,
          -57.050811767578125,
          -53.669044494628906,
          -50.24948501586914,
          -46.91545486450195,
          -39.90319061279297,
          -27.922313690185547,
          -3.5030040740966797,
          64.71546936035156,
          -71.72723388671875,
          -73.54425048828125,
          -74.454345703125,
          -74.95569610595703,
          -73.2068862915039,
          -74.29023742675781,
          -71.9431381225586,
          -73.8563461303711,
          -77.33232116699219,
          -78.17948913574219,
          -76.95185852050781,
          -74.85840606689453,
          -74.9749984741211,
          -73.63004302978516,
          -77.16014862060547,
          -76.09765625,
          -75.58920288085938,
          -72.53502655029297,
          -70.80377197265625,
          -73.35063934326172,
          -73.21910858154297,
          -74.42618560791016,
          -71.36531066894531,
          -69.61448669433594,
          -72.45719909667969,
          -74.27706146240234,
          -75.15454864501953,
          -76.0453872680664,
          -77.81664276123047,
          -72.67121124267578,
          -72.95973205566406,
          -71.16191101074219,
          -72.38177490234375,
          -71.76646423339844,
          -69.37773895263672,
          -68.34053802490234,
          -69.46530151367188,
          -72.02322387695312,
          -72.54804992675781,
          -72.68134307861328,
          -72.222900390625,
          -69.87955474853516,
          -70.9218521118164,
          -73.974853515625,
          -71.6926040649414,
          -67.97460174560547,
          -66.45661163330078,
          -67.61865997314453,
          -68.849853515625,
          -68.3978271484375,
          -68.60899353027344,
          -67.60262298583984,
          -65.03517150878906,
          -62.93348693847656,
          -63.88893127441406,
          -61.386356353759766,
          -63.26561737060547,
          -62.17138671875,
          -63.623634338378906,
          -62.21415710449219,
          -63.634281158447266,
          -64.54161071777344,
          -64.00904846191406,
          -62.26500701904297,
          -63.998924255371094,
          -59.96300506591797,
          -59.85154342651367,
          -59.667991638183594,
          -57.416168212890625,
          -55.35512924194336,
          -55.49925231933594,
          -54.12928009033203,
          -52.87370300292969,
          -54.01021957397461,
          -52.787872314453125,
          -49.8170051574707,
          -46.699832916259766,
          -41.53986740112305,
          -32.824859619140625,
          -13.34493637084961,
          33.97197723388672,
          -70.30265808105469,
          -71.23438262939453,
          -72.484130859375,
          -72.85587310791016,
          -72.52009582519531,
          -72.63832092285156,
          -73.2772216796875,
          -73.75799560546875,
          -73.94485473632812,
          -73.4887466430664,
          -73.47969055175781,
          -74.71295166015625,
          -73.57550811767578,
          -74.9486083984375,
          -74.7274398803711,
          -76.29969024658203,
          -75.7300796508789,
          -74.51509094238281,
          -73.4595718383789,
          -71.15771484375,
          -72.3681640625,
          -72.98653411865234,
          -73.57293701171875,
          -74.27143096923828,
          -73.74174499511719,
          -73.63959503173828,
          -73.99243927001953,
          -74.36675262451172,
          -71.36808776855469,
          -72.90962219238281,
          -72.80509948730469,
          -70.8984146118164,
          -71.73832702636719,
          -72.91563415527344,
          -73.26444244384766,
          -69.06970977783203,
          -70.53138732910156,
          -69.86264038085938,
          -68.74908447265625,
          -71.70881652832031,
          -69.38937377929688,
          -73.87718963623047,
          -72.9156494140625,
          -72.80938720703125,
          -74.05349731445312,
          -72.8152847290039,
          -72.11326599121094,
          -71.8508529663086,
          -71.60816955566406,
          -68.9222183227539,
          -68.38482666015625,
          -69.47899627685547,
          -70.27835083007812,
          -69.36247253417969,
          -66.53585815429688,
          -65.72747802734375,
          -66.70079040527344,
          -65.49758911132812,
          -64.55138397216797,
          -64.76078033447266,
          -65.38720703125
         ],
         "yaxis": "y"
        }
       ],
       "layout": {
        "autosize": true,
        "legend": {
         "title": {
          "text": "variable"
         },
         "tracegroupgap": 0
        },
        "margin": {
         "t": 60
        },
        "template": {
         "data": {
          "bar": [
           {
            "error_x": {
             "color": "#2a3f5f"
            },
            "error_y": {
             "color": "#2a3f5f"
            },
            "marker": {
             "line": {
              "color": "#E5ECF6",
              "width": 0.5
             },
             "pattern": {
              "fillmode": "overlay",
              "size": 10,
              "solidity": 0.2
             }
            },
            "type": "bar"
           }
          ],
          "barpolar": [
           {
            "marker": {
             "line": {
              "color": "#E5ECF6",
              "width": 0.5
             },
             "pattern": {
              "fillmode": "overlay",
              "size": 10,
              "solidity": 0.2
             }
            },
            "type": "barpolar"
           }
          ],
          "carpet": [
           {
            "aaxis": {
             "endlinecolor": "#2a3f5f",
             "gridcolor": "white",
             "linecolor": "white",
             "minorgridcolor": "white",
             "startlinecolor": "#2a3f5f"
            },
            "baxis": {
             "endlinecolor": "#2a3f5f",
             "gridcolor": "white",
             "linecolor": "white",
             "minorgridcolor": "white",
             "startlinecolor": "#2a3f5f"
            },
            "type": "carpet"
           }
          ],
          "choropleth": [
           {
            "colorbar": {
             "outlinewidth": 0,
             "ticks": ""
            },
            "type": "choropleth"
           }
          ],
          "contour": [
           {
            "colorbar": {
             "outlinewidth": 0,
             "ticks": ""
            },
            "colorscale": [
             [
              0,
              "#0d0887"
             ],
             [
              0.1111111111111111,
              "#46039f"
             ],
             [
              0.2222222222222222,
              "#7201a8"
             ],
             [
              0.3333333333333333,
              "#9c179e"
             ],
             [
              0.4444444444444444,
              "#bd3786"
             ],
             [
              0.5555555555555556,
              "#d8576b"
             ],
             [
              0.6666666666666666,
              "#ed7953"
             ],
             [
              0.7777777777777778,
              "#fb9f3a"
             ],
             [
              0.8888888888888888,
              "#fdca26"
             ],
             [
              1,
              "#f0f921"
             ]
            ],
            "type": "contour"
           }
          ],
          "contourcarpet": [
           {
            "colorbar": {
             "outlinewidth": 0,
             "ticks": ""
            },
            "type": "contourcarpet"
           }
          ],
          "heatmap": [
           {
            "colorbar": {
             "outlinewidth": 0,
             "ticks": ""
            },
            "colorscale": [
             [
              0,
              "#0d0887"
             ],
             [
              0.1111111111111111,
              "#46039f"
             ],
             [
              0.2222222222222222,
              "#7201a8"
             ],
             [
              0.3333333333333333,
              "#9c179e"
             ],
             [
              0.4444444444444444,
              "#bd3786"
             ],
             [
              0.5555555555555556,
              "#d8576b"
             ],
             [
              0.6666666666666666,
              "#ed7953"
             ],
             [
              0.7777777777777778,
              "#fb9f3a"
             ],
             [
              0.8888888888888888,
              "#fdca26"
             ],
             [
              1,
              "#f0f921"
             ]
            ],
            "type": "heatmap"
           }
          ],
          "heatmapgl": [
           {
            "colorbar": {
             "outlinewidth": 0,
             "ticks": ""
            },
            "colorscale": [
             [
              0,
              "#0d0887"
             ],
             [
              0.1111111111111111,
              "#46039f"
             ],
             [
              0.2222222222222222,
              "#7201a8"
             ],
             [
              0.3333333333333333,
              "#9c179e"
             ],
             [
              0.4444444444444444,
              "#bd3786"
             ],
             [
              0.5555555555555556,
              "#d8576b"
             ],
             [
              0.6666666666666666,
              "#ed7953"
             ],
             [
              0.7777777777777778,
              "#fb9f3a"
             ],
             [
              0.8888888888888888,
              "#fdca26"
             ],
             [
              1,
              "#f0f921"
             ]
            ],
            "type": "heatmapgl"
           }
          ],
          "histogram": [
           {
            "marker": {
             "pattern": {
              "fillmode": "overlay",
              "size": 10,
              "solidity": 0.2
             }
            },
            "type": "histogram"
           }
          ],
          "histogram2d": [
           {
            "colorbar": {
             "outlinewidth": 0,
             "ticks": ""
            },
            "colorscale": [
             [
              0,
              "#0d0887"
             ],
             [
              0.1111111111111111,
              "#46039f"
             ],
             [
              0.2222222222222222,
              "#7201a8"
             ],
             [
              0.3333333333333333,
              "#9c179e"
             ],
             [
              0.4444444444444444,
              "#bd3786"
             ],
             [
              0.5555555555555556,
              "#d8576b"
             ],
             [
              0.6666666666666666,
              "#ed7953"
             ],
             [
              0.7777777777777778,
              "#fb9f3a"
             ],
             [
              0.8888888888888888,
              "#fdca26"
             ],
             [
              1,
              "#f0f921"
             ]
            ],
            "type": "histogram2d"
           }
          ],
          "histogram2dcontour": [
           {
            "colorbar": {
             "outlinewidth": 0,
             "ticks": ""
            },
            "colorscale": [
             [
              0,
              "#0d0887"
             ],
             [
              0.1111111111111111,
              "#46039f"
             ],
             [
              0.2222222222222222,
              "#7201a8"
             ],
             [
              0.3333333333333333,
              "#9c179e"
             ],
             [
              0.4444444444444444,
              "#bd3786"
             ],
             [
              0.5555555555555556,
              "#d8576b"
             ],
             [
              0.6666666666666666,
              "#ed7953"
             ],
             [
              0.7777777777777778,
              "#fb9f3a"
             ],
             [
              0.8888888888888888,
              "#fdca26"
             ],
             [
              1,
              "#f0f921"
             ]
            ],
            "type": "histogram2dcontour"
           }
          ],
          "mesh3d": [
           {
            "colorbar": {
             "outlinewidth": 0,
             "ticks": ""
            },
            "type": "mesh3d"
           }
          ],
          "parcoords": [
           {
            "line": {
             "colorbar": {
              "outlinewidth": 0,
              "ticks": ""
             }
            },
            "type": "parcoords"
           }
          ],
          "pie": [
           {
            "automargin": true,
            "type": "pie"
           }
          ],
          "scatter": [
           {
            "fillpattern": {
             "fillmode": "overlay",
             "size": 10,
             "solidity": 0.2
            },
            "type": "scatter"
           }
          ],
          "scatter3d": [
           {
            "line": {
             "colorbar": {
              "outlinewidth": 0,
              "ticks": ""
             }
            },
            "marker": {
             "colorbar": {
              "outlinewidth": 0,
              "ticks": ""
             }
            },
            "type": "scatter3d"
           }
          ],
          "scattercarpet": [
           {
            "marker": {
             "colorbar": {
              "outlinewidth": 0,
              "ticks": ""
             }
            },
            "type": "scattercarpet"
           }
          ],
          "scattergeo": [
           {
            "marker": {
             "colorbar": {
              "outlinewidth": 0,
              "ticks": ""
             }
            },
            "type": "scattergeo"
           }
          ],
          "scattergl": [
           {
            "marker": {
             "colorbar": {
              "outlinewidth": 0,
              "ticks": ""
             }
            },
            "type": "scattergl"
           }
          ],
          "scattermapbox": [
           {
            "marker": {
             "colorbar": {
              "outlinewidth": 0,
              "ticks": ""
             }
            },
            "type": "scattermapbox"
           }
          ],
          "scatterpolar": [
           {
            "marker": {
             "colorbar": {
              "outlinewidth": 0,
              "ticks": ""
             }
            },
            "type": "scatterpolar"
           }
          ],
          "scatterpolargl": [
           {
            "marker": {
             "colorbar": {
              "outlinewidth": 0,
              "ticks": ""
             }
            },
            "type": "scatterpolargl"
           }
          ],
          "scatterternary": [
           {
            "marker": {
             "colorbar": {
              "outlinewidth": 0,
              "ticks": ""
             }
            },
            "type": "scatterternary"
           }
          ],
          "surface": [
           {
            "colorbar": {
             "outlinewidth": 0,
             "ticks": ""
            },
            "colorscale": [
             [
              0,
              "#0d0887"
             ],
             [
              0.1111111111111111,
              "#46039f"
             ],
             [
              0.2222222222222222,
              "#7201a8"
             ],
             [
              0.3333333333333333,
              "#9c179e"
             ],
             [
              0.4444444444444444,
              "#bd3786"
             ],
             [
              0.5555555555555556,
              "#d8576b"
             ],
             [
              0.6666666666666666,
              "#ed7953"
             ],
             [
              0.7777777777777778,
              "#fb9f3a"
             ],
             [
              0.8888888888888888,
              "#fdca26"
             ],
             [
              1,
              "#f0f921"
             ]
            ],
            "type": "surface"
           }
          ],
          "table": [
           {
            "cells": {
             "fill": {
              "color": "#EBF0F8"
             },
             "line": {
              "color": "white"
             }
            },
            "header": {
             "fill": {
              "color": "#C8D4E3"
             },
             "line": {
              "color": "white"
             }
            },
            "type": "table"
           }
          ]
         },
         "layout": {
          "annotationdefaults": {
           "arrowcolor": "#2a3f5f",
           "arrowhead": 0,
           "arrowwidth": 1
          },
          "autotypenumbers": "strict",
          "coloraxis": {
           "colorbar": {
            "outlinewidth": 0,
            "ticks": ""
           }
          },
          "colorscale": {
           "diverging": [
            [
             0,
             "#8e0152"
            ],
            [
             0.1,
             "#c51b7d"
            ],
            [
             0.2,
             "#de77ae"
            ],
            [
             0.3,
             "#f1b6da"
            ],
            [
             0.4,
             "#fde0ef"
            ],
            [
             0.5,
             "#f7f7f7"
            ],
            [
             0.6,
             "#e6f5d0"
            ],
            [
             0.7,
             "#b8e186"
            ],
            [
             0.8,
             "#7fbc41"
            ],
            [
             0.9,
             "#4d9221"
            ],
            [
             1,
             "#276419"
            ]
           ],
           "sequential": [
            [
             0,
             "#0d0887"
            ],
            [
             0.1111111111111111,
             "#46039f"
            ],
            [
             0.2222222222222222,
             "#7201a8"
            ],
            [
             0.3333333333333333,
             "#9c179e"
            ],
            [
             0.4444444444444444,
             "#bd3786"
            ],
            [
             0.5555555555555556,
             "#d8576b"
            ],
            [
             0.6666666666666666,
             "#ed7953"
            ],
            [
             0.7777777777777778,
             "#fb9f3a"
            ],
            [
             0.8888888888888888,
             "#fdca26"
            ],
            [
             1,
             "#f0f921"
            ]
           ],
           "sequentialminus": [
            [
             0,
             "#0d0887"
            ],
            [
             0.1111111111111111,
             "#46039f"
            ],
            [
             0.2222222222222222,
             "#7201a8"
            ],
            [
             0.3333333333333333,
             "#9c179e"
            ],
            [
             0.4444444444444444,
             "#bd3786"
            ],
            [
             0.5555555555555556,
             "#d8576b"
            ],
            [
             0.6666666666666666,
             "#ed7953"
            ],
            [
             0.7777777777777778,
             "#fb9f3a"
            ],
            [
             0.8888888888888888,
             "#fdca26"
            ],
            [
             1,
             "#f0f921"
            ]
           ]
          },
          "colorway": [
           "#636efa",
           "#EF553B",
           "#00cc96",
           "#ab63fa",
           "#FFA15A",
           "#19d3f3",
           "#FF6692",
           "#B6E880",
           "#FF97FF",
           "#FECB52"
          ],
          "font": {
           "color": "#2a3f5f"
          },
          "geo": {
           "bgcolor": "white",
           "lakecolor": "white",
           "landcolor": "#E5ECF6",
           "showlakes": true,
           "showland": true,
           "subunitcolor": "white"
          },
          "hoverlabel": {
           "align": "left"
          },
          "hovermode": "closest",
          "mapbox": {
           "style": "light"
          },
          "paper_bgcolor": "white",
          "plot_bgcolor": "#E5ECF6",
          "polar": {
           "angularaxis": {
            "gridcolor": "white",
            "linecolor": "white",
            "ticks": ""
           },
           "bgcolor": "#E5ECF6",
           "radialaxis": {
            "gridcolor": "white",
            "linecolor": "white",
            "ticks": ""
           }
          },
          "scene": {
           "xaxis": {
            "backgroundcolor": "#E5ECF6",
            "gridcolor": "white",
            "gridwidth": 2,
            "linecolor": "white",
            "showbackground": true,
            "ticks": "",
            "zerolinecolor": "white"
           },
           "yaxis": {
            "backgroundcolor": "#E5ECF6",
            "gridcolor": "white",
            "gridwidth": 2,
            "linecolor": "white",
            "showbackground": true,
            "ticks": "",
            "zerolinecolor": "white"
           },
           "zaxis": {
            "backgroundcolor": "#E5ECF6",
            "gridcolor": "white",
            "gridwidth": 2,
            "linecolor": "white",
            "showbackground": true,
            "ticks": "",
            "zerolinecolor": "white"
           }
          },
          "shapedefaults": {
           "line": {
            "color": "#2a3f5f"
           }
          },
          "ternary": {
           "aaxis": {
            "gridcolor": "white",
            "linecolor": "white",
            "ticks": ""
           },
           "baxis": {
            "gridcolor": "white",
            "linecolor": "white",
            "ticks": ""
           },
           "bgcolor": "#E5ECF6",
           "caxis": {
            "gridcolor": "white",
            "linecolor": "white",
            "ticks": ""
           }
          },
          "title": {
           "x": 0.05
          },
          "xaxis": {
           "automargin": true,
           "gridcolor": "white",
           "linecolor": "white",
           "ticks": "",
           "title": {
            "standoff": 15
           },
           "zerolinecolor": "white",
           "zerolinewidth": 2
          },
          "yaxis": {
           "automargin": true,
           "gridcolor": "white",
           "linecolor": "white",
           "ticks": "",
           "title": {
            "standoff": 15
           },
           "zerolinecolor": "white",
           "zerolinewidth": 2
          }
         }
        },
        "xaxis": {
         "anchor": "y",
         "autorange": true,
         "domain": [
          0,
          1
         ],
         "range": [
          -61.14253761691745,
          1060.1425376169175
         ],
         "title": {
          "text": "index"
         },
         "type": "linear"
        },
        "yaxis": {
         "anchor": "x",
         "autorange": true,
         "domain": [
          0,
          1
         ],
         "range": [
          -95.12022886501522,
          157.55521116481992
         ],
         "title": {
          "text": "value"
         },
         "type": "linear"
        }
       }
      },
      "image/png": "[encoded data removed]",
      "text/html": [
       "<div>                            <div id=\"b9274e09-537d-48b2-beec-6e947ac45b1d\" class=\"plotly-graph-div\" style=\"height:525px; width:100%;\"></div>            <script type=\"text/javascript\">                require([\"plotly\"], function(Plotly) {                    window.PLOTLYENV=window.PLOTLYENV || {};                                    if (document.getElementById(\"b9274e09-537d-48b2-beec-6e947ac45b1d\")) {                    Plotly.newPlot(                        \"b9274e09-537d-48b2-beec-6e947ac45b1d\",                        [{\"hovertemplate\":\"variable=0<br>index=%{x}<br>value=%{y}<extra></extra>\",\"legendgroup\":\"0\",\"marker\":{\"color\":\"#636efa\",\"symbol\":\"circle\"},\"mode\":\"markers\",\"name\":\"0\",\"orientation\":\"v\",\"showlegend\":true,\"x\":[0,1,2,3,4,5,6,7,8,9,10,11,12,13,14,15,16,17,18,19,20,21,22,23,24,25,26,27,28,29,30,31,32,33,34,35,36,37,38,39,40,41,42,43,44,45,46,47,48,49,50,51,52,53,54,55,56,57,58,59,60,61,62,63,64,65,66,67,68,69,70,71,72,73,74,75,76,77,78,79,80,81,82,83,84,85,86,87,88,89,90,91,92,93,94,95,96,97,98,99,100,101,102,103,104,105,106,107,108,109,110,111,112,113,114,115,116,117,118,119,120,121,122,123,124,125,126,127,128,129,130,131,132,133,134,135,136,137,138,139,140,141,142,143,144,145,146,147,148,149,150,151,152,153,154,155,156,157,158,159,160,161,162,163,164,165,166,167,168,169,170,171,172,173,174,175,176,177,178,179,180,181,182,183,184,185,186,187,188,189,190,191,192,193,194,195,196,197,198,199,200,201,202,203,204,205,206,207,208,209,210,211,212,213,214,215,216,217,218,219,220,221,222,223,224,225,226,227,228,229,230,231,232,233,234,235,236,237,238,239,240,241,242,243,244,245,246,247,248,249,250,251,252,253,254,255,256,257,258,259,260,261,262,263,264,265,266,267,268,269,270,271,272,273,274,275,276,277,278,279,280,281,282,283,284,285,286,287,288,289,290,291,292,293,294,295,296,297,298,299,300,301,302,303,304,305,306,307,308,309,310,311,312,313,314,315,316,317,318,319,320,321,322,323,324,325,326,327,328,329,330,331,332,333,334,335,336,337,338,339,340,341,342,343,344,345,346,347,348,349,350,351,352,353,354,355,356,357,358,359,360,361,362,363,364,365,366,367,368,369,370,371,372,373,374,375,376,377,378,379,380,381,382,383,384,385,386,387,388,389,390,391,392,393,394,395,396,397,398,399,400,401,402,403,404,405,406,407,408,409,410,411,412,413,414,415,416,417,418,419,420,421,422,423,424,425,426,427,428,429,430,431,432,433,434,435,436,437,438,439,440,441,442,443,444,445,446,447,448,449,450,451,452,453,454,455,456,457,458,459,460,461,462,463,464,465,466,467,468,469,470,471,472,473,474,475,476,477,478,479,480,481,482,483,484,485,486,487,488,489,490,491,492,493,494,495,496,497,498,499,500,501,502,503,504,505,506,507,508,509,510,511,512,513,514,515,516,517,518,519,520,521,522,523,524,525,526,527,528,529,530,531,532,533,534,535,536,537,538,539,540,541,542,543,544,545,546,547,548,549,550,551,552,553,554,555,556,557,558,559,560,561,562,563,564,565,566,567,568,569,570,571,572,573,574,575,576,577,578,579,580,581,582,583,584,585,586,587,588,589,590,591,592,593,594,595,596,597,598,599,600,601,602,603,604,605,606,607,608,609,610,611,612,613,614,615,616,617,618,619,620,621,622,623,624,625,626,627,628,629,630,631,632,633,634,635,636,637,638,639,640,641,642,643,644,645,646,647,648,649,650,651,652,653,654,655,656,657,658,659,660,661,662,663,664,665,666,667,668,669,670,671,672,673,674,675,676,677,678,679,680,681,682,683,684,685,686,687,688,689,690,691,692,693,694,695,696,697,698,699,700,701,702,703,704,705,706,707,708,709,710,711,712,713,714,715,716,717,718,719,720,721,722,723,724,725,726,727,728,729,730,731,732,733,734,735,736,737,738,739,740,741,742,743,744,745,746,747,748,749,750,751,752,753,754,755,756,757,758,759,760,761,762,763,764,765,766,767,768,769,770,771,772,773,774,775,776,777,778,779,780,781,782,783,784,785,786,787,788,789,790,791,792,793,794,795,796,797,798,799,800,801,802,803,804,805,806,807,808,809,810,811,812,813,814,815,816,817,818,819,820,821,822,823,824,825,826,827,828,829,830,831,832,833,834,835,836,837,838,839,840,841,842,843,844,845,846,847,848,849,850,851,852,853,854,855,856,857,858,859,860,861,862,863,864,865,866,867,868,869,870,871,872,873,874,875,876,877,878,879,880,881,882,883,884,885,886,887,888,889,890,891,892,893,894,895,896,897,898,899,900,901,902,903,904,905,906,907,908,909,910,911,912,913,914,915,916,917,918,919,920,921,922,923,924,925,926,927,928,929,930,931,932,933,934,935,936,937,938,939,940,941,942,943,944,945,946,947,948,949,950,951,952,953,954,955,956,957,958,959,960,961,962,963,964,965,966,967,968,969,970,971,972,973,974,975,976,977,978,979,980,981,982,983,984,985,986,987,988,989,990,991,992,993,994,995,996,997,998,999],\"xaxis\":\"x\",\"y\":[-69.0,-59.375125885009766,-51.04979705810547,-41.172061920166016,-29.327768325805664,-0.4027271270751953,80.7464370727539,-63.120445251464844,-63.46665954589844,-62.69334030151367,-58.30535888671875,-56.59906768798828,-56.0369873046875,-54.2947883605957,-51.76228332519531,-48.559295654296875,-41.41789627075195,-27.971935272216797,-2.2613067626953125,71.67285919189453,-66.14635467529297,-68.73136901855469,-68.16280364990234,-68.09317779541016,-66.63001251220703,-66.03952026367188,-65.46292114257812,-65.9400405883789,-65.21946716308594,-66.88763427734375,-67.85844421386719,-69.02963256835938,-68.16727447509766,-70.86921691894531,-71.99134826660156,-71.68937683105469,-68.53811645507812,-68.39506530761719,-69.35237121582031,-68.92110443115234,-70.17613983154297,-72.20275115966797,-69.64532470703125,-70.71448516845703,-70.98863983154297,-72.09506225585938,-67.6943130493164,-69.58506774902344,-69.84431457519531,-70.62063598632812,-70.7262191772461,-69.6461181640625,-68.18026733398438,-68.56595611572266,-66.29683685302734,-67.4395980834961,-68.22151184082031,-69.79325866699219,-68.75215148925781,-68.0981674194336,-66.4097671508789,-66.19721984863281,-63.06120681762695,-64.695556640625,-62.346622467041016,-59.96159362792969,-58.29298400878906,-54.31950378417969,-51.86891174316406,-48.727413177490234,-44.799476623535156,-39.69232177734375,-26.92154884338379,-1.392751693725586,74.5531234741211,-68.34208679199219,-70.34586334228516,-71.680908203125,-74.32405853271484,-78.14047241210938,-77.61221313476562,-76.20198059082031,-76.02831268310547,-77.42640686035156,-76.8325424194336,-74.8411636352539,-73.8680648803711,-72.37092590332031,-73.08451843261719,-72.4081039428711,-73.78823852539062,-75.37574005126953,-73.65612030029297,-76.19359588623047,-76.0684814453125,-72.67134857177734,-72.1437759399414,-76.25811767578125,-73.89193725585938,-72.21397399902344,-72.32228088378906,-71.41436004638672,-70.87794494628906,-69.74706268310547,-71.19159698486328,-71.72425079345703,-70.60494232177734,-70.30514526367188,-70.42454528808594,-70.3241195678711,-68.69062805175781,-69.37548828125,-70.28350067138672,-72.60394287109375,-72.00979614257812,-72.34209442138672,-70.87972259521484,-69.52583312988281,-69.45458984375,-70.11124420166016,-69.1514892578125,-69.2275161743164,-68.85420989990234,-68.69276428222656,-67.57632446289062,-66.168212890625,-66.09284210205078,-65.412353515625,-65.23787689208984,-62.75843811035156,-61.72572708129883,-64.34910583496094,-66.4123306274414,-66.70230102539062,-64.24336242675781,-63.50458526611328,-62.88187026977539,-61.38605499267578,-61.51158142089844,-64.33792877197266,-62.977149963378906,-63.55201721191406,-61.992427825927734,-62.98899841308594,-61.96002197265625,-63.30421447753906,-61.70411682128906,-59.073692321777344,-56.436073303222656,-55.033050537109375,-53.93455123901367,-53.232627868652344,-50.95318603515625,-47.36234664916992,-40.89580535888672,-31.799671173095703,-10.059450149536133,41.71540832519531,-69.02046203613281,-73.25607299804688,-73.11808013916016,-77.0455093383789,-75.73811340332031,-75.39920043945312,-75.73057556152344,-74.8394775390625,-75.90560913085938,-75.00188446044922,-76.40791320800781,-77.7715835571289,-73.84444427490234,-72.04378509521484,-72.79124450683594,-75.58190155029297,-73.55258178710938,-72.41577911376953,-69.82125854492188,-71.05091094970703,-71.70637512207031,-73.42451477050781,-73.53367614746094,-74.62439727783203,-76.14112854003906,-76.13597869873047,-75.15608978271484,-74.62899017333984,-75.78074645996094,-76.92878723144531,-74.30206298828125,-71.65560150146484,-72.43289947509766,-70.96965026855469,-69.9838638305664,-67.66390228271484,-69.92417907714844,-68.73802185058594,-69.7746353149414,-71.7005615234375,-70.67747497558594,-69.77816772460938,-67.79439544677734,-67.50210571289062,-64.8426284790039,-66.47616577148438,-68.47271728515625,-68.34805297851562,-66.87968444824219,-65.30801391601562,-65.14923858642578,-66.91109466552734,-68.68785858154297,-69.25162506103516,-69.76854705810547,-68.97370910644531,-67.92132568359375,-67.95732116699219,-71.19536590576172,-70.58943176269531,-67.92296600341797,-70.2244873046875,-66.94187927246094,-66.21224212646484,-66.73587799072266,-64.86732482910156,-62.22154235839844,-62.187049865722656,-59.60491943359375,-59.08765411376953,-60.288063049316406,-60.85337829589844,-60.43917465209961,-59.4813117980957,-55.967247009277344,-54.875083923339844,-54.68975067138672,-56.126319885253906,-56.483558654785156,-55.24595260620117,-53.554412841796875,-51.10887908935547,-47.311744689941406,-43.47420883178711,-35.174720764160156,-20.380287170410156,16.48053741455078,140.61447143554688,-68.25957489013672,-71.28177642822266,-70.80265808105469,-70.73882293701172,-73.59095764160156,-72.92529296875,-72.99626159667969,-72.93649291992188,-72.80245971679688,-72.75335693359375,-73.08953094482422,-74.58769226074219,-73.43539428710938,-75.89761352539062,-77.25651550292969,-77.59215545654297,-74.79991149902344,-74.31449127197266,-72.6441650390625,-75.2215576171875,-74.32765197753906,-72.57870483398438,-72.55384063720703,-70.58292388916016,-70.8611068725586,-74.32950592041016,-73.34805297851562,-74.85225677490234,-72.59510803222656,-76.07588195800781,-74.04875183105469,-73.1330337524414,-73.50697326660156,-69.98091125488281,-70.18403625488281,-68.57145690917969,-66.23561096191406,-66.12174224853516,-65.59764099121094,-65.94522094726562,-65.08618927001953,-65.5773696899414,-66.46113586425781,-65.65790557861328,-67.90454864501953,-69.0087661743164,-69.6502914428711,-69.87712097167969,-69.71330261230469,-70.42797088623047,-69.87710571289062,-66.34490966796875,-66.21023559570312,-64.98974609375,-64.24974822998047,-64.64473724365234,-64.7651138305664,-62.96878433227539,-62.17327117919922,-61.80236053466797,-63.059059143066406,-61.95579528808594,-63.50015640258789,-62.870479583740234,-60.991004943847656,-64.39481353759766,-66.20140838623047,-65.56343078613281,-68.43003845214844,-67.7491226196289,-68.53810119628906,-68.69236755371094,-67.70233917236328,-65.00603485107422,-65.96626281738281,-64.64750671386719,-65.1632080078125,-62.93083190917969,-64.56145477294922,-63.194034576416016,-62.00457000732422,-61.34663391113281,-60.46674346923828,-59.083900451660156,-57.02469253540039,-58.20848083496094,-58.268714904785156,-56.386940002441406,-54.336524963378906,-52.94810104370117,-50.031917572021484,-44.59784698486328,-36.89080810546875,-21.54829216003418,12.966920852661133,128.8180694580078,-68.9411392211914,-71.62036895751953,-72.76435089111328,-72.56716918945312,-70.8567123413086,-72.29129028320312,-71.39242553710938,-70.97611999511719,-73.08323669433594,-74.17315673828125,-74.35505676269531,-75.05098724365234,-73.63198852539062,-73.25843048095703,-74.98532104492188,-74.46981811523438,-74.93540954589844,-74.67704772949219,-70.67864227294922,-68.38655090332031,-66.99402618408203,-68.33900451660156,-69.65870666503906,-72.97964477539062,-73.47150421142578,-73.19589233398438,-69.60086059570312,-70.39151000976562,-70.31604766845703,-67.245849609375,-65.55657196044922,-66.12017059326172,-66.11486053466797,-67.33143615722656,-66.9595947265625,-67.84597778320312,-70.03425598144531,-71.79976654052734,-70.3235855102539,-70.86260986328125,-69.01074981689453,-69.67793273925781,-69.91842651367188,-68.5019760131836,-68.52963256835938,-68.70681762695312,-68.23006439208984,-65.86495971679688,-67.49935913085938,-68.30830383300781,-68.14430236816406,-69.26368713378906,-72.35185241699219,-71.13119506835938,-68.5533447265625,-66.47225189208984,-66.74430847167969,-67.64192199707031,-65.8796157836914,-65.57483673095703,-66.90070343017578,-67.52999114990234,-67.46903991699219,-65.32319641113281,-65.12826538085938,-64.43368530273438,-64.08680725097656,-62.24946212768555,-64.21309661865234,-62.225555419921875,-60.019134521484375,-59.58539962768555,-59.270103454589844,-58.75516128540039,-56.6776237487793,-54.3073616027832,-54.2522087097168,-52.89596939086914,-49.386146545410156,-45.856956481933594,-40.406734466552734,-29.86493682861328,-10.163692474365234,44.772117614746094,-69.12383270263672,-70.68878173828125,-72.15397644042969,-71.69587707519531,-73.84233093261719,-74.87931060791016,-73.55522918701172,-74.56814575195312,-72.60646057128906,-73.85346984863281,-71.64605712890625,-71.18016052246094,-72.16763305664062,-71.66049194335938,-70.72566223144531,-70.58922576904297,-73.44564056396484,-73.1314468383789,-74.70822143554688,-73.90705871582031,-71.45164489746094,-70.6214599609375,-72.2809829711914,-74.24787139892578,-72.5062026977539,-73.70128631591797,-72.78231811523438,-72.89745330810547,-73.74011993408203,-73.65459442138672,-71.35082244873047,-68.76942443847656,-69.486328125,-70.46857452392578,-70.24878692626953,-70.10169982910156,-71.4494400024414,-72.80913543701172,-70.07191467285156,-68.24819946289062,-69.5324935913086,-69.3151626586914,-69.20985412597656,-68.84068298339844,-66.96936798095703,-69.20929718017578,-71.0105972290039,-71.7363510131836,-70.10816955566406,-68.8174057006836,-69.53861236572266,-64.6937255859375,-62.020469665527344,-59.253910064697266,-60.94573211669922,-58.69417953491211,-57.31702423095703,-57.530906677246094,-58.024681091308594,-58.45886993408203,-59.09363555908203,-61.32667922973633,-62.80800247192383,-63.39555358886719,-63.36231994628906,-64.0022964477539,-65.46336364746094,-65.71218872070312,-65.2618408203125,-64.20450592041016,-63.84349060058594,-61.62799072265625,-61.66228485107422,-60.188385009765625,-59.41642761230469,-59.7960319519043,-59.987857818603516,-61.153053283691406,-57.500038146972656,-57.74225616455078,-60.40142822265625,-58.474754333496094,-56.112030029296875,-53.52143859863281,-50.4001350402832,-47.07592010498047,-40.60809326171875,-32.11079406738281,-12.372800827026367,37.95556640625,-67.61835479736328,-67.63134002685547,-69.69534301757812,-72.59797668457031,-74.77811431884766,-73.7101821899414,-74.56239318847656,-73.98857116699219,-74.47917938232422,-76.78617858886719,-74.9951171875,-77.11717987060547,-76.08196258544922,-72.62976837158203,-74.71187591552734,-72.71822357177734,-71.74376678466797,-71.53107452392578,-75.84204864501953,-76.38195037841797,-75.84130859375,-73.70053100585938,-73.20494842529297,-70.80426788330078,-71.705810546875,-70.07897186279297,-69.54478454589844,-68.16314697265625,-69.8617172241211,-72.76130676269531,-72.16788482666016,-73.61959838867188,-70.69888305664062,-71.45763397216797,-72.15467071533203,-71.6091537475586,-68.50112915039062,-65.73799896240234,-68.32865905761719,-66.84344482421875,-64.59442138671875,-68.39376831054688,-69.0499496459961,-70.34191131591797,-69.7990493774414,-66.53341674804688,-62.81837844848633,-62.762813568115234,-62.64777374267578,-62.762664794921875,-63.48639678955078,-63.302635192871094,-64.25021362304688,-63.72050476074219,-62.91518020629883,-61.32050704956055,-61.38459396362305,-60.63748550415039,-61.5099983215332,-61.748043060302734,-60.778953552246094,-61.84103012084961,-63.39030075073242,-62.879947662353516,-63.84550094604492,-66.25,-66.07571411132812,-66.15399169921875,-62.242515563964844,-62.55548095703125,-64.04169464111328,-62.402164459228516,-61.829322814941406,-61.72926330566406,-61.5016975402832,-62.65599060058594,-63.41521072387695,-62.59720230102539,-61.72266387939453,-59.768226623535156,-59.04600143432617,-59.31712341308594,-57.75713348388672,-55.17797088623047,-54.82171630859375,-51.90927505493164,-50.44947814941406,-46.30852127075195,-39.331398010253906,-26.542089462280273,0.671142578125,84.25529479980469,-66.81832885742188,-71.95431518554688,-69.48147583007812,-72.63280487060547,-72.26630401611328,-73.64629364013672,-77.20630645751953,-73.44596099853516,-73.1640853881836,-74.5523681640625,-71.50537872314453,-69.75741577148438,-71.00390625,-71.07423400878906,-71.15884399414062,-70.56564331054688,-69.49280548095703,-71.07847595214844,-70.71741485595703,-72.25337982177734,-72.77883911132812,-72.17838287353516,-71.86906433105469,-70.84834289550781,-71.8865966796875,-73.26121520996094,-72.98604583740234,-70.97234344482422,-68.64202117919922,-69.12370300292969,-67.33131408691406,-67.71869659423828,-67.56727600097656,-70.07585906982422,-70.039794921875,-67.03662109375,-67.03761291503906,-67.34712219238281,-68.88175964355469,-70.666259765625,-68.93350219726562,-68.13887023925781,-67.79714965820312,-69.90069580078125,-66.67819213867188,-66.97062683105469,-67.29042053222656,-68.57683563232422,-69.15599060058594,-69.23912811279297,-69.66777801513672,-69.2410659790039,-71.80125427246094,-70.10375213623047,-67.42577362060547,-67.19244384765625,-67.23202514648438,-68.2034683227539,-67.63701629638672,-68.53672790527344,-67.67875671386719,-67.73655700683594,-65.70333099365234,-65.14373779296875,-67.19912719726562,-63.177223205566406,-65.05741119384766,-64.29067993164062,-65.52898406982422,-65.63309478759766,-63.44633102416992,-62.42424011230469,-62.65917205810547,-66.18882751464844,-66.28396606445312,-64.4738540649414,-66.18536376953125,-63.84102249145508,-63.35762023925781,-62.23212814331055,-59.99203109741211,-58.6794548034668,-56.28474426269531,-54.07624816894531,-47.50267028808594,-41.270896911621094,-31.61123275756836,-11.544212341308594,43.83760070800781,-67.88008117675781,-70.58607482910156,-69.88339233398438,-72.55791473388672,-75.0579833984375,-69.95159149169922,-69.34963989257812,-69.59915161132812,-70.52288818359375,-70.92449951171875,-69.52201843261719,-68.82367706298828,-70.38887786865234,-69.2236099243164,-71.12142944335938,-73.14561462402344,-74.89446258544922,-73.72218322753906,-73.66889953613281,-74.04181671142578,-73.64769744873047,-72.28350830078125,-70.46989440917969,-68.87083435058594,-68.15220642089844,-68.83924865722656,-68.22201538085938,-65.80841064453125,-65.72676849365234,-66.38095092773438,-67.03241729736328,-67.27281188964844,-67.77845764160156,-65.69327545166016,-68.42613983154297,-68.1290512084961,-67.92166900634766,-70.41497802734375,-72.24608612060547,-71.4722900390625,-70.2691650390625,-69.87437438964844,-67.95695495605469,-66.04602813720703,-65.91903686523438,-64.89328002929688,-66.4233169555664,-68.68256378173828,-67.60604095458984,-66.61963653564453,-68.60951232910156,-65.17057037353516,-62.57398986816406,-64.20970916748047,-66.12173461914062,-69.38406372070312,-68.46520233154297,-69.01136779785156,-70.5923843383789,-68.6815414428711,-65.99657440185547,-65.0737075805664,-65.29512023925781,-60.58614730834961,-58.96688461303711,-57.17293167114258,-53.388851165771484,-50.421241760253906,-46.949188232421875,-44.037532806396484,-37.318572998046875,-23.237518310546875,8.662927627563477,105.84909057617188,-70.5540771484375,-74.66844177246094,-75.9827651977539,-76.03752136230469,-76.6877212524414,-76.41368103027344,-74.86643981933594,-76.08686828613281,-76.085693359375,-74.41404724121094,-74.8599853515625,-73.45063018798828,-74.94247436523438,-75.94969940185547,-74.92498779296875,-74.27558135986328,-72.84715270996094,-71.1286849975586,-71.83323669433594,-76.09583282470703,-74.04254150390625,-70.73400115966797,-72.63411712646484,-72.61074829101562,-74.88933563232422,-73.28208923339844,-71.7752456665039,-69.76671600341797,-69.50547790527344,-70.49805450439453,-69.54998779296875,-69.42412567138672,-70.08576965332031,-72.66458129882812,-73.00819396972656,-72.51744079589844,-71.6070785522461,-73.12419128417969,-72.7797622680664,-69.72140502929688,-69.36943817138672,-71.06428527832031,-71.72314453125,-71.76701354980469,-72.97038269042969,-70.09935760498047,-71.43133544921875,-73.65731811523438,-71.50859069824219,-69.9717025756836,-69.53993225097656,-70.72697448730469,-69.59435272216797,-70.26811981201172,-67.50978088378906,-67.94169616699219,-69.12775421142578,-65.73306274414062,-68.31985473632812,-64.69434356689453,-65.81906127929688,-65.61540985107422,-65.89599609375,-64.69842529296875,-64.14796447753906,-61.690399169921875,-62.1771354675293,-62.79811096191406,-64.54035949707031,-65.20880889892578,-65.29772186279297,-64.83421325683594,-63.81938934326172,-62.75236511230469,-61.67135238647461,-59.75923156738281,-60.078147888183594,-58.9112548828125,-56.884864807128906,-57.050811767578125,-53.669044494628906,-50.24948501586914,-46.91545486450195,-39.90319061279297,-27.922313690185547,-3.5030040740966797,64.71546936035156,-71.72723388671875,-73.54425048828125,-74.454345703125,-74.95569610595703,-73.2068862915039,-74.29023742675781,-71.9431381225586,-73.8563461303711,-77.33232116699219,-78.17948913574219,-76.95185852050781,-74.85840606689453,-74.9749984741211,-73.63004302978516,-77.16014862060547,-76.09765625,-75.58920288085938,-72.53502655029297,-70.80377197265625,-73.35063934326172,-73.21910858154297,-74.42618560791016,-71.36531066894531,-69.61448669433594,-72.45719909667969,-74.27706146240234,-75.15454864501953,-76.0453872680664,-77.81664276123047,-72.67121124267578,-72.95973205566406,-71.16191101074219,-72.38177490234375,-71.76646423339844,-69.37773895263672,-68.34053802490234,-69.46530151367188,-72.02322387695312,-72.54804992675781,-72.68134307861328,-72.222900390625,-69.87955474853516,-70.9218521118164,-73.974853515625,-71.6926040649414,-67.97460174560547,-66.45661163330078,-67.61865997314453,-68.849853515625,-68.3978271484375,-68.60899353027344,-67.60262298583984,-65.03517150878906,-62.93348693847656,-63.88893127441406,-61.386356353759766,-63.26561737060547,-62.17138671875,-63.623634338378906,-62.21415710449219,-63.634281158447266,-64.54161071777344,-64.00904846191406,-62.26500701904297,-63.998924255371094,-59.96300506591797,-59.85154342651367,-59.667991638183594,-57.416168212890625,-55.35512924194336,-55.49925231933594,-54.12928009033203,-52.87370300292969,-54.01021957397461,-52.787872314453125,-49.8170051574707,-46.699832916259766,-41.53986740112305,-32.824859619140625,-13.34493637084961,33.97197723388672,-70.30265808105469,-71.23438262939453,-72.484130859375,-72.85587310791016,-72.52009582519531,-72.63832092285156,-73.2772216796875,-73.75799560546875,-73.94485473632812,-73.4887466430664,-73.47969055175781,-74.71295166015625,-73.57550811767578,-74.9486083984375,-74.7274398803711,-76.29969024658203,-75.7300796508789,-74.51509094238281,-73.4595718383789,-71.15771484375,-72.3681640625,-72.98653411865234,-73.57293701171875,-74.27143096923828,-73.74174499511719,-73.63959503173828,-73.99243927001953,-74.36675262451172,-71.36808776855469,-72.90962219238281,-72.80509948730469,-70.8984146118164,-71.73832702636719,-72.91563415527344,-73.26444244384766,-69.06970977783203,-70.53138732910156,-69.86264038085938,-68.74908447265625,-71.70881652832031,-69.38937377929688,-73.87718963623047,-72.9156494140625,-72.80938720703125,-74.05349731445312,-72.8152847290039,-72.11326599121094,-71.8508529663086,-71.60816955566406,-68.9222183227539,-68.38482666015625,-69.47899627685547,-70.27835083007812,-69.36247253417969,-66.53585815429688,-65.72747802734375,-66.70079040527344,-65.49758911132812,-64.55138397216797,-64.76078033447266,-65.38720703125],\"yaxis\":\"y\",\"type\":\"scatter\"}],                        {\"template\":{\"data\":{\"histogram2dcontour\":[{\"type\":\"histogram2dcontour\",\"colorbar\":{\"outlinewidth\":0,\"ticks\":\"\"},\"colorscale\":[[0.0,\"#0d0887\"],[0.1111111111111111,\"#46039f\"],[0.2222222222222222,\"#7201a8\"],[0.3333333333333333,\"#9c179e\"],[0.4444444444444444,\"#bd3786\"],[0.5555555555555556,\"#d8576b\"],[0.6666666666666666,\"#ed7953\"],[0.7777777777777778,\"#fb9f3a\"],[0.8888888888888888,\"#fdca26\"],[1.0,\"#f0f921\"]]}],\"choropleth\":[{\"type\":\"choropleth\",\"colorbar\":{\"outlinewidth\":0,\"ticks\":\"\"}}],\"histogram2d\":[{\"type\":\"histogram2d\",\"colorbar\":{\"outlinewidth\":0,\"ticks\":\"\"},\"colorscale\":[[0.0,\"#0d0887\"],[0.1111111111111111,\"#46039f\"],[0.2222222222222222,\"#7201a8\"],[0.3333333333333333,\"#9c179e\"],[0.4444444444444444,\"#bd3786\"],[0.5555555555555556,\"#d8576b\"],[0.6666666666666666,\"#ed7953\"],[0.7777777777777778,\"#fb9f3a\"],[0.8888888888888888,\"#fdca26\"],[1.0,\"#f0f921\"]]}],\"heatmap\":[{\"type\":\"heatmap\",\"colorbar\":{\"outlinewidth\":0,\"ticks\":\"\"},\"colorscale\":[[0.0,\"#0d0887\"],[0.1111111111111111,\"#46039f\"],[0.2222222222222222,\"#7201a8\"],[0.3333333333333333,\"#9c179e\"],[0.4444444444444444,\"#bd3786\"],[0.5555555555555556,\"#d8576b\"],[0.6666666666666666,\"#ed7953\"],[0.7777777777777778,\"#fb9f3a\"],[0.8888888888888888,\"#fdca26\"],[1.0,\"#f0f921\"]]}],\"heatmapgl\":[{\"type\":\"heatmapgl\",\"colorbar\":{\"outlinewidth\":0,\"ticks\":\"\"},\"colorscale\":[[0.0,\"#0d0887\"],[0.1111111111111111,\"#46039f\"],[0.2222222222222222,\"#7201a8\"],[0.3333333333333333,\"#9c179e\"],[0.4444444444444444,\"#bd3786\"],[0.5555555555555556,\"#d8576b\"],[0.6666666666666666,\"#ed7953\"],[0.7777777777777778,\"#fb9f3a\"],[0.8888888888888888,\"#fdca26\"],[1.0,\"#f0f921\"]]}],\"contourcarpet\":[{\"type\":\"contourcarpet\",\"colorbar\":{\"outlinewidth\":0,\"ticks\":\"\"}}],\"contour\":[{\"type\":\"contour\",\"colorbar\":{\"outlinewidth\":0,\"ticks\":\"\"},\"colorscale\":[[0.0,\"#0d0887\"],[0.1111111111111111,\"#46039f\"],[0.2222222222222222,\"#7201a8\"],[0.3333333333333333,\"#9c179e\"],[0.4444444444444444,\"#bd3786\"],[0.5555555555555556,\"#d8576b\"],[0.6666666666666666,\"#ed7953\"],[0.7777777777777778,\"#fb9f3a\"],[0.8888888888888888,\"#fdca26\"],[1.0,\"#f0f921\"]]}],\"surface\":[{\"type\":\"surface\",\"colorbar\":{\"outlinewidth\":0,\"ticks\":\"\"},\"colorscale\":[[0.0,\"#0d0887\"],[0.1111111111111111,\"#46039f\"],[0.2222222222222222,\"#7201a8\"],[0.3333333333333333,\"#9c179e\"],[0.4444444444444444,\"#bd3786\"],[0.5555555555555556,\"#d8576b\"],[0.6666666666666666,\"#ed7953\"],[0.7777777777777778,\"#fb9f3a\"],[0.8888888888888888,\"#fdca26\"],[1.0,\"#f0f921\"]]}],\"mesh3d\":[{\"type\":\"mesh3d\",\"colorbar\":{\"outlinewidth\":0,\"ticks\":\"\"}}],\"scatter\":[{\"fillpattern\":{\"fillmode\":\"overlay\",\"size\":10,\"solidity\":0.2},\"type\":\"scatter\"}],\"parcoords\":[{\"type\":\"parcoords\",\"line\":{\"colorbar\":{\"outlinewidth\":0,\"ticks\":\"\"}}}],\"scatterpolargl\":[{\"type\":\"scatterpolargl\",\"marker\":{\"colorbar\":{\"outlinewidth\":0,\"ticks\":\"\"}}}],\"bar\":[{\"error_x\":{\"color\":\"#2a3f5f\"},\"error_y\":{\"color\":\"#2a3f5f\"},\"marker\":{\"line\":{\"color\":\"#E5ECF6\",\"width\":0.5},\"pattern\":{\"fillmode\":\"overlay\",\"size\":10,\"solidity\":0.2}},\"type\":\"bar\"}],\"scattergeo\":[{\"type\":\"scattergeo\",\"marker\":{\"colorbar\":{\"outlinewidth\":0,\"ticks\":\"\"}}}],\"scatterpolar\":[{\"type\":\"scatterpolar\",\"marker\":{\"colorbar\":{\"outlinewidth\":0,\"ticks\":\"\"}}}],\"histogram\":[{\"marker\":{\"pattern\":{\"fillmode\":\"overlay\",\"size\":10,\"solidity\":0.2}},\"type\":\"histogram\"}],\"scattergl\":[{\"type\":\"scattergl\",\"marker\":{\"colorbar\":{\"outlinewidth\":0,\"ticks\":\"\"}}}],\"scatter3d\":[{\"type\":\"scatter3d\",\"line\":{\"colorbar\":{\"outlinewidth\":0,\"ticks\":\"\"}},\"marker\":{\"colorbar\":{\"outlinewidth\":0,\"ticks\":\"\"}}}],\"scattermapbox\":[{\"type\":\"scattermapbox\",\"marker\":{\"colorbar\":{\"outlinewidth\":0,\"ticks\":\"\"}}}],\"scatterternary\":[{\"type\":\"scatterternary\",\"marker\":{\"colorbar\":{\"outlinewidth\":0,\"ticks\":\"\"}}}],\"scattercarpet\":[{\"type\":\"scattercarpet\",\"marker\":{\"colorbar\":{\"outlinewidth\":0,\"ticks\":\"\"}}}],\"carpet\":[{\"aaxis\":{\"endlinecolor\":\"#2a3f5f\",\"gridcolor\":\"white\",\"linecolor\":\"white\",\"minorgridcolor\":\"white\",\"startlinecolor\":\"#2a3f5f\"},\"baxis\":{\"endlinecolor\":\"#2a3f5f\",\"gridcolor\":\"white\",\"linecolor\":\"white\",\"minorgridcolor\":\"white\",\"startlinecolor\":\"#2a3f5f\"},\"type\":\"carpet\"}],\"table\":[{\"cells\":{\"fill\":{\"color\":\"#EBF0F8\"},\"line\":{\"color\":\"white\"}},\"header\":{\"fill\":{\"color\":\"#C8D4E3\"},\"line\":{\"color\":\"white\"}},\"type\":\"table\"}],\"barpolar\":[{\"marker\":{\"line\":{\"color\":\"#E5ECF6\",\"width\":0.5},\"pattern\":{\"fillmode\":\"overlay\",\"size\":10,\"solidity\":0.2}},\"type\":\"barpolar\"}],\"pie\":[{\"automargin\":true,\"type\":\"pie\"}]},\"layout\":{\"autotypenumbers\":\"strict\",\"colorway\":[\"#636efa\",\"#EF553B\",\"#00cc96\",\"#ab63fa\",\"#FFA15A\",\"#19d3f3\",\"#FF6692\",\"#B6E880\",\"#FF97FF\",\"#FECB52\"],\"font\":{\"color\":\"#2a3f5f\"},\"hovermode\":\"closest\",\"hoverlabel\":{\"align\":\"left\"},\"paper_bgcolor\":\"white\",\"plot_bgcolor\":\"#E5ECF6\",\"polar\":{\"bgcolor\":\"#E5ECF6\",\"angularaxis\":{\"gridcolor\":\"white\",\"linecolor\":\"white\",\"ticks\":\"\"},\"radialaxis\":{\"gridcolor\":\"white\",\"linecolor\":\"white\",\"ticks\":\"\"}},\"ternary\":{\"bgcolor\":\"#E5ECF6\",\"aaxis\":{\"gridcolor\":\"white\",\"linecolor\":\"white\",\"ticks\":\"\"},\"baxis\":{\"gridcolor\":\"white\",\"linecolor\":\"white\",\"ticks\":\"\"},\"caxis\":{\"gridcolor\":\"white\",\"linecolor\":\"white\",\"ticks\":\"\"}},\"coloraxis\":{\"colorbar\":{\"outlinewidth\":0,\"ticks\":\"\"}},\"colorscale\":{\"sequential\":[[0.0,\"#0d0887\"],[0.1111111111111111,\"#46039f\"],[0.2222222222222222,\"#7201a8\"],[0.3333333333333333,\"#9c179e\"],[0.4444444444444444,\"#bd3786\"],[0.5555555555555556,\"#d8576b\"],[0.6666666666666666,\"#ed7953\"],[0.7777777777777778,\"#fb9f3a\"],[0.8888888888888888,\"#fdca26\"],[1.0,\"#f0f921\"]],\"sequentialminus\":[[0.0,\"#0d0887\"],[0.1111111111111111,\"#46039f\"],[0.2222222222222222,\"#7201a8\"],[0.3333333333333333,\"#9c179e\"],[0.4444444444444444,\"#bd3786\"],[0.5555555555555556,\"#d8576b\"],[0.6666666666666666,\"#ed7953\"],[0.7777777777777778,\"#fb9f3a\"],[0.8888888888888888,\"#fdca26\"],[1.0,\"#f0f921\"]],\"diverging\":[[0,\"#8e0152\"],[0.1,\"#c51b7d\"],[0.2,\"#de77ae\"],[0.3,\"#f1b6da\"],[0.4,\"#fde0ef\"],[0.5,\"#f7f7f7\"],[0.6,\"#e6f5d0\"],[0.7,\"#b8e186\"],[0.8,\"#7fbc41\"],[0.9,\"#4d9221\"],[1,\"#276419\"]]},\"xaxis\":{\"gridcolor\":\"white\",\"linecolor\":\"white\",\"ticks\":\"\",\"title\":{\"standoff\":15},\"zerolinecolor\":\"white\",\"automargin\":true,\"zerolinewidth\":2},\"yaxis\":{\"gridcolor\":\"white\",\"linecolor\":\"white\",\"ticks\":\"\",\"title\":{\"standoff\":15},\"zerolinecolor\":\"white\",\"automargin\":true,\"zerolinewidth\":2},\"scene\":{\"xaxis\":{\"backgroundcolor\":\"#E5ECF6\",\"gridcolor\":\"white\",\"linecolor\":\"white\",\"showbackground\":true,\"ticks\":\"\",\"zerolinecolor\":\"white\",\"gridwidth\":2},\"yaxis\":{\"backgroundcolor\":\"#E5ECF6\",\"gridcolor\":\"white\",\"linecolor\":\"white\",\"showbackground\":true,\"ticks\":\"\",\"zerolinecolor\":\"white\",\"gridwidth\":2},\"zaxis\":{\"backgroundcolor\":\"#E5ECF6\",\"gridcolor\":\"white\",\"linecolor\":\"white\",\"showbackground\":true,\"ticks\":\"\",\"zerolinecolor\":\"white\",\"gridwidth\":2}},\"shapedefaults\":{\"line\":{\"color\":\"#2a3f5f\"}},\"annotationdefaults\":{\"arrowcolor\":\"#2a3f5f\",\"arrowhead\":0,\"arrowwidth\":1},\"geo\":{\"bgcolor\":\"white\",\"landcolor\":\"#E5ECF6\",\"subunitcolor\":\"white\",\"showland\":true,\"showlakes\":true,\"lakecolor\":\"white\"},\"title\":{\"x\":0.05},\"mapbox\":{\"style\":\"light\"}}},\"xaxis\":{\"anchor\":\"y\",\"domain\":[0.0,1.0],\"title\":{\"text\":\"index\"}},\"yaxis\":{\"anchor\":\"x\",\"domain\":[0.0,1.0],\"title\":{\"text\":\"value\"}},\"legend\":{\"title\":{\"text\":\"variable\"},\"tracegroupgap\":0},\"margin\":{\"t\":60}},                        {\"responsive\": true}                    ).then(function(){\n",
       "                            \n",
       "var gd = document.getElementById('b9274e09-537d-48b2-beec-6e947ac45b1d');\n",
       "var x = new MutationObserver(function (mutations, observer) {{\n",
       "        var display = window.getComputedStyle(gd).display;\n",
       "        if (!display || display === 'none') {{\n",
       "            console.log([gd, 'removed!']);\n",
       "            Plotly.purge(gd);\n",
       "            observer.disconnect();\n",
       "        }}\n",
       "}});\n",
       "\n",
       "// Listen for the removal of the full notebook cells\n",
       "var notebookContainer = gd.closest('#notebook-container');\n",
       "if (notebookContainer) {{\n",
       "    x.observe(notebookContainer, {childList: true});\n",
       "}}\n",
       "\n",
       "// Listen for the clearing of the current output cell\n",
       "var outputEl = gd.closest('.output');\n",
       "if (outputEl) {{\n",
       "    x.observe(outputEl, {childList: true});\n",
       "}}\n",
       "\n",
       "                        })                };                });            </script>        </div>"
      ]
     },
     "metadata": {},
     "output_type": "display_data"
    }
   ],
   "source": [
    "plotly.express.scatter(net[\"n.v\",0][:, :1])"
   ]
  },
  {
   "cell_type": "markdown",
   "id": "1b750309-596a-4285-925c-a901056935b3",
   "metadata": {},
   "source": [
    "# plot membrane recovery variable using plotly"
   ]
  },
  {
   "cell_type": "code",
   "execution_count": 15,
   "id": "beedb80f-8e6d-450e-beae-77a1ee3275b0",
   "metadata": {},
   "outputs": [
    {
     "data": {
      "application/vnd.plotly.v1+json": {
       "config": {
        "plotlyServerURL": "https://plot.ly"
       },
       "data": [
        {
         "hovertemplate": "variable=0<br>index=%{x}<br>value=%{y}<extra></extra>",
         "legendgroup": "0",
         "marker": {
          "color": "#636efa",
          "symbol": "circle"
         },
         "mode": "markers",
         "name": "0",
         "orientation": "v",
         "showlegend": true,
         "type": "scatter",
         "x": [
          0,
          1,
          2,
          3,
          4,
          5,
          6,
          7,
          8,
          9,
          10,
          11,
          12,
          13,
          14,
          15,
          16,
          17,
          18,
          19,
          20,
          21,
          22,
          23,
          24,
          25,
          26,
          27,
          28,
          29,
          30,
          31,
          32,
          33,
          34,
          35,
          36,
          37,
          38,
          39,
          40,
          41,
          42,
          43,
          44,
          45,
          46,
          47,
          48,
          49,
          50,
          51,
          52,
          53,
          54,
          55,
          56,
          57,
          58,
          59,
          60,
          61,
          62,
          63,
          64,
          65,
          66,
          67,
          68,
          69,
          70,
          71,
          72,
          73,
          74,
          75,
          76,
          77,
          78,
          79,
          80,
          81,
          82,
          83,
          84,
          85,
          86,
          87,
          88,
          89,
          90,
          91,
          92,
          93,
          94,
          95,
          96,
          97,
          98,
          99,
          100,
          101,
          102,
          103,
          104,
          105,
          106,
          107,
          108,
          109,
          110,
          111,
          112,
          113,
          114,
          115,
          116,
          117,
          118,
          119,
          120,
          121,
          122,
          123,
          124,
          125,
          126,
          127,
          128,
          129,
          130,
          131,
          132,
          133,
          134,
          135,
          136,
          137,
          138,
          139,
          140,
          141,
          142,
          143,
          144,
          145,
          146,
          147,
          148,
          149,
          150,
          151,
          152,
          153,
          154,
          155,
          156,
          157,
          158,
          159,
          160,
          161,
          162,
          163,
          164,
          165,
          166,
          167,
          168,
          169,
          170,
          171,
          172,
          173,
          174,
          175,
          176,
          177,
          178,
          179,
          180,
          181,
          182,
          183,
          184,
          185,
          186,
          187,
          188,
          189,
          190,
          191,
          192,
          193,
          194,
          195,
          196,
          197,
          198,
          199,
          200,
          201,
          202,
          203,
          204,
          205,
          206,
          207,
          208,
          209,
          210,
          211,
          212,
          213,
          214,
          215,
          216,
          217,
          218,
          219,
          220,
          221,
          222,
          223,
          224,
          225,
          226,
          227,
          228,
          229,
          230,
          231,
          232,
          233,
          234,
          235,
          236,
          237,
          238,
          239,
          240,
          241,
          242,
          243,
          244,
          245,
          246,
          247,
          248,
          249,
          250,
          251,
          252,
          253,
          254,
          255,
          256,
          257,
          258,
          259,
          260,
          261,
          262,
          263,
          264,
          265,
          266,
          267,
          268,
          269,
          270,
          271,
          272,
          273,
          274,
          275,
          276,
          277,
          278,
          279,
          280,
          281,
          282,
          283,
          284,
          285,
          286,
          287,
          288,
          289,
          290,
          291,
          292,
          293,
          294,
          295,
          296,
          297,
          298,
          299,
          300,
          301,
          302,
          303,
          304,
          305,
          306,
          307,
          308,
          309,
          310,
          311,
          312,
          313,
          314,
          315,
          316,
          317,
          318,
          319,
          320,
          321,
          322,
          323,
          324,
          325,
          326,
          327,
          328,
          329,
          330,
          331,
          332,
          333,
          334,
          335,
          336,
          337,
          338,
          339,
          340,
          341,
          342,
          343,
          344,
          345,
          346,
          347,
          348,
          349,
          350,
          351,
          352,
          353,
          354,
          355,
          356,
          357,
          358,
          359,
          360,
          361,
          362,
          363,
          364,
          365,
          366,
          367,
          368,
          369,
          370,
          371,
          372,
          373,
          374,
          375,
          376,
          377,
          378,
          379,
          380,
          381,
          382,
          383,
          384,
          385,
          386,
          387,
          388,
          389,
          390,
          391,
          392,
          393,
          394,
          395,
          396,
          397,
          398,
          399,
          400,
          401,
          402,
          403,
          404,
          405,
          406,
          407,
          408,
          409,
          410,
          411,
          412,
          413,
          414,
          415,
          416,
          417,
          418,
          419,
          420,
          421,
          422,
          423,
          424,
          425,
          426,
          427,
          428,
          429,
          430,
          431,
          432,
          433,
          434,
          435,
          436,
          437,
          438,
          439,
          440,
          441,
          442,
          443,
          444,
          445,
          446,
          447,
          448,
          449,
          450,
          451,
          452,
          453,
          454,
          455,
          456,
          457,
          458,
          459,
          460,
          461,
          462,
          463,
          464,
          465,
          466,
          467,
          468,
          469,
          470,
          471,
          472,
          473,
          474,
          475,
          476,
          477,
          478,
          479,
          480,
          481,
          482,
          483,
          484,
          485,
          486,
          487,
          488,
          489,
          490,
          491,
          492,
          493,
          494,
          495,
          496,
          497,
          498,
          499,
          500,
          501,
          502,
          503,
          504,
          505,
          506,
          507,
          508,
          509,
          510,
          511,
          512,
          513,
          514,
          515,
          516,
          517,
          518,
          519,
          520,
          521,
          522,
          523,
          524,
          525,
          526,
          527,
          528,
          529,
          530,
          531,
          532,
          533,
          534,
          535,
          536,
          537,
          538,
          539,
          540,
          541,
          542,
          543,
          544,
          545,
          546,
          547,
          548,
          549,
          550,
          551,
          552,
          553,
          554,
          555,
          556,
          557,
          558,
          559,
          560,
          561,
          562,
          563,
          564,
          565,
          566,
          567,
          568,
          569,
          570,
          571,
          572,
          573,
          574,
          575,
          576,
          577,
          578,
          579,
          580,
          581,
          582,
          583,
          584,
          585,
          586,
          587,
          588,
          589,
          590,
          591,
          592,
          593,
          594,
          595,
          596,
          597,
          598,
          599,
          600,
          601,
          602,
          603,
          604,
          605,
          606,
          607,
          608,
          609,
          610,
          611,
          612,
          613,
          614,
          615,
          616,
          617,
          618,
          619,
          620,
          621,
          622,
          623,
          624,
          625,
          626,
          627,
          628,
          629,
          630,
          631,
          632,
          633,
          634,
          635,
          636,
          637,
          638,
          639,
          640,
          641,
          642,
          643,
          644,
          645,
          646,
          647,
          648,
          649,
          650,
          651,
          652,
          653,
          654,
          655,
          656,
          657,
          658,
          659,
          660,
          661,
          662,
          663,
          664,
          665,
          666,
          667,
          668,
          669,
          670,
          671,
          672,
          673,
          674,
          675,
          676,
          677,
          678,
          679,
          680,
          681,
          682,
          683,
          684,
          685,
          686,
          687,
          688,
          689,
          690,
          691,
          692,
          693,
          694,
          695,
          696,
          697,
          698,
          699,
          700,
          701,
          702,
          703,
          704,
          705,
          706,
          707,
          708,
          709,
          710,
          711,
          712,
          713,
          714,
          715,
          716,
          717,
          718,
          719,
          720,
          721,
          722,
          723,
          724,
          725,
          726,
          727,
          728,
          729,
          730,
          731,
          732,
          733,
          734,
          735,
          736,
          737,
          738,
          739,
          740,
          741,
          742,
          743,
          744,
          745,
          746,
          747,
          748,
          749,
          750,
          751,
          752,
          753,
          754,
          755,
          756,
          757,
          758,
          759,
          760,
          761,
          762,
          763,
          764,
          765,
          766,
          767,
          768,
          769,
          770,
          771,
          772,
          773,
          774,
          775,
          776,
          777,
          778,
          779,
          780,
          781,
          782,
          783,
          784,
          785,
          786,
          787,
          788,
          789,
          790,
          791,
          792,
          793,
          794,
          795,
          796,
          797,
          798,
          799,
          800,
          801,
          802,
          803,
          804,
          805,
          806,
          807,
          808,
          809,
          810,
          811,
          812,
          813,
          814,
          815,
          816,
          817,
          818,
          819,
          820,
          821,
          822,
          823,
          824,
          825,
          826,
          827,
          828,
          829,
          830,
          831,
          832,
          833,
          834,
          835,
          836,
          837,
          838,
          839,
          840,
          841,
          842,
          843,
          844,
          845,
          846,
          847,
          848,
          849,
          850,
          851,
          852,
          853,
          854,
          855,
          856,
          857,
          858,
          859,
          860,
          861,
          862,
          863,
          864,
          865,
          866,
          867,
          868,
          869,
          870,
          871,
          872,
          873,
          874,
          875,
          876,
          877,
          878,
          879,
          880,
          881,
          882,
          883,
          884,
          885,
          886,
          887,
          888,
          889,
          890,
          891,
          892,
          893,
          894,
          895,
          896,
          897,
          898,
          899,
          900,
          901,
          902,
          903,
          904,
          905,
          906,
          907,
          908,
          909,
          910,
          911,
          912,
          913,
          914,
          915,
          916,
          917,
          918,
          919,
          920,
          921,
          922,
          923,
          924,
          925,
          926,
          927,
          928,
          929,
          930,
          931,
          932,
          933,
          934,
          935,
          936,
          937,
          938,
          939,
          940,
          941,
          942,
          943,
          944,
          945,
          946,
          947,
          948,
          949,
          950,
          951,
          952,
          953,
          954,
          955,
          956,
          957,
          958,
          959,
          960,
          961,
          962,
          963,
          964,
          965,
          966,
          967,
          968,
          969,
          970,
          971,
          972,
          973,
          974,
          975,
          976,
          977,
          978,
          979,
          980,
          981,
          982,
          983,
          984,
          985,
          986,
          987,
          988,
          989,
          990,
          991,
          992,
          993,
          994,
          995,
          996,
          997,
          998,
          999
         ],
         "xaxis": "x",
         "y": [
          -8.029000282287598,
          -8.048230171203613,
          -8.059039115905762,
          -8.059915542602539,
          -8.048943519592285,
          -8.009101867675781,
          -7.888309955596924,
          0.04801115393638611,
          -0.01569555699825287,
          -0.07831042259931564,
          -0.13622422516345978,
          -0.19214217364788055,
          -0.24721844494342804,
          -0.30027714371681213,
          -0.350538045167923,
          -0.3973446488380432,
          -0.4367758333683014,
          -0.4625639021396637,
          -0.46251240372657776,
          -0.388526976108551,
          7.507269382476807,
          7.401001453399658,
          7.295833587646484,
          7.191261291503906,
          7.088675022125244,
          6.987192153930664,
          6.88679313659668,
          6.786418914794922,
          6.687267303466797,
          6.58694314956665,
          6.486149787902832,
          6.3846893310546875,
          6.2845988273620605,
          6.18230676651001,
          6.079403877258301,
          5.9773173332214355,
          5.878892421722412,
          5.781103134155273,
          5.682845115661621,
          5.585509777069092,
          5.487406253814697,
          5.387766361236572,
          5.291182041168213,
          5.194011688232422,
          5.097053050994873,
          4.999472618103027,
          4.90678071975708,
          4.812661647796631,
          4.718753814697266,
          4.624539375305176,
          4.530690670013428,
          4.438391208648682,
          4.348019123077393,
          4.2577128410339355,
          4.1701273918151855,
          4.081837177276611,
          3.99320650100708,
          3.903447151184082,
          3.8151776790618896,
          3.728003740310669,
          3.642953872680664,
          3.558541774749756,
          3.4776878356933594,
          3.395603895187378,
          3.316279172897339,
          3.2397360801696777,
          3.1652443408966064,
          3.0950984954833984,
          3.027754068374634,
          2.963887929916382,
          2.904268980026245,
          2.85005521774292,
          2.8088834285736084,
          2.7934463024139404,
          2.854032278060913,
          10.731420516967773,
          10.607417106628418,
          10.482699394226074,
          10.355961799621582,
          10.226041793823242,
          10.097299575805664,
          9.970611572265625,
          9.844730377197266,
          9.718080520629883,
          9.592658042907715,
          9.469853401184082,
          9.34863567352295,
          9.229521751403809,
          9.110289573669434,
          8.992329597473145,
          8.873579978942871,
          8.753836631774902,
          8.636411666870117,
          8.517036437988281,
          8.398383140563965,
          8.283720016479492,
          8.170157432556152,
          8.053048133850098,
          7.9388909339904785,
          7.826982498168945,
          7.715525150299072,
          7.605533123016357,
          7.496627330780029,
          7.389397144317627,
          7.281258583068848,
          7.173128128051758,
          7.066657543182373,
          6.961019039154053,
          6.8557891845703125,
          6.751185894012451,
          6.648739337921143,
          6.5461201667785645,
          6.443106174468994,
          6.338286876678467,
          6.234585762023926,
          6.131070613861084,
          6.02953577041626,
          5.929862022399902,
          5.830758094787598,
          5.73149299621582,
          5.633684158325195,
          5.536288261413574,
          5.439752578735352,
          5.343861103057861,
          5.249565601348877,
          5.157149791717529,
          5.065271377563477,
          4.974532604217529,
          4.884422302246094,
          4.797241687774658,
          4.711529731750488,
          4.623622894287109,
          4.534092426300049,
          4.4447197914123535,
          4.358253002166748,
          4.2729573249816895,
          4.188710689544678,
          4.106380939483643,
          4.024337291717529,
          3.93987774848938,
          3.857201099395752,
          3.7743630409240723,
          3.6934988498687744,
          3.6120424270629883,
          3.53202223777771,
          3.4510579109191895,
          3.372098445892334,
          3.2961642742156982,
          3.2232472896575928,
          3.1520979404449463,
          3.0824029445648193,
          3.0137581825256348,
          2.9477362632751465,
          2.8856351375579834,
          2.8303110599517822,
          2.784359931945801,
          2.76037859916687,
          2.788292169570923,
          10.665329933166504,
          10.53874683380127,
          10.412935256958008,
          10.283824920654297,
          10.156667709350586,
          10.030485153198242,
          9.90460205078125,
          9.78023910522461,
          9.65543270111084,
          9.532154083251953,
          9.408085823059082,
          9.283273696899414,
          9.163012504577637,
          9.045153617858887,
          8.927136421203613,
          8.80691909790039,
          8.689332008361816,
          8.573469161987305,
          8.460780143737793,
          8.34742546081543,
          8.23398208618164,
          8.11938762664795,
          8.005256652832031,
          7.890605926513672,
          7.7750115394592285,
          7.660000324249268,
          7.546544075012207,
          7.434182167053223,
          7.321230411529541,
          7.207695484161377,
          7.097354888916016,
          6.990212440490723,
          6.882828712463379,
          6.777444839477539,
          6.673573970794678,
          6.572542190551758,
          6.469755172729492,
          6.368668556213379,
          6.267050743103027,
          6.16401481628418,
          6.062517166137695,
          5.96242618560791,
          5.864819526672363,
          5.767993450164795,
          5.674310684204102,
          5.579463005065918,
          5.483092784881592,
          5.3873291015625,
          5.29351282119751,
          5.201737403869629,
          5.110579490661621,
          5.018115520477295,
          4.924336910247803,
          4.830463409423828,
          4.736542701721191,
          4.643886089324951,
          4.552745342254639,
          4.462024211883545,
          4.368518829345703,
          4.276086807250977,
          4.186783313751221,
          4.095624923706055,
          4.008204936981201,
          3.9219517707824707,
          3.835606098175049,
          3.751560688018799,
          3.670581340789795,
          3.590041399002075,
          3.512486219406128,
          3.43583607673645,
          3.3583688735961914,
          3.2807235717773438,
          3.203880786895752,
          3.128380060195923,
          3.0567708015441895,
          2.986611843109131,
          2.9169890880584717,
          2.8462777137756348,
          2.7755627632141113,
          2.7064390182495117,
          2.639352321624756,
          2.5750467777252197,
          2.514859914779663,
          2.4588112831115723,
          2.4113426208496094,
          2.3789055347442627,
          2.3834915161132812,
          2.51218843460083,
          10.391366958618164,
          10.268128395080566,
          10.145984649658203,
          10.024516105651855,
          9.900802612304688,
          9.778373718261719,
          9.656485557556152,
          9.535266876220703,
          9.414788246154785,
          9.294960975646973,
          9.175396919250488,
          9.054932594299316,
          8.936222076416016,
          8.815643310546875,
          8.694308280944824,
          8.57324504852295,
          8.455578804016113,
          8.33898639678955,
          8.224647521972656,
          8.10830307006836,
          7.993433952331543,
          7.880887985229492,
          7.768929481506348,
          7.659502029418945,
          7.5503435134887695,
          7.438262462615967,
          7.327723026275635,
          7.2162322998046875,
          7.107555866241455,
          6.995942115783691,
          6.886913776397705,
          6.779345989227295,
          6.671942234039307,
          6.568601608276367,
          6.465574741363525,
          6.364675521850586,
          6.266616344451904,
          6.169161319732666,
          6.072717666625977,
          5.976408958435059,
          5.88144063949585,
          5.786456108093262,
          5.691062927246094,
          5.596949577331543,
          5.501060485839844,
          5.40454626083374,
          5.307873249053955,
          5.211456775665283,
          5.115686416625977,
          5.019680023193359,
          4.924704551696777,
          4.833735942840576,
          4.743357181549072,
          4.654650688171387,
          4.567127704620361,
          4.479647159576416,
          4.392483711242676,
          4.307552337646484,
          4.223841190338135,
          4.1409196853637695,
          4.057156085968018,
          3.97491455078125,
          3.8915398120880127,
          3.8092117309570312,
          3.7291746139526367,
          3.6461338996887207,
          3.561701774597168,
          3.47832989692688,
          3.3925082683563232,
          3.3077967166900635,
          3.222719669342041,
          3.137913703918457,
          3.0545217990875244,
          2.9742431640625,
          2.8934056758880615,
          2.81429123878479,
          2.7350566387176514,
          2.6584506034851074,
          2.580596923828125,
          2.504499912261963,
          2.4299728870391846,
          2.356476306915283,
          2.284227132797241,
          2.213721990585327,
          2.1456286907196045,
          2.0766921043395996,
          2.008039951324463,
          1.9416128396987915,
          1.877568244934082,
          1.815232276916504,
          1.7561242580413818,
          1.702745795249939,
          1.6573412418365479,
          1.6275062561035156,
          1.6323356628417969,
          1.752992033958435,
          9.635285377502441,
          9.515488624572754,
          9.395146369934082,
          9.275603294372559,
          9.158368110656738,
          9.040285110473633,
          8.923690795898438,
          8.808095932006836,
          8.690972328186035,
          8.573344230651855,
          8.456122398376465,
          8.338790893554688,
          8.223464965820312,
          8.109088897705078,
          7.993557929992676,
          7.879120349884033,
          7.76478910446167,
          7.651288032531738,
          7.54235315322876,
          7.436254978179932,
          7.332079887390137,
          7.227080345153809,
          7.121286392211914,
          7.012700080871582,
          6.904165267944336,
          6.796448707580566,
          6.692865371704102,
          6.589009761810303,
          6.485748767852783,
          6.386074066162109,
          6.2885870933532715,
          6.191023826599121,
          6.093954086303711,
          5.996152877807617,
          5.89921236038208,
          5.801870346069336,
          5.702826499938965,
          5.602512359619141,
          5.504176139831543,
          5.405792713165283,
          5.309752941131592,
          5.213526248931885,
          5.11754035949707,
          5.02345085144043,
          4.929803848266602,
          4.8364481925964355,
          4.744035720825195,
          4.654450416564941,
          4.563678741455078,
          4.4725518226623535,
          4.382044792175293,
          4.290870666503906,
          4.197064399719238,
          4.104948043823242,
          4.015870094299316,
          3.929318428039551,
          3.8429274559020996,
          3.756070852279663,
          3.6714107990264893,
          3.5874788761138916,
          3.502640724182129,
          3.417597532272339,
          3.333040475845337,
          3.251052141189575,
          3.169668674468994,
          3.0893867015838623,
          3.009852886199951,
          2.932554244995117,
          2.8536784648895264,
          2.77718448638916,
          2.703279495239258,
          2.6301777362823486,
          2.5577566623687744,
          2.486212730407715,
          2.4171040058135986,
          2.3507111072540283,
          2.284705400466919,
          2.220386028289795,
          2.159898042678833,
          2.1032416820526123,
          2.052318811416626,
          2.0121922492980957,
          1.9919675588607788,
          2.026779890060425,
          9.907522201538086,
          9.7872953414917,
          9.666204452514648,
          9.546177864074707,
          9.424604415893555,
          9.30260181427002,
          9.182533264160156,
          9.062052726745605,
          8.944135665893555,
          8.8255615234375,
          8.709787368774414,
          8.59505844116211,
          8.479915618896484,
          8.36585521697998,
          8.253300666809082,
          8.14144515991211,
          8.027292251586914,
          7.914024353027344,
          7.799746036529541,
          7.686840057373047,
          7.576954364776611,
          7.468448162078857,
          7.358824729919434,
          7.2477827072143555,
          7.139037609100342,
          7.029641151428223,
          6.92171049118042,
          6.814204692840576,
          6.706393718719482,
          6.599206924438477,
          6.4948601722717285,
          6.393616676330566,
          6.2921624183654785,
          6.19023323059082,
          6.089033126831055,
          5.988486289978027,
          5.887094497680664,
          5.784850120544434,
          5.685853958129883,
          5.589176654815674,
          5.491698265075684,
          5.394924640655518,
          5.298740386962891,
          5.203405857086182,
          5.110419273376465,
          5.015657901763916,
          4.91956901550293,
          4.823235034942627,
          4.729010581970215,
          4.636548042297363,
          4.543826580047607,
          4.456413745880127,
          4.3721113204956055,
          4.29099702835083,
          4.208596229553223,
          4.128859043121338,
          4.050897598266602,
          3.973112106323242,
          3.8952219486236572,
          3.817286968231201,
          3.7391068935394287,
          3.6590847969055176,
          3.577981472015381,
          3.4966959953308105,
          3.4158501625061035,
          3.334768533706665,
          3.252631425857544,
          3.170656204223633,
          3.08954119682312,
          3.0098888874053955,
          2.9309959411621094,
          2.854712963104248,
          2.7787771224975586,
          2.7046947479248047,
          2.6317548751831055,
          2.558799982070923,
          2.486018180847168,
          2.4124350547790527,
          2.3428728580474854,
          2.27341628074646,
          2.2016477584838867,
          2.132164716720581,
          2.065391778945923,
          2.0015432834625244,
          1.9411354064941406,
          1.884353756904602,
          1.8343238830566406,
          1.793041467666626,
          1.7717034816741943,
          1.8008005619049072,
          9.684178352355957,
          9.56812572479248,
          9.450590133666992,
          9.33073902130127,
          9.209307670593262,
          9.089550971984863,
          8.9695405960083,
          8.850704193115234,
          8.731971740722656,
          8.611525535583496,
          8.493473052978516,
          8.373888969421387,
          8.255937576293945,
          8.142027854919434,
          8.026605606079102,
          7.913754463195801,
          7.8024420738220215,
          7.691898822784424,
          7.577597141265869,
          7.463327407836914,
          7.350169658660889,
          7.239718437194824,
          7.130314826965332,
          7.023859024047852,
          6.917034149169922,
          6.8123698234558105,
          6.708763122558594,
          6.607056140899658,
          6.504158973693848,
          6.398876667022705,
          6.294714450836182,
          6.189621448516846,
          6.087974548339844,
          5.986076831817627,
          5.883991718292236,
          5.782962799072266,
          5.685546875,
          5.591381072998047,
          5.495095729827881,
          5.4007768630981445,
          5.309178352355957,
          5.21423864364624,
          5.119117736816406,
          5.02318000793457,
          4.92826509475708,
          4.837090492248535,
          4.750086784362793,
          4.663573741912842,
          4.577608108520508,
          4.491957187652588,
          4.40601110458374,
          4.320678234100342,
          4.2348246574401855,
          4.149930000305176,
          4.066265106201172,
          3.9846131801605225,
          3.9033055305480957,
          3.8231515884399414,
          3.742525815963745,
          3.662065029144287,
          3.5829758644104004,
          3.5032200813293457,
          3.422313690185547,
          3.3423221111297607,
          3.2617650032043457,
          3.179206132888794,
          3.0972344875335693,
          3.015594244003296,
          2.9382736682891846,
          2.8610267639160156,
          2.782680034637451,
          2.706364393234253,
          2.6310031414031982,
          2.556118965148926,
          2.4818367958068848,
          2.406771659851074,
          2.33132266998291,
          2.2570688724517822,
          2.18406081199646,
          2.113372325897217,
          2.043759346008301,
          1.9742233753204346,
          1.9065951108932495,
          1.8418841361999512,
          1.777853012084961,
          1.7170544862747192,
          1.658019781112671,
          1.6034212112426758,
          1.55607271194458,
          1.5217502117156982,
          1.5148125886917114,
          1.591493844985962,
          9.476717948913574,
          9.357379913330078,
          9.241111755371094,
          9.122273445129395,
          9.004395484924316,
          8.885726928710938,
          8.764092445373535,
          8.646825790405273,
          8.530427932739258,
          8.413223266601562,
          8.299652099609375,
          8.188396453857422,
          8.07645034790039,
          7.964993953704834,
          7.854010105133057,
          7.744174480438232,
          7.635960578918457,
          7.526702404022217,
          7.418351650238037,
          7.309006690979004,
          7.199682712554932,
          7.091506004333496,
          6.984179496765137,
          6.878410339355469,
          6.77213191986084,
          6.66500997543335,
          6.558698654174805,
          6.454932689666748,
          6.354015827178955,
          6.253121852874756,
          6.154524803161621,
          6.056033611297607,
          5.958186149597168,
          5.858319282531738,
          5.758987903594971,
          5.663156509399414,
          5.567802906036377,
          5.472616672515869,
          5.37637186050415,
          5.2788238525390625,
          5.183495998382568,
          5.089439868927002,
          4.996195316314697,
          4.901313781738281,
          4.810129165649414,
          4.7191081047058105,
          4.6282219886779785,
          4.53650426864624,
          4.444665908813477,
          4.353203296661377,
          4.2617692947387695,
          4.171219348907471,
          4.078561782836914,
          3.988065242767334,
          3.9006991386413574,
          3.8140032291412354,
          3.727701187133789,
          3.6408591270446777,
          3.5550177097320557,
          3.468705892562866,
          3.383683681488037,
          3.2990286350250244,
          3.216830253601074,
          3.1356024742126465,
          3.052725315093994,
          2.9742844104766846,
          2.894355535507202,
          2.8155930042266846,
          2.7359859943389893,
          2.656672954559326,
          2.5799431800842285,
          2.5046191215515137,
          2.4294369220733643,
          2.3511009216308594,
          2.273061513900757,
          2.1972222328186035,
          2.1200506687164307,
          2.045609474182129,
          1.972023844718933,
          1.89993155002594,
          1.830439805984497,
          1.7626081705093384,
          1.6975103616714478,
          1.634946584701538,
          1.5792691707611084,
          1.5301018953323364,
          1.490840196609497,
          1.471841812133789,
          1.5083202123641968,
          9.392898559570312,
          9.275347709655762,
          9.159087181091309,
          9.04073429107666,
          8.920473098754883,
          8.80591869354248,
          8.69253921508789,
          8.579477310180664,
          8.466056823730469,
          8.352802276611328,
          8.24151611328125,
          8.131484985351562,
          8.020439147949219,
          7.911113262176514,
          7.800436496734619,
          7.688288688659668,
          7.574952602386475,
          7.463355541229248,
          7.352369785308838,
          7.241566181182861,
          7.131710529327393,
          7.023768424987793,
          6.918179512023926,
          6.814717769622803,
          6.712491989135742,
          6.610090255737305,
          6.508817672729492,
          6.410465240478516,
          6.312685966491699,
          6.2147417068481445,
          6.116635799407959,
          6.018779754638672,
          5.920907497406006,
          5.8256096839904785,
          5.728055477142334,
          5.631286144256592,
          5.535208225250244,
          5.437117099761963,
          5.337685585021973,
          5.239524841308594,
          5.143057823181152,
          5.047468185424805,
          4.954273700714111,
          4.8634562492370605,
          4.773220062255859,
          4.684460639953613,
          4.5946149826049805,
          4.502959251403809,
          4.412838459014893,
          4.324154853820801,
          4.233924388885498,
          4.147583961486816,
          4.064271926879883,
          3.979740858078003,
          3.8937203884124756,
          3.804867744445801,
          3.7173781394958496,
          3.629779815673828,
          3.5410385131835938,
          3.4546518325805664,
          3.371381998062134,
          3.2894513607025146,
          3.2077090740203857,
          3.131084442138672,
          3.056462049484253,
          2.984006881713867,
          2.9156980514526367,
          2.850698232650757,
          2.7894954681396484,
          2.7315104007720947,
          2.6805343627929688,
          2.6438941955566406,
          2.6393375396728516,
          2.731989860534668,
          10.607775688171387,
          10.48006820678711,
          10.351685523986816,
          10.223889350891113,
          10.096081733703613,
          9.96918773651123,
          9.844475746154785,
          9.71916675567627,
          9.59448528289795,
          9.472098350524902,
          9.349878311157227,
          9.2296781539917,
          9.108587265014648,
          8.98709487915039,
          8.867234230041504,
          8.74862289428711,
          8.63203239440918,
          8.517743110656738,
          8.403321266174316,
          8.285208702087402,
          8.169739723205566,
          8.058156967163086,
          7.945231914520264,
          7.832894802093506,
          7.718841075897217,
          7.606964588165283,
          7.497154712677002,
          7.389902114868164,
          7.283447265625,
          7.176531791687012,
          7.071099281311035,
          6.966319561004639,
          6.8614020347595215,
          6.754430294036865,
          6.647649765014648,
          6.54189395904541,
          6.437577247619629,
          6.332265377044678,
          6.2278242111206055,
          6.1269636154174805,
          6.026959419250488,
          5.925760269165039,
          5.824408531188965,
          5.723519325256348,
          5.621931552886963,
          5.5237226486206055,
          5.424672603607178,
          5.323892116546631,
          5.225764274597168,
          5.129663944244385,
          5.034475803375244,
          4.9385762214660645,
          4.8442888259887695,
          4.7497992515563965,
          4.65854024887085,
          4.567306041717529,
          4.475341796875,
          4.387231826782227,
          4.296975612640381,
          4.210796356201172,
          4.123923301696777,
          4.037688255310059,
          3.951603889465332,
          3.867147445678711,
          3.783663749694824,
          3.7030551433563232,
          3.6223626136779785,
          3.541452646255493,
          3.459204912185669,
          3.3767001628875732,
          3.2945189476013184,
          3.213212251663208,
          3.133326768875122,
          3.05490779876709,
          2.977962017059326,
          2.903312921524048,
          2.8287181854248047,
          2.7556633949279785,
          2.68500018119812,
          2.6145243644714355,
          2.5477826595306396,
          2.4847941398620605,
          2.425454616546631,
          2.3734240531921387,
          2.333634614944458,
          2.3184633255004883,
          2.371586561203003,
          10.248002052307129,
          10.123217582702637,
          9.998147010803223,
          9.873200416564941,
          9.750627517700195,
          9.627584457397461,
          9.507503509521484,
          9.386109352111816,
          9.261846542358398,
          9.137357711791992,
          9.014719009399414,
          8.894786834716797,
          8.775338172912598,
          8.657831192016602,
          8.537382125854492,
          8.418597221374512,
          8.300914764404297,
          8.186875343322754,
          8.0751371383667,
          7.961410999298096,
          7.848384857177734,
          7.734716892242432,
          7.624678134918213,
          7.516940116882324,
          7.406898021697998,
          7.295586585998535,
          7.183954238891602,
          7.071989059448242,
          6.958812236785889,
          6.851346969604492,
          6.744130611419678,
          6.639247894287109,
          6.533669948577881,
          6.429234981536865,
          6.32771110534668,
          6.227732181549072,
          6.1271281242370605,
          6.024469375610352,
          5.921799182891846,
          5.819509029388428,
          5.718188762664795,
          5.619718074798584,
          5.520697593688965,
          5.419119358062744,
          5.32033109664917,
          5.225754737854004,
          5.133169174194336,
          5.039884567260742,
          4.945835113525391,
          4.852708339691162,
          4.759835720062256,
          4.668434143066406,
          4.580056667327881,
          4.494223117828369,
          4.407863140106201,
          4.324437618255615,
          4.23954963684082,
          4.156180381774902,
          4.071775913238525,
          3.9892029762268066,
          3.905622720718384,
          3.8215529918670654,
          3.738436222076416,
          3.6574790477752686,
          3.57519268989563,
          3.4973537921905518,
          3.420015573501587,
          3.343247413635254,
          3.2691149711608887,
          3.1974141597747803,
          3.1259279251098633,
          3.056169033050537,
          2.9880144596099854,
          2.9190642833709717,
          2.8516809940338135,
          2.7876055240631104,
          2.7269675731658936,
          2.671792984008789,
          2.6256091594696045,
          2.5991361141204834,
          2.620112419128418,
          10.496708869934082,
          10.372990608215332,
          10.248641967773438,
          10.124543190002441,
          10.001399993896484,
          9.878754615783691,
          9.756083488464355,
          9.633544921875,
          9.511432647705078,
          9.390386581420898,
          9.269954681396484,
          9.148892402648926,
          9.029572486877441,
          8.909476280212402,
          8.790201187133789,
          8.669950485229492,
          8.550870895385742,
          8.433601379394531,
          8.317974090576172,
          8.20522689819336,
          8.091832160949707,
          7.978386402130127,
          7.864921569824219,
          7.751325607299805,
          7.638827323913574,
          7.526993751525879,
          7.415366172790527,
          7.303922653198242,
          7.196034908294678,
          7.0871453285217285,
          6.978904724121094,
          6.873111724853516,
          6.767007827758789,
          6.660257339477539,
          6.553691387176514,
          6.451853275299072,
          6.349062442779541,
          6.247454643249512,
          6.147468090057373,
          6.045022010803223,
          5.945407390594482,
          5.841803073883057,
          5.739678382873535,
          5.6381707191467285,
          5.535926342010498,
          5.435431480407715,
          5.336141109466553,
          5.237609386444092,
          5.13981294631958,
          5.045191764831543,
          4.951581001281738,
          4.857344150543213,
          4.762779235839844,
          4.669602870941162,
          4.579719066619873,
          4.491093158721924,
          4.401937007904053,
          4.314429759979248,
          4.228306293487549,
          4.142404079437256,
          4.056304931640625
         ],
         "yaxis": "y"
        }
       ],
       "layout": {
        "autosize": true,
        "legend": {
         "title": {
          "text": "variable"
         },
         "tracegroupgap": 0
        },
        "margin": {
         "t": 60
        },
        "template": {
         "data": {
          "bar": [
           {
            "error_x": {
             "color": "#2a3f5f"
            },
            "error_y": {
             "color": "#2a3f5f"
            },
            "marker": {
             "line": {
              "color": "#E5ECF6",
              "width": 0.5
             },
             "pattern": {
              "fillmode": "overlay",
              "size": 10,
              "solidity": 0.2
             }
            },
            "type": "bar"
           }
          ],
          "barpolar": [
           {
            "marker": {
             "line": {
              "color": "#E5ECF6",
              "width": 0.5
             },
             "pattern": {
              "fillmode": "overlay",
              "size": 10,
              "solidity": 0.2
             }
            },
            "type": "barpolar"
           }
          ],
          "carpet": [
           {
            "aaxis": {
             "endlinecolor": "#2a3f5f",
             "gridcolor": "white",
             "linecolor": "white",
             "minorgridcolor": "white",
             "startlinecolor": "#2a3f5f"
            },
            "baxis": {
             "endlinecolor": "#2a3f5f",
             "gridcolor": "white",
             "linecolor": "white",
             "minorgridcolor": "white",
             "startlinecolor": "#2a3f5f"
            },
            "type": "carpet"
           }
          ],
          "choropleth": [
           {
            "colorbar": {
             "outlinewidth": 0,
             "ticks": ""
            },
            "type": "choropleth"
           }
          ],
          "contour": [
           {
            "colorbar": {
             "outlinewidth": 0,
             "ticks": ""
            },
            "colorscale": [
             [
              0,
              "#0d0887"
             ],
             [
              0.1111111111111111,
              "#46039f"
             ],
             [
              0.2222222222222222,
              "#7201a8"
             ],
             [
              0.3333333333333333,
              "#9c179e"
             ],
             [
              0.4444444444444444,
              "#bd3786"
             ],
             [
              0.5555555555555556,
              "#d8576b"
             ],
             [
              0.6666666666666666,
              "#ed7953"
             ],
             [
              0.7777777777777778,
              "#fb9f3a"
             ],
             [
              0.8888888888888888,
              "#fdca26"
             ],
             [
              1,
              "#f0f921"
             ]
            ],
            "type": "contour"
           }
          ],
          "contourcarpet": [
           {
            "colorbar": {
             "outlinewidth": 0,
             "ticks": ""
            },
            "type": "contourcarpet"
           }
          ],
          "heatmap": [
           {
            "colorbar": {
             "outlinewidth": 0,
             "ticks": ""
            },
            "colorscale": [
             [
              0,
              "#0d0887"
             ],
             [
              0.1111111111111111,
              "#46039f"
             ],
             [
              0.2222222222222222,
              "#7201a8"
             ],
             [
              0.3333333333333333,
              "#9c179e"
             ],
             [
              0.4444444444444444,
              "#bd3786"
             ],
             [
              0.5555555555555556,
              "#d8576b"
             ],
             [
              0.6666666666666666,
              "#ed7953"
             ],
             [
              0.7777777777777778,
              "#fb9f3a"
             ],
             [
              0.8888888888888888,
              "#fdca26"
             ],
             [
              1,
              "#f0f921"
             ]
            ],
            "type": "heatmap"
           }
          ],
          "heatmapgl": [
           {
            "colorbar": {
             "outlinewidth": 0,
             "ticks": ""
            },
            "colorscale": [
             [
              0,
              "#0d0887"
             ],
             [
              0.1111111111111111,
              "#46039f"
             ],
             [
              0.2222222222222222,
              "#7201a8"
             ],
             [
              0.3333333333333333,
              "#9c179e"
             ],
             [
              0.4444444444444444,
              "#bd3786"
             ],
             [
              0.5555555555555556,
              "#d8576b"
             ],
             [
              0.6666666666666666,
              "#ed7953"
             ],
             [
              0.7777777777777778,
              "#fb9f3a"
             ],
             [
              0.8888888888888888,
              "#fdca26"
             ],
             [
              1,
              "#f0f921"
             ]
            ],
            "type": "heatmapgl"
           }
          ],
          "histogram": [
           {
            "marker": {
             "pattern": {
              "fillmode": "overlay",
              "size": 10,
              "solidity": 0.2
             }
            },
            "type": "histogram"
           }
          ],
          "histogram2d": [
           {
            "colorbar": {
             "outlinewidth": 0,
             "ticks": ""
            },
            "colorscale": [
             [
              0,
              "#0d0887"
             ],
             [
              0.1111111111111111,
              "#46039f"
             ],
             [
              0.2222222222222222,
              "#7201a8"
             ],
             [
              0.3333333333333333,
              "#9c179e"
             ],
             [
              0.4444444444444444,
              "#bd3786"
             ],
             [
              0.5555555555555556,
              "#d8576b"
             ],
             [
              0.6666666666666666,
              "#ed7953"
             ],
             [
              0.7777777777777778,
              "#fb9f3a"
             ],
             [
              0.8888888888888888,
              "#fdca26"
             ],
             [
              1,
              "#f0f921"
             ]
            ],
            "type": "histogram2d"
           }
          ],
          "histogram2dcontour": [
           {
            "colorbar": {
             "outlinewidth": 0,
             "ticks": ""
            },
            "colorscale": [
             [
              0,
              "#0d0887"
             ],
             [
              0.1111111111111111,
              "#46039f"
             ],
             [
              0.2222222222222222,
              "#7201a8"
             ],
             [
              0.3333333333333333,
              "#9c179e"
             ],
             [
              0.4444444444444444,
              "#bd3786"
             ],
             [
              0.5555555555555556,
              "#d8576b"
             ],
             [
              0.6666666666666666,
              "#ed7953"
             ],
             [
              0.7777777777777778,
              "#fb9f3a"
             ],
             [
              0.8888888888888888,
              "#fdca26"
             ],
             [
              1,
              "#f0f921"
             ]
            ],
            "type": "histogram2dcontour"
           }
          ],
          "mesh3d": [
           {
            "colorbar": {
             "outlinewidth": 0,
             "ticks": ""
            },
            "type": "mesh3d"
           }
          ],
          "parcoords": [
           {
            "line": {
             "colorbar": {
              "outlinewidth": 0,
              "ticks": ""
             }
            },
            "type": "parcoords"
           }
          ],
          "pie": [
           {
            "automargin": true,
            "type": "pie"
           }
          ],
          "scatter": [
           {
            "fillpattern": {
             "fillmode": "overlay",
             "size": 10,
             "solidity": 0.2
            },
            "type": "scatter"
           }
          ],
          "scatter3d": [
           {
            "line": {
             "colorbar": {
              "outlinewidth": 0,
              "ticks": ""
             }
            },
            "marker": {
             "colorbar": {
              "outlinewidth": 0,
              "ticks": ""
             }
            },
            "type": "scatter3d"
           }
          ],
          "scattercarpet": [
           {
            "marker": {
             "colorbar": {
              "outlinewidth": 0,
              "ticks": ""
             }
            },
            "type": "scattercarpet"
           }
          ],
          "scattergeo": [
           {
            "marker": {
             "colorbar": {
              "outlinewidth": 0,
              "ticks": ""
             }
            },
            "type": "scattergeo"
           }
          ],
          "scattergl": [
           {
            "marker": {
             "colorbar": {
              "outlinewidth": 0,
              "ticks": ""
             }
            },
            "type": "scattergl"
           }
          ],
          "scattermapbox": [
           {
            "marker": {
             "colorbar": {
              "outlinewidth": 0,
              "ticks": ""
             }
            },
            "type": "scattermapbox"
           }
          ],
          "scatterpolar": [
           {
            "marker": {
             "colorbar": {
              "outlinewidth": 0,
              "ticks": ""
             }
            },
            "type": "scatterpolar"
           }
          ],
          "scatterpolargl": [
           {
            "marker": {
             "colorbar": {
              "outlinewidth": 0,
              "ticks": ""
             }
            },
            "type": "scatterpolargl"
           }
          ],
          "scatterternary": [
           {
            "marker": {
             "colorbar": {
              "outlinewidth": 0,
              "ticks": ""
             }
            },
            "type": "scatterternary"
           }
          ],
          "surface": [
           {
            "colorbar": {
             "outlinewidth": 0,
             "ticks": ""
            },
            "colorscale": [
             [
              0,
              "#0d0887"
             ],
             [
              0.1111111111111111,
              "#46039f"
             ],
             [
              0.2222222222222222,
              "#7201a8"
             ],
             [
              0.3333333333333333,
              "#9c179e"
             ],
             [
              0.4444444444444444,
              "#bd3786"
             ],
             [
              0.5555555555555556,
              "#d8576b"
             ],
             [
              0.6666666666666666,
              "#ed7953"
             ],
             [
              0.7777777777777778,
              "#fb9f3a"
             ],
             [
              0.8888888888888888,
              "#fdca26"
             ],
             [
              1,
              "#f0f921"
             ]
            ],
            "type": "surface"
           }
          ],
          "table": [
           {
            "cells": {
             "fill": {
              "color": "#EBF0F8"
             },
             "line": {
              "color": "white"
             }
            },
            "header": {
             "fill": {
              "color": "#C8D4E3"
             },
             "line": {
              "color": "white"
             }
            },
            "type": "table"
           }
          ]
         },
         "layout": {
          "annotationdefaults": {
           "arrowcolor": "#2a3f5f",
           "arrowhead": 0,
           "arrowwidth": 1
          },
          "autotypenumbers": "strict",
          "coloraxis": {
           "colorbar": {
            "outlinewidth": 0,
            "ticks": ""
           }
          },
          "colorscale": {
           "diverging": [
            [
             0,
             "#8e0152"
            ],
            [
             0.1,
             "#c51b7d"
            ],
            [
             0.2,
             "#de77ae"
            ],
            [
             0.3,
             "#f1b6da"
            ],
            [
             0.4,
             "#fde0ef"
            ],
            [
             0.5,
             "#f7f7f7"
            ],
            [
             0.6,
             "#e6f5d0"
            ],
            [
             0.7,
             "#b8e186"
            ],
            [
             0.8,
             "#7fbc41"
            ],
            [
             0.9,
             "#4d9221"
            ],
            [
             1,
             "#276419"
            ]
           ],
           "sequential": [
            [
             0,
             "#0d0887"
            ],
            [
             0.1111111111111111,
             "#46039f"
            ],
            [
             0.2222222222222222,
             "#7201a8"
            ],
            [
             0.3333333333333333,
             "#9c179e"
            ],
            [
             0.4444444444444444,
             "#bd3786"
            ],
            [
             0.5555555555555556,
             "#d8576b"
            ],
            [
             0.6666666666666666,
             "#ed7953"
            ],
            [
             0.7777777777777778,
             "#fb9f3a"
            ],
            [
             0.8888888888888888,
             "#fdca26"
            ],
            [
             1,
             "#f0f921"
            ]
           ],
           "sequentialminus": [
            [
             0,
             "#0d0887"
            ],
            [
             0.1111111111111111,
             "#46039f"
            ],
            [
             0.2222222222222222,
             "#7201a8"
            ],
            [
             0.3333333333333333,
             "#9c179e"
            ],
            [
             0.4444444444444444,
             "#bd3786"
            ],
            [
             0.5555555555555556,
             "#d8576b"
            ],
            [
             0.6666666666666666,
             "#ed7953"
            ],
            [
             0.7777777777777778,
             "#fb9f3a"
            ],
            [
             0.8888888888888888,
             "#fdca26"
            ],
            [
             1,
             "#f0f921"
            ]
           ]
          },
          "colorway": [
           "#636efa",
           "#EF553B",
           "#00cc96",
           "#ab63fa",
           "#FFA15A",
           "#19d3f3",
           "#FF6692",
           "#B6E880",
           "#FF97FF",
           "#FECB52"
          ],
          "font": {
           "color": "#2a3f5f"
          },
          "geo": {
           "bgcolor": "white",
           "lakecolor": "white",
           "landcolor": "#E5ECF6",
           "showlakes": true,
           "showland": true,
           "subunitcolor": "white"
          },
          "hoverlabel": {
           "align": "left"
          },
          "hovermode": "closest",
          "mapbox": {
           "style": "light"
          },
          "paper_bgcolor": "white",
          "plot_bgcolor": "#E5ECF6",
          "polar": {
           "angularaxis": {
            "gridcolor": "white",
            "linecolor": "white",
            "ticks": ""
           },
           "bgcolor": "#E5ECF6",
           "radialaxis": {
            "gridcolor": "white",
            "linecolor": "white",
            "ticks": ""
           }
          },
          "scene": {
           "xaxis": {
            "backgroundcolor": "#E5ECF6",
            "gridcolor": "white",
            "gridwidth": 2,
            "linecolor": "white",
            "showbackground": true,
            "ticks": "",
            "zerolinecolor": "white"
           },
           "yaxis": {
            "backgroundcolor": "#E5ECF6",
            "gridcolor": "white",
            "gridwidth": 2,
            "linecolor": "white",
            "showbackground": true,
            "ticks": "",
            "zerolinecolor": "white"
           },
           "zaxis": {
            "backgroundcolor": "#E5ECF6",
            "gridcolor": "white",
            "gridwidth": 2,
            "linecolor": "white",
            "showbackground": true,
            "ticks": "",
            "zerolinecolor": "white"
           }
          },
          "shapedefaults": {
           "line": {
            "color": "#2a3f5f"
           }
          },
          "ternary": {
           "aaxis": {
            "gridcolor": "white",
            "linecolor": "white",
            "ticks": ""
           },
           "baxis": {
            "gridcolor": "white",
            "linecolor": "white",
            "ticks": ""
           },
           "bgcolor": "#E5ECF6",
           "caxis": {
            "gridcolor": "white",
            "linecolor": "white",
            "ticks": ""
           }
          },
          "title": {
           "x": 0.05
          },
          "xaxis": {
           "automargin": true,
           "gridcolor": "white",
           "linecolor": "white",
           "ticks": "",
           "title": {
            "standoff": 15
           },
           "zerolinecolor": "white",
           "zerolinewidth": 2
          },
          "yaxis": {
           "automargin": true,
           "gridcolor": "white",
           "linecolor": "white",
           "ticks": "",
           "title": {
            "standoff": 15
           },
           "zerolinecolor": "white",
           "zerolinewidth": 2
          }
         }
        },
        "xaxis": {
         "anchor": "y",
         "autorange": true,
         "domain": [
          0,
          1
         ],
         "range": [
          -61.14253761691745,
          1060.1425376169175
         ],
         "title": {
          "text": "index"
         },
         "type": "linear"
        },
        "yaxis": {
         "anchor": "x",
         "autorange": true,
         "domain": [
          0,
          1
         ],
         "range": [
          -9.514887757188692,
          12.186392731553926
         ],
         "title": {
          "text": "value"
         },
         "type": "linear"
        }
       }
      },
      "image/png": "[encoded data removed]",
      "text/html": [
       "<div>                            <div id=\"251fc033-ce21-40e6-9e7c-30639363de2c\" class=\"plotly-graph-div\" style=\"height:525px; width:100%;\"></div>            <script type=\"text/javascript\">                require([\"plotly\"], function(Plotly) {                    window.PLOTLYENV=window.PLOTLYENV || {};                                    if (document.getElementById(\"251fc033-ce21-40e6-9e7c-30639363de2c\")) {                    Plotly.newPlot(                        \"251fc033-ce21-40e6-9e7c-30639363de2c\",                        [{\"hovertemplate\":\"variable=0<br>index=%{x}<br>value=%{y}<extra></extra>\",\"legendgroup\":\"0\",\"marker\":{\"color\":\"#636efa\",\"symbol\":\"circle\"},\"mode\":\"markers\",\"name\":\"0\",\"orientation\":\"v\",\"showlegend\":true,\"x\":[0,1,2,3,4,5,6,7,8,9,10,11,12,13,14,15,16,17,18,19,20,21,22,23,24,25,26,27,28,29,30,31,32,33,34,35,36,37,38,39,40,41,42,43,44,45,46,47,48,49,50,51,52,53,54,55,56,57,58,59,60,61,62,63,64,65,66,67,68,69,70,71,72,73,74,75,76,77,78,79,80,81,82,83,84,85,86,87,88,89,90,91,92,93,94,95,96,97,98,99,100,101,102,103,104,105,106,107,108,109,110,111,112,113,114,115,116,117,118,119,120,121,122,123,124,125,126,127,128,129,130,131,132,133,134,135,136,137,138,139,140,141,142,143,144,145,146,147,148,149,150,151,152,153,154,155,156,157,158,159,160,161,162,163,164,165,166,167,168,169,170,171,172,173,174,175,176,177,178,179,180,181,182,183,184,185,186,187,188,189,190,191,192,193,194,195,196,197,198,199,200,201,202,203,204,205,206,207,208,209,210,211,212,213,214,215,216,217,218,219,220,221,222,223,224,225,226,227,228,229,230,231,232,233,234,235,236,237,238,239,240,241,242,243,244,245,246,247,248,249,250,251,252,253,254,255,256,257,258,259,260,261,262,263,264,265,266,267,268,269,270,271,272,273,274,275,276,277,278,279,280,281,282,283,284,285,286,287,288,289,290,291,292,293,294,295,296,297,298,299,300,301,302,303,304,305,306,307,308,309,310,311,312,313,314,315,316,317,318,319,320,321,322,323,324,325,326,327,328,329,330,331,332,333,334,335,336,337,338,339,340,341,342,343,344,345,346,347,348,349,350,351,352,353,354,355,356,357,358,359,360,361,362,363,364,365,366,367,368,369,370,371,372,373,374,375,376,377,378,379,380,381,382,383,384,385,386,387,388,389,390,391,392,393,394,395,396,397,398,399,400,401,402,403,404,405,406,407,408,409,410,411,412,413,414,415,416,417,418,419,420,421,422,423,424,425,426,427,428,429,430,431,432,433,434,435,436,437,438,439,440,441,442,443,444,445,446,447,448,449,450,451,452,453,454,455,456,457,458,459,460,461,462,463,464,465,466,467,468,469,470,471,472,473,474,475,476,477,478,479,480,481,482,483,484,485,486,487,488,489,490,491,492,493,494,495,496,497,498,499,500,501,502,503,504,505,506,507,508,509,510,511,512,513,514,515,516,517,518,519,520,521,522,523,524,525,526,527,528,529,530,531,532,533,534,535,536,537,538,539,540,541,542,543,544,545,546,547,548,549,550,551,552,553,554,555,556,557,558,559,560,561,562,563,564,565,566,567,568,569,570,571,572,573,574,575,576,577,578,579,580,581,582,583,584,585,586,587,588,589,590,591,592,593,594,595,596,597,598,599,600,601,602,603,604,605,606,607,608,609,610,611,612,613,614,615,616,617,618,619,620,621,622,623,624,625,626,627,628,629,630,631,632,633,634,635,636,637,638,639,640,641,642,643,644,645,646,647,648,649,650,651,652,653,654,655,656,657,658,659,660,661,662,663,664,665,666,667,668,669,670,671,672,673,674,675,676,677,678,679,680,681,682,683,684,685,686,687,688,689,690,691,692,693,694,695,696,697,698,699,700,701,702,703,704,705,706,707,708,709,710,711,712,713,714,715,716,717,718,719,720,721,722,723,724,725,726,727,728,729,730,731,732,733,734,735,736,737,738,739,740,741,742,743,744,745,746,747,748,749,750,751,752,753,754,755,756,757,758,759,760,761,762,763,764,765,766,767,768,769,770,771,772,773,774,775,776,777,778,779,780,781,782,783,784,785,786,787,788,789,790,791,792,793,794,795,796,797,798,799,800,801,802,803,804,805,806,807,808,809,810,811,812,813,814,815,816,817,818,819,820,821,822,823,824,825,826,827,828,829,830,831,832,833,834,835,836,837,838,839,840,841,842,843,844,845,846,847,848,849,850,851,852,853,854,855,856,857,858,859,860,861,862,863,864,865,866,867,868,869,870,871,872,873,874,875,876,877,878,879,880,881,882,883,884,885,886,887,888,889,890,891,892,893,894,895,896,897,898,899,900,901,902,903,904,905,906,907,908,909,910,911,912,913,914,915,916,917,918,919,920,921,922,923,924,925,926,927,928,929,930,931,932,933,934,935,936,937,938,939,940,941,942,943,944,945,946,947,948,949,950,951,952,953,954,955,956,957,958,959,960,961,962,963,964,965,966,967,968,969,970,971,972,973,974,975,976,977,978,979,980,981,982,983,984,985,986,987,988,989,990,991,992,993,994,995,996,997,998,999],\"xaxis\":\"x\",\"y\":[-8.029000282287598,-8.048230171203613,-8.059039115905762,-8.059915542602539,-8.048943519592285,-8.009101867675781,-7.888309955596924,0.04801115393638611,-0.01569555699825287,-0.07831042259931564,-0.13622422516345978,-0.19214217364788055,-0.24721844494342804,-0.30027714371681213,-0.350538045167923,-0.3973446488380432,-0.4367758333683014,-0.4625639021396637,-0.46251240372657776,-0.388526976108551,7.507269382476807,7.401001453399658,7.295833587646484,7.191261291503906,7.088675022125244,6.987192153930664,6.88679313659668,6.786418914794922,6.687267303466797,6.58694314956665,6.486149787902832,6.3846893310546875,6.2845988273620605,6.18230676651001,6.079403877258301,5.9773173332214355,5.878892421722412,5.781103134155273,5.682845115661621,5.585509777069092,5.487406253814697,5.387766361236572,5.291182041168213,5.194011688232422,5.097053050994873,4.999472618103027,4.90678071975708,4.812661647796631,4.718753814697266,4.624539375305176,4.530690670013428,4.438391208648682,4.348019123077393,4.2577128410339355,4.1701273918151855,4.081837177276611,3.99320650100708,3.903447151184082,3.8151776790618896,3.728003740310669,3.642953872680664,3.558541774749756,3.4776878356933594,3.395603895187378,3.316279172897339,3.2397360801696777,3.1652443408966064,3.0950984954833984,3.027754068374634,2.963887929916382,2.904268980026245,2.85005521774292,2.8088834285736084,2.7934463024139404,2.854032278060913,10.731420516967773,10.607417106628418,10.482699394226074,10.355961799621582,10.226041793823242,10.097299575805664,9.970611572265625,9.844730377197266,9.718080520629883,9.592658042907715,9.469853401184082,9.34863567352295,9.229521751403809,9.110289573669434,8.992329597473145,8.873579978942871,8.753836631774902,8.636411666870117,8.517036437988281,8.398383140563965,8.283720016479492,8.170157432556152,8.053048133850098,7.9388909339904785,7.826982498168945,7.715525150299072,7.605533123016357,7.496627330780029,7.389397144317627,7.281258583068848,7.173128128051758,7.066657543182373,6.961019039154053,6.8557891845703125,6.751185894012451,6.648739337921143,6.5461201667785645,6.443106174468994,6.338286876678467,6.234585762023926,6.131070613861084,6.02953577041626,5.929862022399902,5.830758094787598,5.73149299621582,5.633684158325195,5.536288261413574,5.439752578735352,5.343861103057861,5.249565601348877,5.157149791717529,5.065271377563477,4.974532604217529,4.884422302246094,4.797241687774658,4.711529731750488,4.623622894287109,4.534092426300049,4.4447197914123535,4.358253002166748,4.2729573249816895,4.188710689544678,4.106380939483643,4.024337291717529,3.93987774848938,3.857201099395752,3.7743630409240723,3.6934988498687744,3.6120424270629883,3.53202223777771,3.4510579109191895,3.372098445892334,3.2961642742156982,3.2232472896575928,3.1520979404449463,3.0824029445648193,3.0137581825256348,2.9477362632751465,2.8856351375579834,2.8303110599517822,2.784359931945801,2.76037859916687,2.788292169570923,10.665329933166504,10.53874683380127,10.412935256958008,10.283824920654297,10.156667709350586,10.030485153198242,9.90460205078125,9.78023910522461,9.65543270111084,9.532154083251953,9.408085823059082,9.283273696899414,9.163012504577637,9.045153617858887,8.927136421203613,8.80691909790039,8.689332008361816,8.573469161987305,8.460780143737793,8.34742546081543,8.23398208618164,8.11938762664795,8.005256652832031,7.890605926513672,7.7750115394592285,7.660000324249268,7.546544075012207,7.434182167053223,7.321230411529541,7.207695484161377,7.097354888916016,6.990212440490723,6.882828712463379,6.777444839477539,6.673573970794678,6.572542190551758,6.469755172729492,6.368668556213379,6.267050743103027,6.16401481628418,6.062517166137695,5.96242618560791,5.864819526672363,5.767993450164795,5.674310684204102,5.579463005065918,5.483092784881592,5.3873291015625,5.29351282119751,5.201737403869629,5.110579490661621,5.018115520477295,4.924336910247803,4.830463409423828,4.736542701721191,4.643886089324951,4.552745342254639,4.462024211883545,4.368518829345703,4.276086807250977,4.186783313751221,4.095624923706055,4.008204936981201,3.9219517707824707,3.835606098175049,3.751560688018799,3.670581340789795,3.590041399002075,3.512486219406128,3.43583607673645,3.3583688735961914,3.2807235717773438,3.203880786895752,3.128380060195923,3.0567708015441895,2.986611843109131,2.9169890880584717,2.8462777137756348,2.7755627632141113,2.7064390182495117,2.639352321624756,2.5750467777252197,2.514859914779663,2.4588112831115723,2.4113426208496094,2.3789055347442627,2.3834915161132812,2.51218843460083,10.391366958618164,10.268128395080566,10.145984649658203,10.024516105651855,9.900802612304688,9.778373718261719,9.656485557556152,9.535266876220703,9.414788246154785,9.294960975646973,9.175396919250488,9.054932594299316,8.936222076416016,8.815643310546875,8.694308280944824,8.57324504852295,8.455578804016113,8.33898639678955,8.224647521972656,8.10830307006836,7.993433952331543,7.880887985229492,7.768929481506348,7.659502029418945,7.5503435134887695,7.438262462615967,7.327723026275635,7.2162322998046875,7.107555866241455,6.995942115783691,6.886913776397705,6.779345989227295,6.671942234039307,6.568601608276367,6.465574741363525,6.364675521850586,6.266616344451904,6.169161319732666,6.072717666625977,5.976408958435059,5.88144063949585,5.786456108093262,5.691062927246094,5.596949577331543,5.501060485839844,5.40454626083374,5.307873249053955,5.211456775665283,5.115686416625977,5.019680023193359,4.924704551696777,4.833735942840576,4.743357181549072,4.654650688171387,4.567127704620361,4.479647159576416,4.392483711242676,4.307552337646484,4.223841190338135,4.1409196853637695,4.057156085968018,3.97491455078125,3.8915398120880127,3.8092117309570312,3.7291746139526367,3.6461338996887207,3.561701774597168,3.47832989692688,3.3925082683563232,3.3077967166900635,3.222719669342041,3.137913703918457,3.0545217990875244,2.9742431640625,2.8934056758880615,2.81429123878479,2.7350566387176514,2.6584506034851074,2.580596923828125,2.504499912261963,2.4299728870391846,2.356476306915283,2.284227132797241,2.213721990585327,2.1456286907196045,2.0766921043395996,2.008039951324463,1.9416128396987915,1.877568244934082,1.815232276916504,1.7561242580413818,1.702745795249939,1.6573412418365479,1.6275062561035156,1.6323356628417969,1.752992033958435,9.635285377502441,9.515488624572754,9.395146369934082,9.275603294372559,9.158368110656738,9.040285110473633,8.923690795898438,8.808095932006836,8.690972328186035,8.573344230651855,8.456122398376465,8.338790893554688,8.223464965820312,8.109088897705078,7.993557929992676,7.879120349884033,7.76478910446167,7.651288032531738,7.54235315322876,7.436254978179932,7.332079887390137,7.227080345153809,7.121286392211914,7.012700080871582,6.904165267944336,6.796448707580566,6.692865371704102,6.589009761810303,6.485748767852783,6.386074066162109,6.2885870933532715,6.191023826599121,6.093954086303711,5.996152877807617,5.89921236038208,5.801870346069336,5.702826499938965,5.602512359619141,5.504176139831543,5.405792713165283,5.309752941131592,5.213526248931885,5.11754035949707,5.02345085144043,4.929803848266602,4.8364481925964355,4.744035720825195,4.654450416564941,4.563678741455078,4.4725518226623535,4.382044792175293,4.290870666503906,4.197064399719238,4.104948043823242,4.015870094299316,3.929318428039551,3.8429274559020996,3.756070852279663,3.6714107990264893,3.5874788761138916,3.502640724182129,3.417597532272339,3.333040475845337,3.251052141189575,3.169668674468994,3.0893867015838623,3.009852886199951,2.932554244995117,2.8536784648895264,2.77718448638916,2.703279495239258,2.6301777362823486,2.5577566623687744,2.486212730407715,2.4171040058135986,2.3507111072540283,2.284705400466919,2.220386028289795,2.159898042678833,2.1032416820526123,2.052318811416626,2.0121922492980957,1.9919675588607788,2.026779890060425,9.907522201538086,9.7872953414917,9.666204452514648,9.546177864074707,9.424604415893555,9.30260181427002,9.182533264160156,9.062052726745605,8.944135665893555,8.8255615234375,8.709787368774414,8.59505844116211,8.479915618896484,8.36585521697998,8.253300666809082,8.14144515991211,8.027292251586914,7.914024353027344,7.799746036529541,7.686840057373047,7.576954364776611,7.468448162078857,7.358824729919434,7.2477827072143555,7.139037609100342,7.029641151428223,6.92171049118042,6.814204692840576,6.706393718719482,6.599206924438477,6.4948601722717285,6.393616676330566,6.2921624183654785,6.19023323059082,6.089033126831055,5.988486289978027,5.887094497680664,5.784850120544434,5.685853958129883,5.589176654815674,5.491698265075684,5.394924640655518,5.298740386962891,5.203405857086182,5.110419273376465,5.015657901763916,4.91956901550293,4.823235034942627,4.729010581970215,4.636548042297363,4.543826580047607,4.456413745880127,4.3721113204956055,4.29099702835083,4.208596229553223,4.128859043121338,4.050897598266602,3.973112106323242,3.8952219486236572,3.817286968231201,3.7391068935394287,3.6590847969055176,3.577981472015381,3.4966959953308105,3.4158501625061035,3.334768533706665,3.252631425857544,3.170656204223633,3.08954119682312,3.0098888874053955,2.9309959411621094,2.854712963104248,2.7787771224975586,2.7046947479248047,2.6317548751831055,2.558799982070923,2.486018180847168,2.4124350547790527,2.3428728580474854,2.27341628074646,2.2016477584838867,2.132164716720581,2.065391778945923,2.0015432834625244,1.9411354064941406,1.884353756904602,1.8343238830566406,1.793041467666626,1.7717034816741943,1.8008005619049072,9.684178352355957,9.56812572479248,9.450590133666992,9.33073902130127,9.209307670593262,9.089550971984863,8.9695405960083,8.850704193115234,8.731971740722656,8.611525535583496,8.493473052978516,8.373888969421387,8.255937576293945,8.142027854919434,8.026605606079102,7.913754463195801,7.8024420738220215,7.691898822784424,7.577597141265869,7.463327407836914,7.350169658660889,7.239718437194824,7.130314826965332,7.023859024047852,6.917034149169922,6.8123698234558105,6.708763122558594,6.607056140899658,6.504158973693848,6.398876667022705,6.294714450836182,6.189621448516846,6.087974548339844,5.986076831817627,5.883991718292236,5.782962799072266,5.685546875,5.591381072998047,5.495095729827881,5.4007768630981445,5.309178352355957,5.21423864364624,5.119117736816406,5.02318000793457,4.92826509475708,4.837090492248535,4.750086784362793,4.663573741912842,4.577608108520508,4.491957187652588,4.40601110458374,4.320678234100342,4.2348246574401855,4.149930000305176,4.066265106201172,3.9846131801605225,3.9033055305480957,3.8231515884399414,3.742525815963745,3.662065029144287,3.5829758644104004,3.5032200813293457,3.422313690185547,3.3423221111297607,3.2617650032043457,3.179206132888794,3.0972344875335693,3.015594244003296,2.9382736682891846,2.8610267639160156,2.782680034637451,2.706364393234253,2.6310031414031982,2.556118965148926,2.4818367958068848,2.406771659851074,2.33132266998291,2.2570688724517822,2.18406081199646,2.113372325897217,2.043759346008301,1.9742233753204346,1.9065951108932495,1.8418841361999512,1.777853012084961,1.7170544862747192,1.658019781112671,1.6034212112426758,1.55607271194458,1.5217502117156982,1.5148125886917114,1.591493844985962,9.476717948913574,9.357379913330078,9.241111755371094,9.122273445129395,9.004395484924316,8.885726928710938,8.764092445373535,8.646825790405273,8.530427932739258,8.413223266601562,8.299652099609375,8.188396453857422,8.07645034790039,7.964993953704834,7.854010105133057,7.744174480438232,7.635960578918457,7.526702404022217,7.418351650238037,7.309006690979004,7.199682712554932,7.091506004333496,6.984179496765137,6.878410339355469,6.77213191986084,6.66500997543335,6.558698654174805,6.454932689666748,6.354015827178955,6.253121852874756,6.154524803161621,6.056033611297607,5.958186149597168,5.858319282531738,5.758987903594971,5.663156509399414,5.567802906036377,5.472616672515869,5.37637186050415,5.2788238525390625,5.183495998382568,5.089439868927002,4.996195316314697,4.901313781738281,4.810129165649414,4.7191081047058105,4.6282219886779785,4.53650426864624,4.444665908813477,4.353203296661377,4.2617692947387695,4.171219348907471,4.078561782836914,3.988065242767334,3.9006991386413574,3.8140032291412354,3.727701187133789,3.6408591270446777,3.5550177097320557,3.468705892562866,3.383683681488037,3.2990286350250244,3.216830253601074,3.1356024742126465,3.052725315093994,2.9742844104766846,2.894355535507202,2.8155930042266846,2.7359859943389893,2.656672954559326,2.5799431800842285,2.5046191215515137,2.4294369220733643,2.3511009216308594,2.273061513900757,2.1972222328186035,2.1200506687164307,2.045609474182129,1.972023844718933,1.89993155002594,1.830439805984497,1.7626081705093384,1.6975103616714478,1.634946584701538,1.5792691707611084,1.5301018953323364,1.490840196609497,1.471841812133789,1.5083202123641968,9.392898559570312,9.275347709655762,9.159087181091309,9.04073429107666,8.920473098754883,8.80591869354248,8.69253921508789,8.579477310180664,8.466056823730469,8.352802276611328,8.24151611328125,8.131484985351562,8.020439147949219,7.911113262176514,7.800436496734619,7.688288688659668,7.574952602386475,7.463355541229248,7.352369785308838,7.241566181182861,7.131710529327393,7.023768424987793,6.918179512023926,6.814717769622803,6.712491989135742,6.610090255737305,6.508817672729492,6.410465240478516,6.312685966491699,6.2147417068481445,6.116635799407959,6.018779754638672,5.920907497406006,5.8256096839904785,5.728055477142334,5.631286144256592,5.535208225250244,5.437117099761963,5.337685585021973,5.239524841308594,5.143057823181152,5.047468185424805,4.954273700714111,4.8634562492370605,4.773220062255859,4.684460639953613,4.5946149826049805,4.502959251403809,4.412838459014893,4.324154853820801,4.233924388885498,4.147583961486816,4.064271926879883,3.979740858078003,3.8937203884124756,3.804867744445801,3.7173781394958496,3.629779815673828,3.5410385131835938,3.4546518325805664,3.371381998062134,3.2894513607025146,3.2077090740203857,3.131084442138672,3.056462049484253,2.984006881713867,2.9156980514526367,2.850698232650757,2.7894954681396484,2.7315104007720947,2.6805343627929688,2.6438941955566406,2.6393375396728516,2.731989860534668,10.607775688171387,10.48006820678711,10.351685523986816,10.223889350891113,10.096081733703613,9.96918773651123,9.844475746154785,9.71916675567627,9.59448528289795,9.472098350524902,9.349878311157227,9.2296781539917,9.108587265014648,8.98709487915039,8.867234230041504,8.74862289428711,8.63203239440918,8.517743110656738,8.403321266174316,8.285208702087402,8.169739723205566,8.058156967163086,7.945231914520264,7.832894802093506,7.718841075897217,7.606964588165283,7.497154712677002,7.389902114868164,7.283447265625,7.176531791687012,7.071099281311035,6.966319561004639,6.8614020347595215,6.754430294036865,6.647649765014648,6.54189395904541,6.437577247619629,6.332265377044678,6.2278242111206055,6.1269636154174805,6.026959419250488,5.925760269165039,5.824408531188965,5.723519325256348,5.621931552886963,5.5237226486206055,5.424672603607178,5.323892116546631,5.225764274597168,5.129663944244385,5.034475803375244,4.9385762214660645,4.8442888259887695,4.7497992515563965,4.65854024887085,4.567306041717529,4.475341796875,4.387231826782227,4.296975612640381,4.210796356201172,4.123923301696777,4.037688255310059,3.951603889465332,3.867147445678711,3.783663749694824,3.7030551433563232,3.6223626136779785,3.541452646255493,3.459204912185669,3.3767001628875732,3.2945189476013184,3.213212251663208,3.133326768875122,3.05490779876709,2.977962017059326,2.903312921524048,2.8287181854248047,2.7556633949279785,2.68500018119812,2.6145243644714355,2.5477826595306396,2.4847941398620605,2.425454616546631,2.3734240531921387,2.333634614944458,2.3184633255004883,2.371586561203003,10.248002052307129,10.123217582702637,9.998147010803223,9.873200416564941,9.750627517700195,9.627584457397461,9.507503509521484,9.386109352111816,9.261846542358398,9.137357711791992,9.014719009399414,8.894786834716797,8.775338172912598,8.657831192016602,8.537382125854492,8.418597221374512,8.300914764404297,8.186875343322754,8.0751371383667,7.961410999298096,7.848384857177734,7.734716892242432,7.624678134918213,7.516940116882324,7.406898021697998,7.295586585998535,7.183954238891602,7.071989059448242,6.958812236785889,6.851346969604492,6.744130611419678,6.639247894287109,6.533669948577881,6.429234981536865,6.32771110534668,6.227732181549072,6.1271281242370605,6.024469375610352,5.921799182891846,5.819509029388428,5.718188762664795,5.619718074798584,5.520697593688965,5.419119358062744,5.32033109664917,5.225754737854004,5.133169174194336,5.039884567260742,4.945835113525391,4.852708339691162,4.759835720062256,4.668434143066406,4.580056667327881,4.494223117828369,4.407863140106201,4.324437618255615,4.23954963684082,4.156180381774902,4.071775913238525,3.9892029762268066,3.905622720718384,3.8215529918670654,3.738436222076416,3.6574790477752686,3.57519268989563,3.4973537921905518,3.420015573501587,3.343247413635254,3.2691149711608887,3.1974141597747803,3.1259279251098633,3.056169033050537,2.9880144596099854,2.9190642833709717,2.8516809940338135,2.7876055240631104,2.7269675731658936,2.671792984008789,2.6256091594696045,2.5991361141204834,2.620112419128418,10.496708869934082,10.372990608215332,10.248641967773438,10.124543190002441,10.001399993896484,9.878754615783691,9.756083488464355,9.633544921875,9.511432647705078,9.390386581420898,9.269954681396484,9.148892402648926,9.029572486877441,8.909476280212402,8.790201187133789,8.669950485229492,8.550870895385742,8.433601379394531,8.317974090576172,8.20522689819336,8.091832160949707,7.978386402130127,7.864921569824219,7.751325607299805,7.638827323913574,7.526993751525879,7.415366172790527,7.303922653198242,7.196034908294678,7.0871453285217285,6.978904724121094,6.873111724853516,6.767007827758789,6.660257339477539,6.553691387176514,6.451853275299072,6.349062442779541,6.247454643249512,6.147468090057373,6.045022010803223,5.945407390594482,5.841803073883057,5.739678382873535,5.6381707191467285,5.535926342010498,5.435431480407715,5.336141109466553,5.237609386444092,5.13981294631958,5.045191764831543,4.951581001281738,4.857344150543213,4.762779235839844,4.669602870941162,4.579719066619873,4.491093158721924,4.401937007904053,4.314429759979248,4.228306293487549,4.142404079437256,4.056304931640625],\"yaxis\":\"y\",\"type\":\"scatter\"}],                        {\"template\":{\"data\":{\"histogram2dcontour\":[{\"type\":\"histogram2dcontour\",\"colorbar\":{\"outlinewidth\":0,\"ticks\":\"\"},\"colorscale\":[[0.0,\"#0d0887\"],[0.1111111111111111,\"#46039f\"],[0.2222222222222222,\"#7201a8\"],[0.3333333333333333,\"#9c179e\"],[0.4444444444444444,\"#bd3786\"],[0.5555555555555556,\"#d8576b\"],[0.6666666666666666,\"#ed7953\"],[0.7777777777777778,\"#fb9f3a\"],[0.8888888888888888,\"#fdca26\"],[1.0,\"#f0f921\"]]}],\"choropleth\":[{\"type\":\"choropleth\",\"colorbar\":{\"outlinewidth\":0,\"ticks\":\"\"}}],\"histogram2d\":[{\"type\":\"histogram2d\",\"colorbar\":{\"outlinewidth\":0,\"ticks\":\"\"},\"colorscale\":[[0.0,\"#0d0887\"],[0.1111111111111111,\"#46039f\"],[0.2222222222222222,\"#7201a8\"],[0.3333333333333333,\"#9c179e\"],[0.4444444444444444,\"#bd3786\"],[0.5555555555555556,\"#d8576b\"],[0.6666666666666666,\"#ed7953\"],[0.7777777777777778,\"#fb9f3a\"],[0.8888888888888888,\"#fdca26\"],[1.0,\"#f0f921\"]]}],\"heatmap\":[{\"type\":\"heatmap\",\"colorbar\":{\"outlinewidth\":0,\"ticks\":\"\"},\"colorscale\":[[0.0,\"#0d0887\"],[0.1111111111111111,\"#46039f\"],[0.2222222222222222,\"#7201a8\"],[0.3333333333333333,\"#9c179e\"],[0.4444444444444444,\"#bd3786\"],[0.5555555555555556,\"#d8576b\"],[0.6666666666666666,\"#ed7953\"],[0.7777777777777778,\"#fb9f3a\"],[0.8888888888888888,\"#fdca26\"],[1.0,\"#f0f921\"]]}],\"heatmapgl\":[{\"type\":\"heatmapgl\",\"colorbar\":{\"outlinewidth\":0,\"ticks\":\"\"},\"colorscale\":[[0.0,\"#0d0887\"],[0.1111111111111111,\"#46039f\"],[0.2222222222222222,\"#7201a8\"],[0.3333333333333333,\"#9c179e\"],[0.4444444444444444,\"#bd3786\"],[0.5555555555555556,\"#d8576b\"],[0.6666666666666666,\"#ed7953\"],[0.7777777777777778,\"#fb9f3a\"],[0.8888888888888888,\"#fdca26\"],[1.0,\"#f0f921\"]]}],\"contourcarpet\":[{\"type\":\"contourcarpet\",\"colorbar\":{\"outlinewidth\":0,\"ticks\":\"\"}}],\"contour\":[{\"type\":\"contour\",\"colorbar\":{\"outlinewidth\":0,\"ticks\":\"\"},\"colorscale\":[[0.0,\"#0d0887\"],[0.1111111111111111,\"#46039f\"],[0.2222222222222222,\"#7201a8\"],[0.3333333333333333,\"#9c179e\"],[0.4444444444444444,\"#bd3786\"],[0.5555555555555556,\"#d8576b\"],[0.6666666666666666,\"#ed7953\"],[0.7777777777777778,\"#fb9f3a\"],[0.8888888888888888,\"#fdca26\"],[1.0,\"#f0f921\"]]}],\"surface\":[{\"type\":\"surface\",\"colorbar\":{\"outlinewidth\":0,\"ticks\":\"\"},\"colorscale\":[[0.0,\"#0d0887\"],[0.1111111111111111,\"#46039f\"],[0.2222222222222222,\"#7201a8\"],[0.3333333333333333,\"#9c179e\"],[0.4444444444444444,\"#bd3786\"],[0.5555555555555556,\"#d8576b\"],[0.6666666666666666,\"#ed7953\"],[0.7777777777777778,\"#fb9f3a\"],[0.8888888888888888,\"#fdca26\"],[1.0,\"#f0f921\"]]}],\"mesh3d\":[{\"type\":\"mesh3d\",\"colorbar\":{\"outlinewidth\":0,\"ticks\":\"\"}}],\"scatter\":[{\"fillpattern\":{\"fillmode\":\"overlay\",\"size\":10,\"solidity\":0.2},\"type\":\"scatter\"}],\"parcoords\":[{\"type\":\"parcoords\",\"line\":{\"colorbar\":{\"outlinewidth\":0,\"ticks\":\"\"}}}],\"scatterpolargl\":[{\"type\":\"scatterpolargl\",\"marker\":{\"colorbar\":{\"outlinewidth\":0,\"ticks\":\"\"}}}],\"bar\":[{\"error_x\":{\"color\":\"#2a3f5f\"},\"error_y\":{\"color\":\"#2a3f5f\"},\"marker\":{\"line\":{\"color\":\"#E5ECF6\",\"width\":0.5},\"pattern\":{\"fillmode\":\"overlay\",\"size\":10,\"solidity\":0.2}},\"type\":\"bar\"}],\"scattergeo\":[{\"type\":\"scattergeo\",\"marker\":{\"colorbar\":{\"outlinewidth\":0,\"ticks\":\"\"}}}],\"scatterpolar\":[{\"type\":\"scatterpolar\",\"marker\":{\"colorbar\":{\"outlinewidth\":0,\"ticks\":\"\"}}}],\"histogram\":[{\"marker\":{\"pattern\":{\"fillmode\":\"overlay\",\"size\":10,\"solidity\":0.2}},\"type\":\"histogram\"}],\"scattergl\":[{\"type\":\"scattergl\",\"marker\":{\"colorbar\":{\"outlinewidth\":0,\"ticks\":\"\"}}}],\"scatter3d\":[{\"type\":\"scatter3d\",\"line\":{\"colorbar\":{\"outlinewidth\":0,\"ticks\":\"\"}},\"marker\":{\"colorbar\":{\"outlinewidth\":0,\"ticks\":\"\"}}}],\"scattermapbox\":[{\"type\":\"scattermapbox\",\"marker\":{\"colorbar\":{\"outlinewidth\":0,\"ticks\":\"\"}}}],\"scatterternary\":[{\"type\":\"scatterternary\",\"marker\":{\"colorbar\":{\"outlinewidth\":0,\"ticks\":\"\"}}}],\"scattercarpet\":[{\"type\":\"scattercarpet\",\"marker\":{\"colorbar\":{\"outlinewidth\":0,\"ticks\":\"\"}}}],\"carpet\":[{\"aaxis\":{\"endlinecolor\":\"#2a3f5f\",\"gridcolor\":\"white\",\"linecolor\":\"white\",\"minorgridcolor\":\"white\",\"startlinecolor\":\"#2a3f5f\"},\"baxis\":{\"endlinecolor\":\"#2a3f5f\",\"gridcolor\":\"white\",\"linecolor\":\"white\",\"minorgridcolor\":\"white\",\"startlinecolor\":\"#2a3f5f\"},\"type\":\"carpet\"}],\"table\":[{\"cells\":{\"fill\":{\"color\":\"#EBF0F8\"},\"line\":{\"color\":\"white\"}},\"header\":{\"fill\":{\"color\":\"#C8D4E3\"},\"line\":{\"color\":\"white\"}},\"type\":\"table\"}],\"barpolar\":[{\"marker\":{\"line\":{\"color\":\"#E5ECF6\",\"width\":0.5},\"pattern\":{\"fillmode\":\"overlay\",\"size\":10,\"solidity\":0.2}},\"type\":\"barpolar\"}],\"pie\":[{\"automargin\":true,\"type\":\"pie\"}]},\"layout\":{\"autotypenumbers\":\"strict\",\"colorway\":[\"#636efa\",\"#EF553B\",\"#00cc96\",\"#ab63fa\",\"#FFA15A\",\"#19d3f3\",\"#FF6692\",\"#B6E880\",\"#FF97FF\",\"#FECB52\"],\"font\":{\"color\":\"#2a3f5f\"},\"hovermode\":\"closest\",\"hoverlabel\":{\"align\":\"left\"},\"paper_bgcolor\":\"white\",\"plot_bgcolor\":\"#E5ECF6\",\"polar\":{\"bgcolor\":\"#E5ECF6\",\"angularaxis\":{\"gridcolor\":\"white\",\"linecolor\":\"white\",\"ticks\":\"\"},\"radialaxis\":{\"gridcolor\":\"white\",\"linecolor\":\"white\",\"ticks\":\"\"}},\"ternary\":{\"bgcolor\":\"#E5ECF6\",\"aaxis\":{\"gridcolor\":\"white\",\"linecolor\":\"white\",\"ticks\":\"\"},\"baxis\":{\"gridcolor\":\"white\",\"linecolor\":\"white\",\"ticks\":\"\"},\"caxis\":{\"gridcolor\":\"white\",\"linecolor\":\"white\",\"ticks\":\"\"}},\"coloraxis\":{\"colorbar\":{\"outlinewidth\":0,\"ticks\":\"\"}},\"colorscale\":{\"sequential\":[[0.0,\"#0d0887\"],[0.1111111111111111,\"#46039f\"],[0.2222222222222222,\"#7201a8\"],[0.3333333333333333,\"#9c179e\"],[0.4444444444444444,\"#bd3786\"],[0.5555555555555556,\"#d8576b\"],[0.6666666666666666,\"#ed7953\"],[0.7777777777777778,\"#fb9f3a\"],[0.8888888888888888,\"#fdca26\"],[1.0,\"#f0f921\"]],\"sequentialminus\":[[0.0,\"#0d0887\"],[0.1111111111111111,\"#46039f\"],[0.2222222222222222,\"#7201a8\"],[0.3333333333333333,\"#9c179e\"],[0.4444444444444444,\"#bd3786\"],[0.5555555555555556,\"#d8576b\"],[0.6666666666666666,\"#ed7953\"],[0.7777777777777778,\"#fb9f3a\"],[0.8888888888888888,\"#fdca26\"],[1.0,\"#f0f921\"]],\"diverging\":[[0,\"#8e0152\"],[0.1,\"#c51b7d\"],[0.2,\"#de77ae\"],[0.3,\"#f1b6da\"],[0.4,\"#fde0ef\"],[0.5,\"#f7f7f7\"],[0.6,\"#e6f5d0\"],[0.7,\"#b8e186\"],[0.8,\"#7fbc41\"],[0.9,\"#4d9221\"],[1,\"#276419\"]]},\"xaxis\":{\"gridcolor\":\"white\",\"linecolor\":\"white\",\"ticks\":\"\",\"title\":{\"standoff\":15},\"zerolinecolor\":\"white\",\"automargin\":true,\"zerolinewidth\":2},\"yaxis\":{\"gridcolor\":\"white\",\"linecolor\":\"white\",\"ticks\":\"\",\"title\":{\"standoff\":15},\"zerolinecolor\":\"white\",\"automargin\":true,\"zerolinewidth\":2},\"scene\":{\"xaxis\":{\"backgroundcolor\":\"#E5ECF6\",\"gridcolor\":\"white\",\"linecolor\":\"white\",\"showbackground\":true,\"ticks\":\"\",\"zerolinecolor\":\"white\",\"gridwidth\":2},\"yaxis\":{\"backgroundcolor\":\"#E5ECF6\",\"gridcolor\":\"white\",\"linecolor\":\"white\",\"showbackground\":true,\"ticks\":\"\",\"zerolinecolor\":\"white\",\"gridwidth\":2},\"zaxis\":{\"backgroundcolor\":\"#E5ECF6\",\"gridcolor\":\"white\",\"linecolor\":\"white\",\"showbackground\":true,\"ticks\":\"\",\"zerolinecolor\":\"white\",\"gridwidth\":2}},\"shapedefaults\":{\"line\":{\"color\":\"#2a3f5f\"}},\"annotationdefaults\":{\"arrowcolor\":\"#2a3f5f\",\"arrowhead\":0,\"arrowwidth\":1},\"geo\":{\"bgcolor\":\"white\",\"landcolor\":\"#E5ECF6\",\"subunitcolor\":\"white\",\"showland\":true,\"showlakes\":true,\"lakecolor\":\"white\"},\"title\":{\"x\":0.05},\"mapbox\":{\"style\":\"light\"}}},\"xaxis\":{\"anchor\":\"y\",\"domain\":[0.0,1.0],\"title\":{\"text\":\"index\"}},\"yaxis\":{\"anchor\":\"x\",\"domain\":[0.0,1.0],\"title\":{\"text\":\"value\"}},\"legend\":{\"title\":{\"text\":\"variable\"},\"tracegroupgap\":0},\"margin\":{\"t\":60}},                        {\"responsive\": true}                    ).then(function(){\n",
       "                            \n",
       "var gd = document.getElementById('251fc033-ce21-40e6-9e7c-30639363de2c');\n",
       "var x = new MutationObserver(function (mutations, observer) {{\n",
       "        var display = window.getComputedStyle(gd).display;\n",
       "        if (!display || display === 'none') {{\n",
       "            console.log([gd, 'removed!']);\n",
       "            Plotly.purge(gd);\n",
       "            observer.disconnect();\n",
       "        }}\n",
       "}});\n",
       "\n",
       "// Listen for the removal of the full notebook cells\n",
       "var notebookContainer = gd.closest('#notebook-container');\n",
       "if (notebookContainer) {{\n",
       "    x.observe(notebookContainer, {childList: true});\n",
       "}}\n",
       "\n",
       "// Listen for the clearing of the current output cell\n",
       "var outputEl = gd.closest('.output');\n",
       "if (outputEl) {{\n",
       "    x.observe(outputEl, {childList: true});\n",
       "}}\n",
       "\n",
       "                        })                };                });            </script>        </div>"
      ]
     },
     "metadata": {},
     "output_type": "display_data"
    }
   ],
   "source": [
    "plotly.express.scatter(net['n.membrane_recovery',0][:, :1])"
   ]
  },
  {
   "cell_type": "markdown",
   "id": "6562bcaa-d89e-4d06-bc8e-1a67b2c87720",
   "metadata": {},
   "source": [
    "# plot membrane potential using matplotlib"
   ]
  },
  {
   "cell_type": "code",
   "execution_count": 16,
   "id": "bfece7ac-2c63-4ba2-af9c-debe1fe7abf5",
   "metadata": {},
   "outputs": [
    {
     "data": {
      "image/png": "[encoded data removed]",
      "text/plain": [
       "<Figure size 432x288 with 1 Axes>"
      ]
     },
     "metadata": {
      "needs_background": "light"
     },
     "output_type": "display_data"
    }
   ],
   "source": [
    "plt.plot(net['n.v',0][:, :1])\n",
    "plt.ylabel(\"membrane potential [mV]\")\n",
    "plt.xlabel(\"Time [s]\")\n",
    "plt.title(\"membrane potential diagram\")\n",
    "plt.show()"
   ]
  },
  {
   "cell_type": "markdown",
   "id": "a0244062-72ff-4d64-b588-548edabd54a2",
   "metadata": {},
   "source": [
    "# plot membrane recovery variable using matplotlib"
   ]
  },
  {
   "cell_type": "code",
   "execution_count": 17,
   "id": "2c18e466-1fec-417c-a047-2812284c6668",
   "metadata": {},
   "outputs": [
    {
     "data": {
      "image/png": "[encoded data removed]",
      "text/plain": [
       "<Figure size 432x288 with 1 Axes>"
      ]
     },
     "metadata": {
      "needs_background": "light"
     },
     "output_type": "display_data"
    }
   ],
   "source": [
    "plt.plot(net['n.membrane_recovery', 0][:, :1])\n",
    "plt.ylabel(\"membrane recovery variable [mV]\")\n",
    "plt.xlabel(\"Time [s]\")\n",
    "plt.title(\"membrane recovery variable\")\n",
    "plt.show()"
   ]
  },
  {
   "cell_type": "markdown",
   "id": "194e9cf2-f52f-4144-8bd7-dee7fc61c80f",
   "metadata": {},
   "source": [
    "# plot F_I_Curve diagram"
   ]
  },
  {
   "cell_type": "code",
   "execution_count": null,
   "id": "b22fddf8-7245-4786-94b5-e0af379cca1b",
   "metadata": {},
   "outputs": [],
   "source": [
    "def F_I_Curve(a, b, c, d):\n",
    "    I_EXC_STEP = torch.zeros(size=(ITER,EXC_SIZE))\n",
    "    I_EXC_STEP[150:750,:] = 0.0\n",
    "    n_config = {\n",
    "        \"c\" : c,\n",
    "        \"E_I\" : I_EXC_STEP,\n",
    "        \"a\": a,\n",
    "        \"b\": b,\n",
    "        \"d\": d,\n",
    "        \"dt\": 0.5,\n",
    "        \"u\": -8.,\n",
    "        \"v_rest\": -65.,}\n",
    "    freqs = []\n",
    "    for I in torch.arange(0.0, 40., 1.):\n",
    "        I_EXC_STEP[150:750,:] = I\n",
    "        n_config[\"E_I\"] = I_EXC_STEP\n",
    "        fi_net = Network()\n",
    "        ng_exc = NeuronGroup(\n",
    "            net=fi_net,\n",
    "            size=1,\n",
    "            behavior={\n",
    "                1: Izhikevich(**n_config),\n",
    "                2: Izhikevich_input(),\n",
    "                9: EventRecorder([\"spikes\"]),\n",
    "            },)\n",
    "        SynapseGroup(src=ng_exc, dst=ng_exc, net=fi_net, tag=\"GLUTAMATE\")\n",
    "        fi_net.initialize()\n",
    "        fi_net.simulate_iterations(ITER)\n",
    "        freqs.append(fi_net['spikes.i',0].size()[0] / (750-150+1))\n",
    "    \n",
    "    plt.plot(freqs)\n",
    "    plt.ylabel(\"f=1/T\")\n",
    "    plt.xlabel(\"I(t)\")\n",
    "    plt.title(\"Frequency Current Relation\")\n",
    "    plt.show()\n",
    "    \n",
    "F_I_Curve(0.1,0.05,-65,8)"
   ]
  },
  {
   "cell_type": "code",
   "execution_count": null,
   "id": "44918ef7-b399-4ed5-81e3-0dad8b0372fe",
   "metadata": {},
   "outputs": [],
   "source": []
  }
 ],
 "metadata": {
  "kernelspec": {
   "display_name": "Python 3 (ipykernel)",
   "language": "python",
   "name": "python3"
  },
  "language_info": {
   "codemirror_mode": {
    "name": "ipython",
    "version": 3
   },
   "file_extension": ".py",
   "mimetype": "text/x-python",
   "name": "python",
   "nbconvert_exporter": "python",
   "pygments_lexer": "ipython3",
   "version": "3.10.2"
  }
 },
 "nbformat": 4,
 "nbformat_minor": 5
}
